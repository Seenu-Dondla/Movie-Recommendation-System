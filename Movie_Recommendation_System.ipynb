{
  "nbformat": 4,
  "nbformat_minor": 0,
  "metadata": {
    "colab": {
      "provenance": []
    },
    "kernelspec": {
      "name": "python3",
      "display_name": "Python 3"
    },
    "language_info": {
      "name": "python"
    }
  },
  "cells": [
    {
      "cell_type": "markdown",
      "source": [
        "# **Movie Recommendation System**"
      ],
      "metadata": {
        "id": "R86xoUpIkkNH"
      }
    },
    {
      "cell_type": "markdown",
      "source": [
        "**Recommender System** is a system that seeks to predict or filter preferences according to the user's choices. Recommender systems are utilized in a variety of areas including movies, music, news, books, research articles, search queries, social tags, and products in general. Recommender systems produce a list of recommendations in any of the two ways :\n",
        "\n",
        "**Collaborative filtering**: Collaborative filtering approaches build a model from the user's past behavior (ie. items purchased or searched by the user) as well as similar decisions made by other users. This model is then used to predict items (or ratings for items) that users may have an interest in.\n",
        "\n",
        "**Content-based filtering bold text**: Content-based filtering approaches uses a series of discrete characteristics of an item in order to recommend additional items with similar properties. Content-based filtering methods are totally based on a description of the item and a profile of the user's preferences. It recommends items based on the user's past preferences. Let's develop a basic recommendation system using Python and Pandas.\n",
        "\n",
        "Let's develop a basic recommendation system by suggesting items that are most similar to a particular item, in this case, movies. It just tells what movies/items are most similar to the user's movie choice"
      ],
      "metadata": {
        "id": "9xFSqPtjnQvZ"
      }
    },
    {
      "cell_type": "markdown",
      "source": [
        "# **Import Library**"
      ],
      "metadata": {
        "id": "VN0JuqvGnyFo"
      }
    },
    {
      "cell_type": "code",
      "source": [
        "import pandas as pd\n",
        "import numpy as np"
      ],
      "metadata": {
        "id": "4bEKsZs1n5T1"
      },
      "execution_count": 16,
      "outputs": []
    },
    {
      "cell_type": "markdown",
      "source": [
        "# **Import Data**"
      ],
      "metadata": {
        "id": "J1NEZN2sorog"
      }
    },
    {
      "cell_type": "code",
      "source": [
        "df = pd.read_csv(r\"/content/Movies Recommendation.csv\")"
      ],
      "metadata": {
        "id": "nE77AlmFoyb6"
      },
      "execution_count": 2,
      "outputs": []
    },
    {
      "cell_type": "code",
      "source": [
        "df.head()"
      ],
      "metadata": {
        "colab": {
          "base_uri": "https://localhost:8080/",
          "height": 672
        },
        "id": "4rx06xfjpGOw",
        "outputId": "11b606eb-7d69-40ea-f497-3a17941f9728"
      },
      "execution_count": 3,
      "outputs": [
        {
          "output_type": "execute_result",
          "data": {
            "text/plain": [
              "   Movie_ID      Movie_Title                       Movie_Genre Movie_Language  \\\n",
              "0         1       Four Rooms                      Crime Comedy             en   \n",
              "1         2        Star Wars  Adventure Action Science Fiction             en   \n",
              "2         3     Finding Nemo                  Animation Family             en   \n",
              "3         4     Forrest Gump              Comedy Drama Romance             en   \n",
              "4         5  American Beauty                             Drama             en   \n",
              "\n",
              "   Movie_Budget  Movie_Popularity Movie_Release_Date  Movie_Revenue  \\\n",
              "0       4000000         22.876230         09-12-1995        4300000   \n",
              "1      11000000        126.393695         25-05-1977      775398007   \n",
              "2      94000000         85.688789         30-05-2003      940335536   \n",
              "3      55000000        138.133331         06-07-1994      677945399   \n",
              "4      15000000         80.878605         15-09-1999      356296601   \n",
              "\n",
              "   Movie_Runtime  Movie_Vote  ...  \\\n",
              "0           98.0         6.5  ...   \n",
              "1          121.0         8.1  ...   \n",
              "2          100.0         7.6  ...   \n",
              "3          142.0         8.2  ...   \n",
              "4          122.0         7.9  ...   \n",
              "\n",
              "                                      Movie_Homepage  \\\n",
              "0                                                NaN   \n",
              "1  http://www.starwars.com/films/star-wars-episod...   \n",
              "2              http://movies.disney.com/finding-nemo   \n",
              "3                                                NaN   \n",
              "4                      http://www.dreamworks.com/ab/   \n",
              "\n",
              "                                      Movie_Keywords  \\\n",
              "0          hotel new year's eve witch bet hotel room   \n",
              "1        android galaxy hermit death star lightsaber   \n",
              "2  father son relationship harbor underwater fish...   \n",
              "3  vietnam veteran hippie mentally disabled runni...   \n",
              "4  male nudity female nudity adultery midlife cri...   \n",
              "\n",
              "                                      Movie_Overview  \\\n",
              "0  It's Ted the Bellhop's first night on the job....   \n",
              "1  Princess Leia is captured and held hostage by ...   \n",
              "2  Nemo, an adventurous young clownfish, is unexp...   \n",
              "3  A man with a low IQ has accomplished great thi...   \n",
              "4  Lester Burnham, a depressed suburban father in...   \n",
              "\n",
              "                              Movie_Production_House  \\\n",
              "0  [{\"name\": \"Miramax Films\", \"id\": 14}, {\"name\":...   \n",
              "1  [{\"name\": \"Lucasfilm\", \"id\": 1}, {\"name\": \"Twe...   \n",
              "2     [{\"name\": \"Pixar Animation Studios\", \"id\": 3}]   \n",
              "3          [{\"name\": \"Paramount Pictures\", \"id\": 4}]   \n",
              "4  [{\"name\": \"DreamWorks SKG\", \"id\": 27}, {\"name\"...   \n",
              "\n",
              "                            Movie_Production_Country  \\\n",
              "0  [{\"iso_3166_1\": \"US\", \"name\": \"United States o...   \n",
              "1  [{\"iso_3166_1\": \"US\", \"name\": \"United States o...   \n",
              "2  [{\"iso_3166_1\": \"US\", \"name\": \"United States o...   \n",
              "3  [{\"iso_3166_1\": \"US\", \"name\": \"United States o...   \n",
              "4  [{\"iso_3166_1\": \"US\", \"name\": \"United States o...   \n",
              "\n",
              "                      Movie_Spoken_Language  \\\n",
              "0  [{\"iso_639_1\": \"en\", \"name\": \"English\"}]   \n",
              "1  [{\"iso_639_1\": \"en\", \"name\": \"English\"}]   \n",
              "2  [{\"iso_639_1\": \"en\", \"name\": \"English\"}]   \n",
              "3  [{\"iso_639_1\": \"en\", \"name\": \"English\"}]   \n",
              "4  [{\"iso_639_1\": \"en\", \"name\": \"English\"}]   \n",
              "\n",
              "                                       Movie_Tagline  \\\n",
              "0  Twelve outrageous guests. Four scandalous requ...   \n",
              "1       A long time ago in a galaxy far, far away...   \n",
              "2  There are 3.7 trillion fish in the ocean, they...   \n",
              "3  The world will never be the same, once you've ...   \n",
              "4                                       Look closer.   \n",
              "\n",
              "                                          Movie_Cast  \\\n",
              "0  Tim Roth Antonio Banderas Jennifer Beals Madon...   \n",
              "1  Mark Hamill Harrison Ford Carrie Fisher Peter ...   \n",
              "2  Albert Brooks Ellen DeGeneres Alexander Gould ...   \n",
              "3  Tom Hanks Robin Wright Gary Sinise Mykelti Wil...   \n",
              "4  Kevin Spacey Annette Bening Thora Birch Wes Be...   \n",
              "\n",
              "                                          Movie_Crew   Movie_Director  \n",
              "0  [{'name': 'Allison Anders', 'gender': 1, 'depa...   Allison Anders  \n",
              "1  [{'name': 'George Lucas', 'gender': 2, 'depart...     George Lucas  \n",
              "2  [{'name': 'Andrew Stanton', 'gender': 2, 'depa...   Andrew Stanton  \n",
              "3  [{'name': 'Alan Silvestri', 'gender': 2, 'depa...  Robert Zemeckis  \n",
              "4  [{'name': 'Thomas Newman', 'gender': 2, 'depar...       Sam Mendes  \n",
              "\n",
              "[5 rows x 21 columns]"
            ],
            "text/html": [
              "\n",
              "  <div id=\"df-6a3d7409-dc03-4d20-b281-db78309bee1b\" class=\"colab-df-container\">\n",
              "    <div>\n",
              "<style scoped>\n",
              "    .dataframe tbody tr th:only-of-type {\n",
              "        vertical-align: middle;\n",
              "    }\n",
              "\n",
              "    .dataframe tbody tr th {\n",
              "        vertical-align: top;\n",
              "    }\n",
              "\n",
              "    .dataframe thead th {\n",
              "        text-align: right;\n",
              "    }\n",
              "</style>\n",
              "<table border=\"1\" class=\"dataframe\">\n",
              "  <thead>\n",
              "    <tr style=\"text-align: right;\">\n",
              "      <th></th>\n",
              "      <th>Movie_ID</th>\n",
              "      <th>Movie_Title</th>\n",
              "      <th>Movie_Genre</th>\n",
              "      <th>Movie_Language</th>\n",
              "      <th>Movie_Budget</th>\n",
              "      <th>Movie_Popularity</th>\n",
              "      <th>Movie_Release_Date</th>\n",
              "      <th>Movie_Revenue</th>\n",
              "      <th>Movie_Runtime</th>\n",
              "      <th>Movie_Vote</th>\n",
              "      <th>...</th>\n",
              "      <th>Movie_Homepage</th>\n",
              "      <th>Movie_Keywords</th>\n",
              "      <th>Movie_Overview</th>\n",
              "      <th>Movie_Production_House</th>\n",
              "      <th>Movie_Production_Country</th>\n",
              "      <th>Movie_Spoken_Language</th>\n",
              "      <th>Movie_Tagline</th>\n",
              "      <th>Movie_Cast</th>\n",
              "      <th>Movie_Crew</th>\n",
              "      <th>Movie_Director</th>\n",
              "    </tr>\n",
              "  </thead>\n",
              "  <tbody>\n",
              "    <tr>\n",
              "      <th>0</th>\n",
              "      <td>1</td>\n",
              "      <td>Four Rooms</td>\n",
              "      <td>Crime Comedy</td>\n",
              "      <td>en</td>\n",
              "      <td>4000000</td>\n",
              "      <td>22.876230</td>\n",
              "      <td>09-12-1995</td>\n",
              "      <td>4300000</td>\n",
              "      <td>98.0</td>\n",
              "      <td>6.5</td>\n",
              "      <td>...</td>\n",
              "      <td>NaN</td>\n",
              "      <td>hotel new year's eve witch bet hotel room</td>\n",
              "      <td>It's Ted the Bellhop's first night on the job....</td>\n",
              "      <td>[{\"name\": \"Miramax Films\", \"id\": 14}, {\"name\":...</td>\n",
              "      <td>[{\"iso_3166_1\": \"US\", \"name\": \"United States o...</td>\n",
              "      <td>[{\"iso_639_1\": \"en\", \"name\": \"English\"}]</td>\n",
              "      <td>Twelve outrageous guests. Four scandalous requ...</td>\n",
              "      <td>Tim Roth Antonio Banderas Jennifer Beals Madon...</td>\n",
              "      <td>[{'name': 'Allison Anders', 'gender': 1, 'depa...</td>\n",
              "      <td>Allison Anders</td>\n",
              "    </tr>\n",
              "    <tr>\n",
              "      <th>1</th>\n",
              "      <td>2</td>\n",
              "      <td>Star Wars</td>\n",
              "      <td>Adventure Action Science Fiction</td>\n",
              "      <td>en</td>\n",
              "      <td>11000000</td>\n",
              "      <td>126.393695</td>\n",
              "      <td>25-05-1977</td>\n",
              "      <td>775398007</td>\n",
              "      <td>121.0</td>\n",
              "      <td>8.1</td>\n",
              "      <td>...</td>\n",
              "      <td>http://www.starwars.com/films/star-wars-episod...</td>\n",
              "      <td>android galaxy hermit death star lightsaber</td>\n",
              "      <td>Princess Leia is captured and held hostage by ...</td>\n",
              "      <td>[{\"name\": \"Lucasfilm\", \"id\": 1}, {\"name\": \"Twe...</td>\n",
              "      <td>[{\"iso_3166_1\": \"US\", \"name\": \"United States o...</td>\n",
              "      <td>[{\"iso_639_1\": \"en\", \"name\": \"English\"}]</td>\n",
              "      <td>A long time ago in a galaxy far, far away...</td>\n",
              "      <td>Mark Hamill Harrison Ford Carrie Fisher Peter ...</td>\n",
              "      <td>[{'name': 'George Lucas', 'gender': 2, 'depart...</td>\n",
              "      <td>George Lucas</td>\n",
              "    </tr>\n",
              "    <tr>\n",
              "      <th>2</th>\n",
              "      <td>3</td>\n",
              "      <td>Finding Nemo</td>\n",
              "      <td>Animation Family</td>\n",
              "      <td>en</td>\n",
              "      <td>94000000</td>\n",
              "      <td>85.688789</td>\n",
              "      <td>30-05-2003</td>\n",
              "      <td>940335536</td>\n",
              "      <td>100.0</td>\n",
              "      <td>7.6</td>\n",
              "      <td>...</td>\n",
              "      <td>http://movies.disney.com/finding-nemo</td>\n",
              "      <td>father son relationship harbor underwater fish...</td>\n",
              "      <td>Nemo, an adventurous young clownfish, is unexp...</td>\n",
              "      <td>[{\"name\": \"Pixar Animation Studios\", \"id\": 3}]</td>\n",
              "      <td>[{\"iso_3166_1\": \"US\", \"name\": \"United States o...</td>\n",
              "      <td>[{\"iso_639_1\": \"en\", \"name\": \"English\"}]</td>\n",
              "      <td>There are 3.7 trillion fish in the ocean, they...</td>\n",
              "      <td>Albert Brooks Ellen DeGeneres Alexander Gould ...</td>\n",
              "      <td>[{'name': 'Andrew Stanton', 'gender': 2, 'depa...</td>\n",
              "      <td>Andrew Stanton</td>\n",
              "    </tr>\n",
              "    <tr>\n",
              "      <th>3</th>\n",
              "      <td>4</td>\n",
              "      <td>Forrest Gump</td>\n",
              "      <td>Comedy Drama Romance</td>\n",
              "      <td>en</td>\n",
              "      <td>55000000</td>\n",
              "      <td>138.133331</td>\n",
              "      <td>06-07-1994</td>\n",
              "      <td>677945399</td>\n",
              "      <td>142.0</td>\n",
              "      <td>8.2</td>\n",
              "      <td>...</td>\n",
              "      <td>NaN</td>\n",
              "      <td>vietnam veteran hippie mentally disabled runni...</td>\n",
              "      <td>A man with a low IQ has accomplished great thi...</td>\n",
              "      <td>[{\"name\": \"Paramount Pictures\", \"id\": 4}]</td>\n",
              "      <td>[{\"iso_3166_1\": \"US\", \"name\": \"United States o...</td>\n",
              "      <td>[{\"iso_639_1\": \"en\", \"name\": \"English\"}]</td>\n",
              "      <td>The world will never be the same, once you've ...</td>\n",
              "      <td>Tom Hanks Robin Wright Gary Sinise Mykelti Wil...</td>\n",
              "      <td>[{'name': 'Alan Silvestri', 'gender': 2, 'depa...</td>\n",
              "      <td>Robert Zemeckis</td>\n",
              "    </tr>\n",
              "    <tr>\n",
              "      <th>4</th>\n",
              "      <td>5</td>\n",
              "      <td>American Beauty</td>\n",
              "      <td>Drama</td>\n",
              "      <td>en</td>\n",
              "      <td>15000000</td>\n",
              "      <td>80.878605</td>\n",
              "      <td>15-09-1999</td>\n",
              "      <td>356296601</td>\n",
              "      <td>122.0</td>\n",
              "      <td>7.9</td>\n",
              "      <td>...</td>\n",
              "      <td>http://www.dreamworks.com/ab/</td>\n",
              "      <td>male nudity female nudity adultery midlife cri...</td>\n",
              "      <td>Lester Burnham, a depressed suburban father in...</td>\n",
              "      <td>[{\"name\": \"DreamWorks SKG\", \"id\": 27}, {\"name\"...</td>\n",
              "      <td>[{\"iso_3166_1\": \"US\", \"name\": \"United States o...</td>\n",
              "      <td>[{\"iso_639_1\": \"en\", \"name\": \"English\"}]</td>\n",
              "      <td>Look closer.</td>\n",
              "      <td>Kevin Spacey Annette Bening Thora Birch Wes Be...</td>\n",
              "      <td>[{'name': 'Thomas Newman', 'gender': 2, 'depar...</td>\n",
              "      <td>Sam Mendes</td>\n",
              "    </tr>\n",
              "  </tbody>\n",
              "</table>\n",
              "<p>5 rows × 21 columns</p>\n",
              "</div>\n",
              "    <div class=\"colab-df-buttons\">\n",
              "\n",
              "  <div class=\"colab-df-container\">\n",
              "    <button class=\"colab-df-convert\" onclick=\"convertToInteractive('df-6a3d7409-dc03-4d20-b281-db78309bee1b')\"\n",
              "            title=\"Convert this dataframe to an interactive table.\"\n",
              "            style=\"display:none;\">\n",
              "\n",
              "  <svg xmlns=\"http://www.w3.org/2000/svg\" height=\"24px\" viewBox=\"0 -960 960 960\">\n",
              "    <path d=\"M120-120v-720h720v720H120Zm60-500h600v-160H180v160Zm220 220h160v-160H400v160Zm0 220h160v-160H400v160ZM180-400h160v-160H180v160Zm440 0h160v-160H620v160ZM180-180h160v-160H180v160Zm440 0h160v-160H620v160Z\"/>\n",
              "  </svg>\n",
              "    </button>\n",
              "\n",
              "  <style>\n",
              "    .colab-df-container {\n",
              "      display:flex;\n",
              "      gap: 12px;\n",
              "    }\n",
              "\n",
              "    .colab-df-convert {\n",
              "      background-color: #E8F0FE;\n",
              "      border: none;\n",
              "      border-radius: 50%;\n",
              "      cursor: pointer;\n",
              "      display: none;\n",
              "      fill: #1967D2;\n",
              "      height: 32px;\n",
              "      padding: 0 0 0 0;\n",
              "      width: 32px;\n",
              "    }\n",
              "\n",
              "    .colab-df-convert:hover {\n",
              "      background-color: #E2EBFA;\n",
              "      box-shadow: 0px 1px 2px rgba(60, 64, 67, 0.3), 0px 1px 3px 1px rgba(60, 64, 67, 0.15);\n",
              "      fill: #174EA6;\n",
              "    }\n",
              "\n",
              "    .colab-df-buttons div {\n",
              "      margin-bottom: 4px;\n",
              "    }\n",
              "\n",
              "    [theme=dark] .colab-df-convert {\n",
              "      background-color: #3B4455;\n",
              "      fill: #D2E3FC;\n",
              "    }\n",
              "\n",
              "    [theme=dark] .colab-df-convert:hover {\n",
              "      background-color: #434B5C;\n",
              "      box-shadow: 0px 1px 3px 1px rgba(0, 0, 0, 0.15);\n",
              "      filter: drop-shadow(0px 1px 2px rgba(0, 0, 0, 0.3));\n",
              "      fill: #FFFFFF;\n",
              "    }\n",
              "  </style>\n",
              "\n",
              "    <script>\n",
              "      const buttonEl =\n",
              "        document.querySelector('#df-6a3d7409-dc03-4d20-b281-db78309bee1b button.colab-df-convert');\n",
              "      buttonEl.style.display =\n",
              "        google.colab.kernel.accessAllowed ? 'block' : 'none';\n",
              "\n",
              "      async function convertToInteractive(key) {\n",
              "        const element = document.querySelector('#df-6a3d7409-dc03-4d20-b281-db78309bee1b');\n",
              "        const dataTable =\n",
              "          await google.colab.kernel.invokeFunction('convertToInteractive',\n",
              "                                                    [key], {});\n",
              "        if (!dataTable) return;\n",
              "\n",
              "        const docLinkHtml = 'Like what you see? Visit the ' +\n",
              "          '<a target=\"_blank\" href=https://colab.research.google.com/notebooks/data_table.ipynb>data table notebook</a>'\n",
              "          + ' to learn more about interactive tables.';\n",
              "        element.innerHTML = '';\n",
              "        dataTable['output_type'] = 'display_data';\n",
              "        await google.colab.output.renderOutput(dataTable, element);\n",
              "        const docLink = document.createElement('div');\n",
              "        docLink.innerHTML = docLinkHtml;\n",
              "        element.appendChild(docLink);\n",
              "      }\n",
              "    </script>\n",
              "  </div>\n",
              "\n",
              "\n",
              "<div id=\"df-33c40c3d-65e4-4660-a338-9f9c20d0a1ef\">\n",
              "  <button class=\"colab-df-quickchart\" onclick=\"quickchart('df-33c40c3d-65e4-4660-a338-9f9c20d0a1ef')\"\n",
              "            title=\"Suggest charts\"\n",
              "            style=\"display:none;\">\n",
              "\n",
              "<svg xmlns=\"http://www.w3.org/2000/svg\" height=\"24px\"viewBox=\"0 0 24 24\"\n",
              "     width=\"24px\">\n",
              "    <g>\n",
              "        <path d=\"M19 3H5c-1.1 0-2 .9-2 2v14c0 1.1.9 2 2 2h14c1.1 0 2-.9 2-2V5c0-1.1-.9-2-2-2zM9 17H7v-7h2v7zm4 0h-2V7h2v10zm4 0h-2v-4h2v4z\"/>\n",
              "    </g>\n",
              "</svg>\n",
              "  </button>\n",
              "\n",
              "<style>\n",
              "  .colab-df-quickchart {\n",
              "      --bg-color: #E8F0FE;\n",
              "      --fill-color: #1967D2;\n",
              "      --hover-bg-color: #E2EBFA;\n",
              "      --hover-fill-color: #174EA6;\n",
              "      --disabled-fill-color: #AAA;\n",
              "      --disabled-bg-color: #DDD;\n",
              "  }\n",
              "\n",
              "  [theme=dark] .colab-df-quickchart {\n",
              "      --bg-color: #3B4455;\n",
              "      --fill-color: #D2E3FC;\n",
              "      --hover-bg-color: #434B5C;\n",
              "      --hover-fill-color: #FFFFFF;\n",
              "      --disabled-bg-color: #3B4455;\n",
              "      --disabled-fill-color: #666;\n",
              "  }\n",
              "\n",
              "  .colab-df-quickchart {\n",
              "    background-color: var(--bg-color);\n",
              "    border: none;\n",
              "    border-radius: 50%;\n",
              "    cursor: pointer;\n",
              "    display: none;\n",
              "    fill: var(--fill-color);\n",
              "    height: 32px;\n",
              "    padding: 0;\n",
              "    width: 32px;\n",
              "  }\n",
              "\n",
              "  .colab-df-quickchart:hover {\n",
              "    background-color: var(--hover-bg-color);\n",
              "    box-shadow: 0 1px 2px rgba(60, 64, 67, 0.3), 0 1px 3px 1px rgba(60, 64, 67, 0.15);\n",
              "    fill: var(--button-hover-fill-color);\n",
              "  }\n",
              "\n",
              "  .colab-df-quickchart-complete:disabled,\n",
              "  .colab-df-quickchart-complete:disabled:hover {\n",
              "    background-color: var(--disabled-bg-color);\n",
              "    fill: var(--disabled-fill-color);\n",
              "    box-shadow: none;\n",
              "  }\n",
              "\n",
              "  .colab-df-spinner {\n",
              "    border: 2px solid var(--fill-color);\n",
              "    border-color: transparent;\n",
              "    border-bottom-color: var(--fill-color);\n",
              "    animation:\n",
              "      spin 1s steps(1) infinite;\n",
              "  }\n",
              "\n",
              "  @keyframes spin {\n",
              "    0% {\n",
              "      border-color: transparent;\n",
              "      border-bottom-color: var(--fill-color);\n",
              "      border-left-color: var(--fill-color);\n",
              "    }\n",
              "    20% {\n",
              "      border-color: transparent;\n",
              "      border-left-color: var(--fill-color);\n",
              "      border-top-color: var(--fill-color);\n",
              "    }\n",
              "    30% {\n",
              "      border-color: transparent;\n",
              "      border-left-color: var(--fill-color);\n",
              "      border-top-color: var(--fill-color);\n",
              "      border-right-color: var(--fill-color);\n",
              "    }\n",
              "    40% {\n",
              "      border-color: transparent;\n",
              "      border-right-color: var(--fill-color);\n",
              "      border-top-color: var(--fill-color);\n",
              "    }\n",
              "    60% {\n",
              "      border-color: transparent;\n",
              "      border-right-color: var(--fill-color);\n",
              "    }\n",
              "    80% {\n",
              "      border-color: transparent;\n",
              "      border-right-color: var(--fill-color);\n",
              "      border-bottom-color: var(--fill-color);\n",
              "    }\n",
              "    90% {\n",
              "      border-color: transparent;\n",
              "      border-bottom-color: var(--fill-color);\n",
              "    }\n",
              "  }\n",
              "</style>\n",
              "\n",
              "  <script>\n",
              "    async function quickchart(key) {\n",
              "      const quickchartButtonEl =\n",
              "        document.querySelector('#' + key + ' button');\n",
              "      quickchartButtonEl.disabled = true;  // To prevent multiple clicks.\n",
              "      quickchartButtonEl.classList.add('colab-df-spinner');\n",
              "      try {\n",
              "        const charts = await google.colab.kernel.invokeFunction(\n",
              "            'suggestCharts', [key], {});\n",
              "      } catch (error) {\n",
              "        console.error('Error during call to suggestCharts:', error);\n",
              "      }\n",
              "      quickchartButtonEl.classList.remove('colab-df-spinner');\n",
              "      quickchartButtonEl.classList.add('colab-df-quickchart-complete');\n",
              "    }\n",
              "    (() => {\n",
              "      let quickchartButtonEl =\n",
              "        document.querySelector('#df-33c40c3d-65e4-4660-a338-9f9c20d0a1ef button');\n",
              "      quickchartButtonEl.style.display =\n",
              "        google.colab.kernel.accessAllowed ? 'block' : 'none';\n",
              "    })();\n",
              "  </script>\n",
              "</div>\n",
              "\n",
              "    </div>\n",
              "  </div>\n"
            ]
          },
          "metadata": {},
          "execution_count": 3
        }
      ]
    },
    {
      "cell_type": "code",
      "source": [
        "df.info()"
      ],
      "metadata": {
        "colab": {
          "base_uri": "https://localhost:8080/"
        },
        "id": "l3ftcWSOpmdm",
        "outputId": "873c81dc-2bff-420a-c082-fc0c4d6a0c2d"
      },
      "execution_count": 4,
      "outputs": [
        {
          "output_type": "stream",
          "name": "stdout",
          "text": [
            "<class 'pandas.core.frame.DataFrame'>\n",
            "RangeIndex: 4760 entries, 0 to 4759\n",
            "Data columns (total 21 columns):\n",
            " #   Column                    Non-Null Count  Dtype  \n",
            "---  ------                    --------------  -----  \n",
            " 0   Movie_ID                  4760 non-null   int64  \n",
            " 1   Movie_Title               4760 non-null   object \n",
            " 2   Movie_Genre               4760 non-null   object \n",
            " 3   Movie_Language            4760 non-null   object \n",
            " 4   Movie_Budget              4760 non-null   int64  \n",
            " 5   Movie_Popularity          4760 non-null   float64\n",
            " 6   Movie_Release_Date        4760 non-null   object \n",
            " 7   Movie_Revenue             4760 non-null   int64  \n",
            " 8   Movie_Runtime             4758 non-null   float64\n",
            " 9   Movie_Vote                4760 non-null   float64\n",
            " 10  Movie_Vote_Count          4760 non-null   int64  \n",
            " 11  Movie_Homepage            1699 non-null   object \n",
            " 12  Movie_Keywords            4373 non-null   object \n",
            " 13  Movie_Overview            4757 non-null   object \n",
            " 14  Movie_Production_House    4760 non-null   object \n",
            " 15  Movie_Production_Country  4760 non-null   object \n",
            " 16  Movie_Spoken_Language     4760 non-null   object \n",
            " 17  Movie_Tagline             3942 non-null   object \n",
            " 18  Movie_Cast                4733 non-null   object \n",
            " 19  Movie_Crew                4760 non-null   object \n",
            " 20  Movie_Director            4738 non-null   object \n",
            "dtypes: float64(3), int64(4), object(14)\n",
            "memory usage: 781.1+ KB\n"
          ]
        }
      ]
    },
    {
      "cell_type": "code",
      "source": [
        "df.shape"
      ],
      "metadata": {
        "colab": {
          "base_uri": "https://localhost:8080/"
        },
        "id": "Qf4z9VMrpoQY",
        "outputId": "e0ab4cb3-2898-4533-d916-d8044c941dd2"
      },
      "execution_count": 5,
      "outputs": [
        {
          "output_type": "execute_result",
          "data": {
            "text/plain": [
              "(4760, 21)"
            ]
          },
          "metadata": {},
          "execution_count": 5
        }
      ]
    },
    {
      "cell_type": "code",
      "source": [
        "df.columns"
      ],
      "metadata": {
        "colab": {
          "base_uri": "https://localhost:8080/"
        },
        "id": "gv32Dg_3prr5",
        "outputId": "1d3cc586-bbf7-4697-cd45-f724be81696a"
      },
      "execution_count": 6,
      "outputs": [
        {
          "output_type": "execute_result",
          "data": {
            "text/plain": [
              "Index(['Movie_ID', 'Movie_Title', 'Movie_Genre', 'Movie_Language',\n",
              "       'Movie_Budget', 'Movie_Popularity', 'Movie_Release_Date',\n",
              "       'Movie_Revenue', 'Movie_Runtime', 'Movie_Vote', 'Movie_Vote_Count',\n",
              "       'Movie_Homepage', 'Movie_Keywords', 'Movie_Overview',\n",
              "       'Movie_Production_House', 'Movie_Production_Country',\n",
              "       'Movie_Spoken_Language', 'Movie_Tagline', 'Movie_Cast', 'Movie_Crew',\n",
              "       'Movie_Director'],\n",
              "      dtype='object')"
            ]
          },
          "metadata": {},
          "execution_count": 6
        }
      ]
    },
    {
      "cell_type": "markdown",
      "source": [
        "# **Get feature selection**"
      ],
      "metadata": {
        "id": "yeMN-GYTp8AA"
      }
    },
    {
      "cell_type": "code",
      "source": [
        "df_features= df[['Movie_Genre','Movie_Keywords','Movie_Tagline','Movie_Cast','Movie_Director']]"
      ],
      "metadata": {
        "id": "XuGWu3YAqFxK"
      },
      "execution_count": 7,
      "outputs": []
    },
    {
      "cell_type": "code",
      "source": [
        "df_features.shape"
      ],
      "metadata": {
        "colab": {
          "base_uri": "https://localhost:8080/"
        },
        "id": "2_3Yt2iWqS6p",
        "outputId": "6c3a53bc-4dc5-42d3-ddba-45f0f38bff36"
      },
      "execution_count": 8,
      "outputs": [
        {
          "output_type": "execute_result",
          "data": {
            "text/plain": [
              "(4760, 5)"
            ]
          },
          "metadata": {},
          "execution_count": 8
        }
      ]
    },
    {
      "cell_type": "code",
      "source": [
        "df_features"
      ],
      "metadata": {
        "colab": {
          "base_uri": "https://localhost:8080/",
          "height": 580
        },
        "id": "F9zHJZafqVFd",
        "outputId": "025fd7e5-48b5-49d5-88e7-875d4c57f5ef"
      },
      "execution_count": 9,
      "outputs": [
        {
          "output_type": "execute_result",
          "data": {
            "text/plain": [
              "                           Movie_Genre  \\\n",
              "0                         Crime Comedy   \n",
              "1     Adventure Action Science Fiction   \n",
              "2                     Animation Family   \n",
              "3                 Comedy Drama Romance   \n",
              "4                                Drama   \n",
              "...                                ...   \n",
              "4755                            Horror   \n",
              "4756               Comedy Family Drama   \n",
              "4757                    Thriller Drama   \n",
              "4758                            Family   \n",
              "4759                       Documentary   \n",
              "\n",
              "                                         Movie_Keywords  \\\n",
              "0             hotel new year's eve witch bet hotel room   \n",
              "1           android galaxy hermit death star lightsaber   \n",
              "2     father son relationship harbor underwater fish...   \n",
              "3     vietnam veteran hippie mentally disabled runni...   \n",
              "4     male nudity female nudity adultery midlife cri...   \n",
              "...                                                 ...   \n",
              "4755                                                NaN   \n",
              "4756                                                NaN   \n",
              "4757                     christian film sex trafficking   \n",
              "4758                                                NaN   \n",
              "4759  music actors legendary perfomer classic hollyw...   \n",
              "\n",
              "                                          Movie_Tagline  \\\n",
              "0     Twelve outrageous guests. Four scandalous requ...   \n",
              "1          A long time ago in a galaxy far, far away...   \n",
              "2     There are 3.7 trillion fish in the ocean, they...   \n",
              "3     The world will never be the same, once you've ...   \n",
              "4                                          Look closer.   \n",
              "...                                                 ...   \n",
              "4755                The hot spot where Satan's waitin'.   \n",
              "4756           It’s better to stand out than to fit in.   \n",
              "4757           She never knew it could happen to her...   \n",
              "4758                                                NaN   \n",
              "4759                                                NaN   \n",
              "\n",
              "                                             Movie_Cast     Movie_Director  \n",
              "0     Tim Roth Antonio Banderas Jennifer Beals Madon...     Allison Anders  \n",
              "1     Mark Hamill Harrison Ford Carrie Fisher Peter ...       George Lucas  \n",
              "2     Albert Brooks Ellen DeGeneres Alexander Gould ...     Andrew Stanton  \n",
              "3     Tom Hanks Robin Wright Gary Sinise Mykelti Wil...    Robert Zemeckis  \n",
              "4     Kevin Spacey Annette Bening Thora Birch Wes Be...         Sam Mendes  \n",
              "...                                                 ...                ...  \n",
              "4755  Lisa Hart Carroll Michael Des Barres Paul Drak...         Pece Dingo  \n",
              "4756  Roni Akurati Brighton Sharbino Jason Lee Anjul...       Frank Lotito  \n",
              "4757  Nicole Smolen Kim Baldwin Ariana Stephens Brys...       Jaco Booyens  \n",
              "4758                                                NaN                NaN  \n",
              "4759                                    Tony Oppedisano  Simon Napier-Bell  \n",
              "\n",
              "[4760 rows x 5 columns]"
            ],
            "text/html": [
              "\n",
              "  <div id=\"df-9ef6abb1-54a6-4350-be07-f6d93ad68b5a\" class=\"colab-df-container\">\n",
              "    <div>\n",
              "<style scoped>\n",
              "    .dataframe tbody tr th:only-of-type {\n",
              "        vertical-align: middle;\n",
              "    }\n",
              "\n",
              "    .dataframe tbody tr th {\n",
              "        vertical-align: top;\n",
              "    }\n",
              "\n",
              "    .dataframe thead th {\n",
              "        text-align: right;\n",
              "    }\n",
              "</style>\n",
              "<table border=\"1\" class=\"dataframe\">\n",
              "  <thead>\n",
              "    <tr style=\"text-align: right;\">\n",
              "      <th></th>\n",
              "      <th>Movie_Genre</th>\n",
              "      <th>Movie_Keywords</th>\n",
              "      <th>Movie_Tagline</th>\n",
              "      <th>Movie_Cast</th>\n",
              "      <th>Movie_Director</th>\n",
              "    </tr>\n",
              "  </thead>\n",
              "  <tbody>\n",
              "    <tr>\n",
              "      <th>0</th>\n",
              "      <td>Crime Comedy</td>\n",
              "      <td>hotel new year's eve witch bet hotel room</td>\n",
              "      <td>Twelve outrageous guests. Four scandalous requ...</td>\n",
              "      <td>Tim Roth Antonio Banderas Jennifer Beals Madon...</td>\n",
              "      <td>Allison Anders</td>\n",
              "    </tr>\n",
              "    <tr>\n",
              "      <th>1</th>\n",
              "      <td>Adventure Action Science Fiction</td>\n",
              "      <td>android galaxy hermit death star lightsaber</td>\n",
              "      <td>A long time ago in a galaxy far, far away...</td>\n",
              "      <td>Mark Hamill Harrison Ford Carrie Fisher Peter ...</td>\n",
              "      <td>George Lucas</td>\n",
              "    </tr>\n",
              "    <tr>\n",
              "      <th>2</th>\n",
              "      <td>Animation Family</td>\n",
              "      <td>father son relationship harbor underwater fish...</td>\n",
              "      <td>There are 3.7 trillion fish in the ocean, they...</td>\n",
              "      <td>Albert Brooks Ellen DeGeneres Alexander Gould ...</td>\n",
              "      <td>Andrew Stanton</td>\n",
              "    </tr>\n",
              "    <tr>\n",
              "      <th>3</th>\n",
              "      <td>Comedy Drama Romance</td>\n",
              "      <td>vietnam veteran hippie mentally disabled runni...</td>\n",
              "      <td>The world will never be the same, once you've ...</td>\n",
              "      <td>Tom Hanks Robin Wright Gary Sinise Mykelti Wil...</td>\n",
              "      <td>Robert Zemeckis</td>\n",
              "    </tr>\n",
              "    <tr>\n",
              "      <th>4</th>\n",
              "      <td>Drama</td>\n",
              "      <td>male nudity female nudity adultery midlife cri...</td>\n",
              "      <td>Look closer.</td>\n",
              "      <td>Kevin Spacey Annette Bening Thora Birch Wes Be...</td>\n",
              "      <td>Sam Mendes</td>\n",
              "    </tr>\n",
              "    <tr>\n",
              "      <th>...</th>\n",
              "      <td>...</td>\n",
              "      <td>...</td>\n",
              "      <td>...</td>\n",
              "      <td>...</td>\n",
              "      <td>...</td>\n",
              "    </tr>\n",
              "    <tr>\n",
              "      <th>4755</th>\n",
              "      <td>Horror</td>\n",
              "      <td>NaN</td>\n",
              "      <td>The hot spot where Satan's waitin'.</td>\n",
              "      <td>Lisa Hart Carroll Michael Des Barres Paul Drak...</td>\n",
              "      <td>Pece Dingo</td>\n",
              "    </tr>\n",
              "    <tr>\n",
              "      <th>4756</th>\n",
              "      <td>Comedy Family Drama</td>\n",
              "      <td>NaN</td>\n",
              "      <td>It’s better to stand out than to fit in.</td>\n",
              "      <td>Roni Akurati Brighton Sharbino Jason Lee Anjul...</td>\n",
              "      <td>Frank Lotito</td>\n",
              "    </tr>\n",
              "    <tr>\n",
              "      <th>4757</th>\n",
              "      <td>Thriller Drama</td>\n",
              "      <td>christian film sex trafficking</td>\n",
              "      <td>She never knew it could happen to her...</td>\n",
              "      <td>Nicole Smolen Kim Baldwin Ariana Stephens Brys...</td>\n",
              "      <td>Jaco Booyens</td>\n",
              "    </tr>\n",
              "    <tr>\n",
              "      <th>4758</th>\n",
              "      <td>Family</td>\n",
              "      <td>NaN</td>\n",
              "      <td>NaN</td>\n",
              "      <td>NaN</td>\n",
              "      <td>NaN</td>\n",
              "    </tr>\n",
              "    <tr>\n",
              "      <th>4759</th>\n",
              "      <td>Documentary</td>\n",
              "      <td>music actors legendary perfomer classic hollyw...</td>\n",
              "      <td>NaN</td>\n",
              "      <td>Tony Oppedisano</td>\n",
              "      <td>Simon Napier-Bell</td>\n",
              "    </tr>\n",
              "  </tbody>\n",
              "</table>\n",
              "<p>4760 rows × 5 columns</p>\n",
              "</div>\n",
              "    <div class=\"colab-df-buttons\">\n",
              "\n",
              "  <div class=\"colab-df-container\">\n",
              "    <button class=\"colab-df-convert\" onclick=\"convertToInteractive('df-9ef6abb1-54a6-4350-be07-f6d93ad68b5a')\"\n",
              "            title=\"Convert this dataframe to an interactive table.\"\n",
              "            style=\"display:none;\">\n",
              "\n",
              "  <svg xmlns=\"http://www.w3.org/2000/svg\" height=\"24px\" viewBox=\"0 -960 960 960\">\n",
              "    <path d=\"M120-120v-720h720v720H120Zm60-500h600v-160H180v160Zm220 220h160v-160H400v160Zm0 220h160v-160H400v160ZM180-400h160v-160H180v160Zm440 0h160v-160H620v160ZM180-180h160v-160H180v160Zm440 0h160v-160H620v160Z\"/>\n",
              "  </svg>\n",
              "    </button>\n",
              "\n",
              "  <style>\n",
              "    .colab-df-container {\n",
              "      display:flex;\n",
              "      gap: 12px;\n",
              "    }\n",
              "\n",
              "    .colab-df-convert {\n",
              "      background-color: #E8F0FE;\n",
              "      border: none;\n",
              "      border-radius: 50%;\n",
              "      cursor: pointer;\n",
              "      display: none;\n",
              "      fill: #1967D2;\n",
              "      height: 32px;\n",
              "      padding: 0 0 0 0;\n",
              "      width: 32px;\n",
              "    }\n",
              "\n",
              "    .colab-df-convert:hover {\n",
              "      background-color: #E2EBFA;\n",
              "      box-shadow: 0px 1px 2px rgba(60, 64, 67, 0.3), 0px 1px 3px 1px rgba(60, 64, 67, 0.15);\n",
              "      fill: #174EA6;\n",
              "    }\n",
              "\n",
              "    .colab-df-buttons div {\n",
              "      margin-bottom: 4px;\n",
              "    }\n",
              "\n",
              "    [theme=dark] .colab-df-convert {\n",
              "      background-color: #3B4455;\n",
              "      fill: #D2E3FC;\n",
              "    }\n",
              "\n",
              "    [theme=dark] .colab-df-convert:hover {\n",
              "      background-color: #434B5C;\n",
              "      box-shadow: 0px 1px 3px 1px rgba(0, 0, 0, 0.15);\n",
              "      filter: drop-shadow(0px 1px 2px rgba(0, 0, 0, 0.3));\n",
              "      fill: #FFFFFF;\n",
              "    }\n",
              "  </style>\n",
              "\n",
              "    <script>\n",
              "      const buttonEl =\n",
              "        document.querySelector('#df-9ef6abb1-54a6-4350-be07-f6d93ad68b5a button.colab-df-convert');\n",
              "      buttonEl.style.display =\n",
              "        google.colab.kernel.accessAllowed ? 'block' : 'none';\n",
              "\n",
              "      async function convertToInteractive(key) {\n",
              "        const element = document.querySelector('#df-9ef6abb1-54a6-4350-be07-f6d93ad68b5a');\n",
              "        const dataTable =\n",
              "          await google.colab.kernel.invokeFunction('convertToInteractive',\n",
              "                                                    [key], {});\n",
              "        if (!dataTable) return;\n",
              "\n",
              "        const docLinkHtml = 'Like what you see? Visit the ' +\n",
              "          '<a target=\"_blank\" href=https://colab.research.google.com/notebooks/data_table.ipynb>data table notebook</a>'\n",
              "          + ' to learn more about interactive tables.';\n",
              "        element.innerHTML = '';\n",
              "        dataTable['output_type'] = 'display_data';\n",
              "        await google.colab.output.renderOutput(dataTable, element);\n",
              "        const docLink = document.createElement('div');\n",
              "        docLink.innerHTML = docLinkHtml;\n",
              "        element.appendChild(docLink);\n",
              "      }\n",
              "    </script>\n",
              "  </div>\n",
              "\n",
              "\n",
              "<div id=\"df-eae2c954-45e6-422a-b5b7-3c25458c9fd5\">\n",
              "  <button class=\"colab-df-quickchart\" onclick=\"quickchart('df-eae2c954-45e6-422a-b5b7-3c25458c9fd5')\"\n",
              "            title=\"Suggest charts\"\n",
              "            style=\"display:none;\">\n",
              "\n",
              "<svg xmlns=\"http://www.w3.org/2000/svg\" height=\"24px\"viewBox=\"0 0 24 24\"\n",
              "     width=\"24px\">\n",
              "    <g>\n",
              "        <path d=\"M19 3H5c-1.1 0-2 .9-2 2v14c0 1.1.9 2 2 2h14c1.1 0 2-.9 2-2V5c0-1.1-.9-2-2-2zM9 17H7v-7h2v7zm4 0h-2V7h2v10zm4 0h-2v-4h2v4z\"/>\n",
              "    </g>\n",
              "</svg>\n",
              "  </button>\n",
              "\n",
              "<style>\n",
              "  .colab-df-quickchart {\n",
              "      --bg-color: #E8F0FE;\n",
              "      --fill-color: #1967D2;\n",
              "      --hover-bg-color: #E2EBFA;\n",
              "      --hover-fill-color: #174EA6;\n",
              "      --disabled-fill-color: #AAA;\n",
              "      --disabled-bg-color: #DDD;\n",
              "  }\n",
              "\n",
              "  [theme=dark] .colab-df-quickchart {\n",
              "      --bg-color: #3B4455;\n",
              "      --fill-color: #D2E3FC;\n",
              "      --hover-bg-color: #434B5C;\n",
              "      --hover-fill-color: #FFFFFF;\n",
              "      --disabled-bg-color: #3B4455;\n",
              "      --disabled-fill-color: #666;\n",
              "  }\n",
              "\n",
              "  .colab-df-quickchart {\n",
              "    background-color: var(--bg-color);\n",
              "    border: none;\n",
              "    border-radius: 50%;\n",
              "    cursor: pointer;\n",
              "    display: none;\n",
              "    fill: var(--fill-color);\n",
              "    height: 32px;\n",
              "    padding: 0;\n",
              "    width: 32px;\n",
              "  }\n",
              "\n",
              "  .colab-df-quickchart:hover {\n",
              "    background-color: var(--hover-bg-color);\n",
              "    box-shadow: 0 1px 2px rgba(60, 64, 67, 0.3), 0 1px 3px 1px rgba(60, 64, 67, 0.15);\n",
              "    fill: var(--button-hover-fill-color);\n",
              "  }\n",
              "\n",
              "  .colab-df-quickchart-complete:disabled,\n",
              "  .colab-df-quickchart-complete:disabled:hover {\n",
              "    background-color: var(--disabled-bg-color);\n",
              "    fill: var(--disabled-fill-color);\n",
              "    box-shadow: none;\n",
              "  }\n",
              "\n",
              "  .colab-df-spinner {\n",
              "    border: 2px solid var(--fill-color);\n",
              "    border-color: transparent;\n",
              "    border-bottom-color: var(--fill-color);\n",
              "    animation:\n",
              "      spin 1s steps(1) infinite;\n",
              "  }\n",
              "\n",
              "  @keyframes spin {\n",
              "    0% {\n",
              "      border-color: transparent;\n",
              "      border-bottom-color: var(--fill-color);\n",
              "      border-left-color: var(--fill-color);\n",
              "    }\n",
              "    20% {\n",
              "      border-color: transparent;\n",
              "      border-left-color: var(--fill-color);\n",
              "      border-top-color: var(--fill-color);\n",
              "    }\n",
              "    30% {\n",
              "      border-color: transparent;\n",
              "      border-left-color: var(--fill-color);\n",
              "      border-top-color: var(--fill-color);\n",
              "      border-right-color: var(--fill-color);\n",
              "    }\n",
              "    40% {\n",
              "      border-color: transparent;\n",
              "      border-right-color: var(--fill-color);\n",
              "      border-top-color: var(--fill-color);\n",
              "    }\n",
              "    60% {\n",
              "      border-color: transparent;\n",
              "      border-right-color: var(--fill-color);\n",
              "    }\n",
              "    80% {\n",
              "      border-color: transparent;\n",
              "      border-right-color: var(--fill-color);\n",
              "      border-bottom-color: var(--fill-color);\n",
              "    }\n",
              "    90% {\n",
              "      border-color: transparent;\n",
              "      border-bottom-color: var(--fill-color);\n",
              "    }\n",
              "  }\n",
              "</style>\n",
              "\n",
              "  <script>\n",
              "    async function quickchart(key) {\n",
              "      const quickchartButtonEl =\n",
              "        document.querySelector('#' + key + ' button');\n",
              "      quickchartButtonEl.disabled = true;  // To prevent multiple clicks.\n",
              "      quickchartButtonEl.classList.add('colab-df-spinner');\n",
              "      try {\n",
              "        const charts = await google.colab.kernel.invokeFunction(\n",
              "            'suggestCharts', [key], {});\n",
              "      } catch (error) {\n",
              "        console.error('Error during call to suggestCharts:', error);\n",
              "      }\n",
              "      quickchartButtonEl.classList.remove('colab-df-spinner');\n",
              "      quickchartButtonEl.classList.add('colab-df-quickchart-complete');\n",
              "    }\n",
              "    (() => {\n",
              "      let quickchartButtonEl =\n",
              "        document.querySelector('#df-eae2c954-45e6-422a-b5b7-3c25458c9fd5 button');\n",
              "      quickchartButtonEl.style.display =\n",
              "        google.colab.kernel.accessAllowed ? 'block' : 'none';\n",
              "    })();\n",
              "  </script>\n",
              "</div>\n",
              "\n",
              "  <div id=\"id_9f530490-9875-412f-95dc-c39120b3b164\">\n",
              "    <style>\n",
              "      .colab-df-generate {\n",
              "        background-color: #E8F0FE;\n",
              "        border: none;\n",
              "        border-radius: 50%;\n",
              "        cursor: pointer;\n",
              "        display: none;\n",
              "        fill: #1967D2;\n",
              "        height: 32px;\n",
              "        padding: 0 0 0 0;\n",
              "        width: 32px;\n",
              "      }\n",
              "\n",
              "      .colab-df-generate:hover {\n",
              "        background-color: #E2EBFA;\n",
              "        box-shadow: 0px 1px 2px rgba(60, 64, 67, 0.3), 0px 1px 3px 1px rgba(60, 64, 67, 0.15);\n",
              "        fill: #174EA6;\n",
              "      }\n",
              "\n",
              "      [theme=dark] .colab-df-generate {\n",
              "        background-color: #3B4455;\n",
              "        fill: #D2E3FC;\n",
              "      }\n",
              "\n",
              "      [theme=dark] .colab-df-generate:hover {\n",
              "        background-color: #434B5C;\n",
              "        box-shadow: 0px 1px 3px 1px rgba(0, 0, 0, 0.15);\n",
              "        filter: drop-shadow(0px 1px 2px rgba(0, 0, 0, 0.3));\n",
              "        fill: #FFFFFF;\n",
              "      }\n",
              "    </style>\n",
              "    <button class=\"colab-df-generate\" onclick=\"generateWithVariable('df_features')\"\n",
              "            title=\"Generate code using this dataframe.\"\n",
              "            style=\"display:none;\">\n",
              "\n",
              "  <svg xmlns=\"http://www.w3.org/2000/svg\" height=\"24px\"viewBox=\"0 0 24 24\"\n",
              "       width=\"24px\">\n",
              "    <path d=\"M7,19H8.4L18.45,9,17,7.55,7,17.6ZM5,21V16.75L18.45,3.32a2,2,0,0,1,2.83,0l1.4,1.43a1.91,1.91,0,0,1,.58,1.4,1.91,1.91,0,0,1-.58,1.4L9.25,21ZM18.45,9,17,7.55Zm-12,3A5.31,5.31,0,0,0,4.9,8.1,5.31,5.31,0,0,0,1,6.5,5.31,5.31,0,0,0,4.9,4.9,5.31,5.31,0,0,0,6.5,1,5.31,5.31,0,0,0,8.1,4.9,5.31,5.31,0,0,0,12,6.5,5.46,5.46,0,0,0,6.5,12Z\"/>\n",
              "  </svg>\n",
              "    </button>\n",
              "    <script>\n",
              "      (() => {\n",
              "      const buttonEl =\n",
              "        document.querySelector('#id_9f530490-9875-412f-95dc-c39120b3b164 button.colab-df-generate');\n",
              "      buttonEl.style.display =\n",
              "        google.colab.kernel.accessAllowed ? 'block' : 'none';\n",
              "\n",
              "      buttonEl.onclick = () => {\n",
              "        google.colab.notebook.generateWithVariable('df_features');\n",
              "      }\n",
              "      })();\n",
              "    </script>\n",
              "  </div>\n",
              "\n",
              "    </div>\n",
              "  </div>\n"
            ]
          },
          "metadata": {},
          "execution_count": 9
        }
      ]
    },
    {
      "cell_type": "code",
      "source": [
        "x = df_features['Movie_Genre']+' '+df_features['Movie_Keywords']+' '+df_features['Movie_Tagline']+' '+df_features['Movie_Cast']+' '+df_features['Movie_Director']"
      ],
      "metadata": {
        "id": "PDEV7tH7qYxV"
      },
      "execution_count": 10,
      "outputs": []
    },
    {
      "cell_type": "code",
      "source": [
        "x"
      ],
      "metadata": {
        "colab": {
          "base_uri": "https://localhost:8080/"
        },
        "id": "QDiMRBgDtN49",
        "outputId": "6f1dcba1-25db-4e7e-c226-d22f65d614da"
      },
      "execution_count": 11,
      "outputs": [
        {
          "output_type": "execute_result",
          "data": {
            "text/plain": [
              "0       Crime Comedy hotel new year's eve witch bet ho...\n",
              "1       Adventure Action Science Fiction android galax...\n",
              "2       Animation Family father son relationship harbo...\n",
              "3       Comedy Drama Romance vietnam veteran hippie me...\n",
              "4       Drama male nudity female nudity adultery midli...\n",
              "                              ...                        \n",
              "4755                                                  NaN\n",
              "4756                                                  NaN\n",
              "4757    Thriller Drama christian film sex trafficking ...\n",
              "4758                                                  NaN\n",
              "4759                                                  NaN\n",
              "Length: 4760, dtype: object"
            ]
          },
          "metadata": {},
          "execution_count": 11
        }
      ]
    },
    {
      "cell_type": "code",
      "source": [
        "x.shape"
      ],
      "metadata": {
        "colab": {
          "base_uri": "https://localhost:8080/"
        },
        "id": "fsYDD4GgtPYL",
        "outputId": "98845ff1-b122-4da2-f928-79f1cca1f2bf"
      },
      "execution_count": 12,
      "outputs": [
        {
          "output_type": "execute_result",
          "data": {
            "text/plain": [
              "(4760,)"
            ]
          },
          "metadata": {},
          "execution_count": 12
        }
      ]
    },
    {
      "cell_type": "code",
      "source": [],
      "metadata": {
        "id": "C3xat-katR_w"
      },
      "execution_count": null,
      "outputs": []
    },
    {
      "cell_type": "markdown",
      "source": [
        "# **Get Feature Text Conversion to Tokens**"
      ],
      "metadata": {
        "id": "of3OMVMgtWp4"
      }
    },
    {
      "cell_type": "code",
      "source": [
        "from sklearn.feature_extraction.text import TfidfVectorizer\n",
        "import numpy as np"
      ],
      "metadata": {
        "id": "Km-Jmc3qtjKZ"
      },
      "execution_count": 18,
      "outputs": []
    },
    {
      "cell_type": "code",
      "source": [
        "tfidf= TfidfVectorizer()"
      ],
      "metadata": {
        "id": "jQUeVBDIt62r"
      },
      "execution_count": 19,
      "outputs": []
    },
    {
      "cell_type": "code",
      "source": [
        "x = [str(item) for item in x]\n",
        "x = tfidf.fit_transform(x)"
      ],
      "metadata": {
        "id": "fVJlhpEKt-4_"
      },
      "execution_count": 23,
      "outputs": []
    },
    {
      "cell_type": "code",
      "source": [
        "x.shape"
      ],
      "metadata": {
        "colab": {
          "base_uri": "https://localhost:8080/"
        },
        "id": "dHCUOeMYuG8I",
        "outputId": "e8c35c88-a32b-49e3-91fd-a2d2363592c3"
      },
      "execution_count": 25,
      "outputs": [
        {
          "output_type": "execute_result",
          "data": {
            "text/plain": [
              "(4760, 14760)"
            ]
          },
          "metadata": {},
          "execution_count": 25
        }
      ]
    },
    {
      "cell_type": "code",
      "source": [
        "print(x)"
      ],
      "metadata": {
        "colab": {
          "base_uri": "https://localhost:8080/"
        },
        "id": "X4xVrCOovo8T",
        "outputId": "434e2711-95c5-4a3d-d82d-121813f24f3c"
      },
      "execution_count": 26,
      "outputs": [
        {
          "output_type": "stream",
          "name": "stdout",
          "text": [
            "  (0, 533)\t0.16400730347966605\n",
            "  (0, 428)\t0.14480710249054038\n",
            "  (0, 13194)\t0.1460072234045736\n",
            "  (0, 8247)\t0.14258556698453415\n",
            "  (0, 8077)\t0.1669712770888808\n",
            "  (0, 1178)\t0.1669712770888808\n",
            "  (0, 6720)\t0.09939253039334757\n",
            "  (0, 1034)\t0.14056628189744372\n",
            "  (0, 633)\t0.13700718336702736\n",
            "  (0, 11182)\t0.14366855395969502\n",
            "  (0, 13142)\t0.10816721996836318\n",
            "  (0, 7722)\t0.0874285167465866\n",
            "  (0, 9513)\t0.06394158650289854\n",
            "  (0, 14352)\t0.1744398940932959\n",
            "  (0, 4823)\t0.08589709371345547\n",
            "  (0, 14318)\t0.10686114739776267\n",
            "  (0, 6783)\t0.13255293007270985\n",
            "  (0, 13018)\t0.09959538243705136\n",
            "  (0, 9579)\t0.0736878087323703\n",
            "  (0, 3325)\t0.11965590860182923\n",
            "  (0, 4727)\t0.11432976440217778\n",
            "  (0, 6061)\t0.19730018458027812\n",
            "  (0, 6401)\t0.14921553081605893\n",
            "  (0, 1273)\t0.19477864361326694\n",
            "  (0, 7859)\t0.15005418398894924\n",
            "  :\t:\n",
            "  (4757, 6612)\t0.282967046407734\n",
            "  (4757, 1886)\t0.282967046407734\n",
            "  (4757, 702)\t0.282967046407734\n",
            "  (4757, 12127)\t0.282967046407734\n",
            "  (4757, 4987)\t0.24256955606784908\n",
            "  (4757, 13281)\t0.24256955606784908\n",
            "  (4757, 12456)\t0.2382636073135533\n",
            "  (4757, 1010)\t0.1897620522430951\n",
            "  (4757, 2978)\t0.19673453718663794\n",
            "  (4757, 5712)\t0.22021783652075874\n",
            "  (4757, 11831)\t0.16361221671972725\n",
            "  (4757, 11741)\t0.15120773298106838\n",
            "  (4757, 9334)\t0.19160522332095334\n",
            "  (4757, 4685)\t0.13414457066004923\n",
            "  (4757, 2517)\t0.16786134305412895\n",
            "  (4757, 7244)\t0.23446549133727582\n",
            "  (4757, 5948)\t0.16878274045037628\n",
            "  (4757, 7171)\t0.17916887523686975\n",
            "  (4757, 13096)\t0.08017430864947131\n",
            "  (4757, 13166)\t0.09777405967688488\n",
            "  (4757, 6577)\t0.11402334640583417\n",
            "  (4757, 9288)\t0.14374223792809548\n",
            "  (4757, 3850)\t0.06524734955166166\n",
            "  (4758, 9168)\t1.0\n",
            "  (4759, 9168)\t1.0\n"
          ]
        }
      ]
    },
    {
      "cell_type": "markdown",
      "source": [
        "# **Get Similarity Score using Cosine Similarity**"
      ],
      "metadata": {
        "id": "vF6T2RF0wG63"
      }
    },
    {
      "cell_type": "code",
      "source": [
        "from sklearn.metrics.pairwise import cosine_similarity"
      ],
      "metadata": {
        "id": "zNLRC00JwUkh"
      },
      "execution_count": 27,
      "outputs": []
    },
    {
      "cell_type": "code",
      "source": [
        "Similarity_Score = cosine_similarity(x)"
      ],
      "metadata": {
        "id": "jVeMh7rFwfds"
      },
      "execution_count": 29,
      "outputs": []
    },
    {
      "cell_type": "code",
      "source": [
        "Similarity_Score"
      ],
      "metadata": {
        "colab": {
          "base_uri": "https://localhost:8080/"
        },
        "id": "bnwaJ4N4wpFS",
        "outputId": "15b6e384-00c1-4ddb-ec84-f447cc56b014"
      },
      "execution_count": 30,
      "outputs": [
        {
          "output_type": "execute_result",
          "data": {
            "text/plain": [
              "array([[1.        , 0.01383423, 0.03601212, ..., 0.        , 0.        ,\n",
              "        0.        ],\n",
              "       [0.01383423, 1.        , 0.00822535, ..., 0.        , 0.        ,\n",
              "        0.        ],\n",
              "       [0.03601212, 0.00822535, 1.        , ..., 0.        , 0.        ,\n",
              "        0.        ],\n",
              "       ...,\n",
              "       [0.        , 0.        , 0.        , ..., 1.        , 0.        ,\n",
              "        0.        ],\n",
              "       [0.        , 0.        , 0.        , ..., 0.        , 1.        ,\n",
              "        1.        ],\n",
              "       [0.        , 0.        , 0.        , ..., 0.        , 1.        ,\n",
              "        1.        ]])"
            ]
          },
          "metadata": {},
          "execution_count": 30
        }
      ]
    },
    {
      "cell_type": "code",
      "source": [
        "Similarity_Score.shape"
      ],
      "metadata": {
        "colab": {
          "base_uri": "https://localhost:8080/"
        },
        "id": "2p5ggJtdwufs",
        "outputId": "a32683c5-a957-467f-e3ea-82b2f4516eab"
      },
      "execution_count": 31,
      "outputs": [
        {
          "output_type": "execute_result",
          "data": {
            "text/plain": [
              "(4760, 4760)"
            ]
          },
          "metadata": {},
          "execution_count": 31
        }
      ]
    },
    {
      "cell_type": "code",
      "source": [],
      "metadata": {
        "id": "_1c6Vurtwy6d"
      },
      "execution_count": null,
      "outputs": []
    },
    {
      "cell_type": "markdown",
      "source": [
        "# **Get Movie Name as Input from User and Validate for Closest Spelling**"
      ],
      "metadata": {
        "id": "4PTBI8zGw2ij"
      }
    },
    {
      "cell_type": "code",
      "source": [
        "fav_movie_name = input(\"Enter your favorite movie name : \")"
      ],
      "metadata": {
        "colab": {
          "base_uri": "https://localhost:8080/"
        },
        "id": "g5SBa66wxFxi",
        "outputId": "d3ce9196-b354-4095-dc4d-26b758d1673b"
      },
      "execution_count": 32,
      "outputs": [
        {
          "name": "stdout",
          "output_type": "stream",
          "text": [
            "Enter your favorite movie name : avtaar\n"
          ]
        }
      ]
    },
    {
      "cell_type": "code",
      "source": [
        "All_movies_title_list = df['Movie_Title'].tolist()"
      ],
      "metadata": {
        "id": "ti4JKCwnxcRg"
      },
      "execution_count": 33,
      "outputs": []
    },
    {
      "cell_type": "code",
      "source": [
        "import difflib"
      ],
      "metadata": {
        "id": "CNe7LIuGxtvS"
      },
      "execution_count": 35,
      "outputs": []
    },
    {
      "cell_type": "code",
      "source": [
        "Movie_Recommendation = difflib.get_close_matches(fav_movie_name,All_movies_title_list)\n",
        "print(Movie_Recommendation)"
      ],
      "metadata": {
        "colab": {
          "base_uri": "https://localhost:8080/"
        },
        "id": "zzFSbAWcxxOp",
        "outputId": "09701dee-95d5-4e3a-9012-b80c4a15d4bb"
      },
      "execution_count": 37,
      "outputs": [
        {
          "output_type": "stream",
          "name": "stdout",
          "text": [
            "['Avatar', 'Gattaca']\n"
          ]
        }
      ]
    },
    {
      "cell_type": "code",
      "source": [
        "Close_match = Movie_Recommendation[0]\n",
        "Close_match"
      ],
      "metadata": {
        "colab": {
          "base_uri": "https://localhost:8080/",
          "height": 36
        },
        "id": "0Mrv6OzXyIAB",
        "outputId": "9638648f-a43b-467d-d945-284496a6e7e2"
      },
      "execution_count": 38,
      "outputs": [
        {
          "output_type": "execute_result",
          "data": {
            "text/plain": [
              "'Avatar'"
            ],
            "application/vnd.google.colaboratory.intrinsic+json": {
              "type": "string"
            }
          },
          "metadata": {},
          "execution_count": 38
        }
      ]
    },
    {
      "cell_type": "code",
      "source": [
        "Index_of_Close_match_movie = df[df.Movie_Title == Close_match]['Movie_ID'].values[0]\n",
        "print(Index_of_Close_match_movie)"
      ],
      "metadata": {
        "colab": {
          "base_uri": "https://localhost:8080/"
        },
        "id": "Uz-s2De3yV3g",
        "outputId": "99d9e906-17b8-4474-e173-aa42a377b57a"
      },
      "execution_count": 39,
      "outputs": [
        {
          "output_type": "stream",
          "name": "stdout",
          "text": [
            "2692\n"
          ]
        }
      ]
    },
    {
      "cell_type": "code",
      "source": [
        "Recommendation_Score = list(enumerate(Similarity_Score[Index_of_Close_match_movie]))\n",
        "print(Recommendation_Score)"
      ],
      "metadata": {
        "colab": {
          "base_uri": "https://localhost:8080/"
        },
        "id": "omutyFktyynb",
        "outputId": "1dcc9b5c-dc0c-42d7-8c5d-6b2eec5a2c84"
      },
      "execution_count": 41,
      "outputs": [
        {
          "output_type": "stream",
          "name": "stdout",
          "text": [
            "[(0, 0.010441147279099504), (1, 0.0), (2, 0.0), (3, 0.008953270743746036), (4, 0.003526920741517093), (5, 0.010947051178122169), (6, 0.005451098568769251), (7, 0.013458604229000607), (8, 0.0), (9, 0.006307533346415295), (10, 0.008091046190728158), (11, 0.0034763795711818123), (12, 0.0035995461227360565), (13, 0.012937779261776866), (14, 0.0), (15, 0.023521196099947923), (16, 0.0070466685733230625), (17, 0.0), (18, 0.015400394657807154), (19, 0.009830896740030076), (20, 0.003506798589362554), (21, 0.017132709169881816), (22, 0.006730814107924864), (23, 0.0034739487546729215), (24, 0.0022012955140284164), (25, 0.02839036470408457), (26, 0.0032607854472017006), (27, 0.005279378432526478), (28, 0.0), (29, 0.024262588780957915), (30, 0.005134977495097245), (31, 0.00793449887672365), (32, 0.008791286354707528), (33, 0.0191719134426341), (34, 0.00881718225532832), (35, 0.006298910429252718), (36, 0.0), (37, 0.0), (38, 0.008638597026283461), (39, 0.005102850264378008), (40, 0.0), (41, 0.0037466794907353475), (42, 0.007841870429272101), (43, 0.016233236642801012), (44, 0.04063632694524281), (45, 0.0909448639242056), (46, 0.019041671126082835), (47, 0.011330186286435567), (48, 0.017572438499074375), (49, 0.0), (50, 0.007521229733210652), (51, 0.016776155738304585), (52, 0.01532931960674764), (53, 0.0), (54, 0.0), (55, 0.0), (56, 0.006946133657144733), (57, 0.011322732589940604), (58, 0.0), (59, 0.0), (60, 0.008733301385413072), (61, 0.018280050830389794), (62, 0.10357177015737194), (63, 0.008102208172435114), (64, 0.0), (65, 0.03101671424467968), (66, 0.003367063495606606), (67, 0.04541083403792426), (68, 0.02513848474831398), (69, 0.0), (70, 0.013875266981185406), (71, 0.003415605604751923), (72, 0.012334747295025966), (73, 0.0), (74, 0.0035688306540086197), (75, 0.012823302751804076), (76, 0.004131988319748352), (77, 0.003844656831846204), (78, 0.0099968404347772), (79, 0.010166181530774043), (80, 0.004668793703389936), (81, 0.0075769750401923925), (82, 0.012945155656242293), (83, 0.0196855376176146), (84, 0.06216822143890865), (85, 0.017166833740848066), (86, 0.01246226157499776), (87, 0.015537461309249871), (88, 0.023166407004939653), (89, 0.04275788281825451), (90, 0.004969605787555426), (91, 0.0), (92, 0.0029703359713397185), (93, 0.004869793435336992), (94, 0.004658027988493122), (95, 0.0052358353705436135), (96, 0.010115570309482604), (97, 0.0029670563364886057), (98, 0.0032830934669538492), (99, 0.011074306545669904), (100, 0.0), (101, 0.0), (102, 0.005546045994530093), (103, 0.0029246859787761966), (104, 0.010162001093337996), (105, 0.010841940916790613), (106, 0.018909972716209745), (107, 0.009533462078035312), (108, 0.040290536313802666), (109, 0.040637731968123085), (110, 0.0870448279733714), (111, 0.010212705836912486), (112, 0.029855394997696013), (113, 0.008288837239934725), (114, 0.003341199586622227), (115, 0.0034390571748073744), (116, 0.02504488955404048), (117, 0.0), (118, 0.005134638252220812), (119, 0.009890855969312292), (120, 0.0), (121, 0.0030974252140586866), (122, 0.007061058219344095), (123, 0.020295744825989403), (124, 0.027031015368045863), (125, 0.01360492351366906), (126, 0.03921529959604782), (127, 0.003251051173338713), (128, 0.005641008854403182), (129, 0.002332768340435474), (130, 0.012341530113626584), (131, 0.006930354380474513), (132, 0.0029868525363903344), (133, 0.0), (134, 0.0), (135, 0.005104000718530785), (136, 0.0031007975643722254), (137, 0.05302270267988764), (138, 0.034756813671519886), (139, 0.0), (140, 0.0), (141, 0.0), (142, 0.02105696867762678), (143, 0.0080194659710232), (144, 0.01841869930928929), (145, 0.020630601878486074), (146, 0.0), (147, 0.019713195128968554), (148, 0.011543306421215364), (149, 0.013156881701437292), (150, 0.0), (151, 0.0), (152, 0.0049072690699647065), (153, 0.0), (154, 0.003147117164915322), (155, 0.024070227803571317), (156, 0.008293792350641281), (157, 0.0), (158, 0.00303175186222543), (159, 0.007982912843428863), (160, 0.018668860972834225), (161, 0.04431285337732353), (162, 0.008357869754944196), (163, 0.0), (164, 0.009736179168559539), (165, 0.002922598674693661), (166, 0.03446416332751979), (167, 0.027562538754362882), (168, 0.005351701964574799), (169, 0.003300261894076598), (170, 0.011411846240908574), (171, 0.0), (172, 0.04240830990437774), (173, 0.018593866542906488), (174, 0.0), (175, 0.024162819138217485), (176, 0.0), (177, 0.005829238275367712), (178, 0.0034964967208471684), (179, 0.030248838695618136), (180, 0.008161044835392197), (181, 0.015189304668432088), (182, 0.01027424909458216), (183, 0.009293243670984651), (184, 0.002961649107015193), (185, 0.04015907460321891), (186, 0.0), (187, 0.004470493104406796), (188, 0.0), (189, 0.0), (190, 0.013816567109124808), (191, 0.004554582456518893), (192, 0.0035835087168473844), (193, 0.030032826124419765), (194, 0.002690096165349179), (195, 0.002825808369106308), (196, 0.002830371513418719), (197, 0.0), (198, 0.00341033478198382), (199, 0.020887077905198018), (200, 0.007503716476197306), (201, 0.013215112763798328), (202, 0.002194537274335569), (203, 0.017654893213925663), (204, 0.019411446163845058), (205, 0.0), (206, 0.011610663993680128), (207, 0.014259310156958725), (208, 0.016171277949164488), (209, 0.017910884851167798), (210, 0.0), (211, 0.0034910470970119806), (212, 0.01744379776017248), (213, 0.04952452749174968), (214, 0.0), (215, 0.003294024439875146), (216, 0.011310166456405995), (217, 0.00739346586803635), (218, 0.016967515179986584), (219, 0.0), (220, 0.005355772825199794), (221, 0.0032050871488266248), (222, 0.019403992797244987), (223, 0.0), (224, 0.008391731800709444), (225, 0.0), (226, 0.003367241282102508), (227, 0.0), (228, 0.002532750793419836), (229, 0.003143355797287558), (230, 0.006665305805061794), (231, 0.014327139096663341), (232, 0.007381867044546622), (233, 0.005047388046816988), (234, 0.004360495093152513), (235, 0.0038049448230061626), (236, 0.015143584377312867), (237, 0.0), (238, 0.008577684516256644), (239, 0.0053793280073909456), (240, 0.02814817760036084), (241, 0.030323125517956965), (242, 0.008771121936834327), (243, 0.010716448043334222), (244, 0.012471546021817704), (245, 0.0), (246, 0.0035599582665912966), (247, 0.003311069647219454), (248, 0.006297967519814373), (249, 0.0029507996649409973), (250, 0.03256262326089689), (251, 0.0153767140624828), (252, 0.0), (253, 0.0036666207691519494), (254, 0.0), (255, 0.008816598418502703), (256, 0.00826555150496484), (257, 0.02216420565438005), (258, 0.0), (259, 0.0), (260, 0.004851656938768161), (261, 0.022580776198962073), (262, 0.0035528091247158384), (263, 0.006408901265284805), (264, 0.0), (265, 0.0), (266, 0.011684878446525571), (267, 0.002855095291335704), (268, 0.0030043426388230545), (269, 0.026213256480451554), (270, 0.011453564848460399), (271, 0.011672330777866627), (272, 0.0), (273, 0.011502214879338762), (274, 0.012552144861550547), (275, 0.0), (276, 0.01509728569271106), (277, 0.043280160740857845), (278, 0.0028962899057818218), (279, 0.017319924414334), (280, 0.017767583033650256), (281, 0.0), (282, 0.060462165995202946), (283, 0.0074543667130862815), (284, 0.029126532126418175), (285, 0.009872656436205945), (286, 0.002884887759095117), (287, 0.016667296018882893), (288, 0.010143437746966844), (289, 0.00409695120903539), (290, 0.004185458375325828), (291, 0.011557147786181906), (292, 0.053341606109854826), (293, 0.0024006710274271743), (294, 0.0040596481286042305), (295, 0.004165612609952356), (296, 0.01651574051053309), (297, 0.0), (298, 0.0), (299, 0.0), (300, 0.006503306230945065), (301, 0.0072104388347105485), (302, 0.0), (303, 0.005512146171172556), (304, 0.011712364879963213), (305, 0.005030668534778387), (306, 0.0046729178153404865), (307, 0.009566741113403459), (308, 0.0), (309, 0.008093770335149485), (310, 0.00484090871660789), (311, 0.007164825694240685), (312, 0.0), (313, 0.012355226789471197), (314, 0.004262537493416927), (315, 0.005082513338848586), (316, 0.004688769494867632), (317, 0.014854970524428985), (318, 0.003625011218967661), (319, 0.0), (320, 0.005295193436296232), (321, 0.011452679697907175), (322, 0.011655031832387051), (323, 0.004551132380842873), (324, 0.003079740425576205), (325, 0.00317548047709434), (326, 0.0), (327, 0.010650195279233976), (328, 0.04355087948464337), (329, 0.02138115809867528), (330, 0.02124219858874292), (331, 0.0), (332, 0.014100202145251962), (333, 0.011293839292437258), (334, 0.033934770126199595), (335, 0.0), (336, 0.004898779470293776), (337, 0.0), (338, 0.0), (339, 0.0), (340, 0.007326372177863343), (341, 0.012763881339438172), (342, 0.019323975177937408), (343, 0.016998208929760658), (344, 0.0), (345, 0.02494835363859339), (346, 0.01007860142633622), (347, 0.005083337827820894), (348, 0.0033320224432121658), (349, 0.003263488095468816), (350, 0.009185158867023572), (351, 0.0025646468737283335), (352, 0.0), (353, 0.010268662977370002), (354, 0.010866182868191803), (355, 0.0031013830554195987), (356, 0.014517199673522684), (357, 0.002878568799395924), (358, 0.016420399195524668), (359, 0.0030802013234055717), (360, 0.04203955871231365), (361, 0.0), (362, 0.0), (363, 0.007427098188668904), (364, 0.018750017082365997), (365, 0.0), (366, 0.0), (367, 0.007328506959496075), (368, 0.009064580310258504), (369, 0.005846225766202844), (370, 0.015954563468143782), (371, 0.029211117323679554), (372, 0.00313592668972567), (373, 0.0031729299663560673), (374, 0.01668730648852644), (375, 0.004989040517078143), (376, 0.0), (377, 0.0034382887757688756), (378, 0.0033717478469410716), (379, 0.0), (380, 0.005807821023637701), (381, 0.02550599511935959), (382, 0.0), (383, 0.021471167887002502), (384, 0.05199669563126275), (385, 0.00841995998815767), (386, 0.0070658143486953965), (387, 0.03223848561365769), (388, 0.0031773027799321574), (389, 0.0049792393875050574), (390, 0.0), (391, 0.0), (392, 0.0), (393, 0.0), (394, 0.0), (395, 0.00359256979660446), (396, 0.010645359074229793), (397, 0.004627447206819756), (398, 0.024230224043837324), (399, 0.003107027484585544), (400, 0.003322217624678419), (401, 0.0), (402, 0.0), (403, 0.008638326059226691), (404, 0.0), (405, 0.0), (406, 0.0), (407, 0.013541463151029439), (408, 0.0441777848363411), (409, 0.0167491627935153), (410, 0.003106707721506015), (411, 0.0), (412, 0.045667418653561075), (413, 0.007266825114964164), (414, 0.005132288439737325), (415, 0.0), (416, 0.0030661696962212986), (417, 0.011866890726181228), (418, 0.013478473392950819), (419, 0.0), (420, 0.005485388996189593), (421, 0.02751616495622169), (422, 0.007187507666351081), (423, 0.0), (424, 0.0618266379490775), (425, 0.005744639187568277), (426, 0.004766578214389361), (427, 0.0), (428, 0.03091058223136038), (429, 0.01674261903278309), (430, 0.03070995692395085), (431, 0.0), (432, 0.002871490749313781), (433, 0.0180526397652388), (434, 0.010402155702198513), (435, 0.010372512751822096), (436, 0.009420082071178107), (437, 0.0), (438, 0.04314914872417264), (439, 0.0), (440, 0.0), (441, 0.008417811516888328), (442, 0.022249676604478), (443, 0.009758581239106742), (444, 0.0037252138956342705), (445, 0.008723619286770878), (446, 0.009928264027029038), (447, 0.01665109052575322), (448, 0.0038539010874092112), (449, 0.009195280470380433), (450, 0.017611466157931854), (451, 0.005078603983278549), (452, 0.01288166406073996), (453, 0.0025774459116353486), (454, 0.0), (455, 0.04217174261289936), (456, 0.0035354079782583736), (457, 0.0030763812186766683), (458, 0.01791185537371874), (459, 0.02642911766757472), (460, 0.005049209609452483), (461, 0.0), (462, 0.0), (463, 0.021234497997945703), (464, 0.01002725973367886), (465, 0.029465407430169777), (466, 0.0033118895369891104), (467, 0.00503406056323572), (468, 0.01111939369464143), (469, 0.004223688735755712), (470, 0.01616892152003686), (471, 0.0031429337801775286), (472, 0.010473463430233209), (473, 0.0), (474, 0.008045371593578059), (475, 0.003587643189562965), (476, 0.0), (477, 0.005478483527568772), (478, 0.0), (479, 0.05274849527473975), (480, 0.0029699601742031964), (481, 0.017406814811766865), (482, 0.0), (483, 0.011624069045163062), (484, 0.0), (485, 0.01167600299849255), (486, 0.0), (487, 0.0), (488, 0.0), (489, 0.0), (490, 0.0033194521389866274), (491, 0.0), (492, 0.0), (493, 0.008941840312852424), (494, 0.007666679501625997), (495, 0.002935749608991359), (496, 0.01457442676857829), (497, 0.006823098340127916), (498, 0.0), (499, 0.0036340025077661125), (500, 0.012395429695081821), (501, 0.011466211155211185), (502, 0.016817797849197826), (503, 0.007492154973193402), (504, 0.0033677391648528577), (505, 0.0), (506, 0.0), (507, 0.0031780147874951132), (508, 0.0038097419566563056), (509, 0.008657816539074638), (510, 0.014913374374574764), (511, 0.01704701600132333), (512, 0.006018375566887242), (513, 0.005507552758210317), (514, 0.005525099384749517), (515, 0.023592329879224293), (516, 0.0), (517, 0.0), (518, 0.0), (519, 0.05094618650977359), (520, 0.0), (521, 0.006490865945745191), (522, 0.027876767986875436), (523, 0.012429518803231988), (524, 0.0030709722650848047), (525, 0.0), (526, 0.0), (527, 0.013478280822943256), (528, 0.0), (529, 0.0), (530, 0.030263556606418926), (531, 0.0), (532, 0.011826543477210424), (533, 0.0), (534, 0.01588078253035058), (535, 0.0), (536, 0.0), (537, 0.01354471694193635), (538, 0.011306846212609169), (539, 0.007405220851075732), (540, 0.03436672844304843), (541, 0.003263853358128331), (542, 0.0112778529378363), (543, 0.016735093895318083), (544, 0.011127266485748386), (545, 0.01342164691844565), (546, 0.0), (547, 0.03503396955515583), (548, 0.0), (549, 0.0), (550, 0.005581859445079861), (551, 0.01746717932813101), (552, 0.0), (553, 0.019458851327040252), (554, 0.0), (555, 0.011261302758735884), (556, 0.0), (557, 0.0), (558, 0.010163771264412211), (559, 0.004556026786369339), (560, 0.012703498242137456), (561, 0.005066978011487389), (562, 0.0064277782931902415), (563, 0.007609055133921898), (564, 0.0), (565, 0.0), (566, 0.020768820562984812), (567, 0.0), (568, 0.006322895094963208), (569, 0.0), (570, 0.0), (571, 0.006499228395562772), (572, 0.0), (573, 0.0), (574, 0.0), (575, 0.0), (576, 0.0), (577, 0.0), (578, 0.03352267371489324), (579, 0.00337280330498846), (580, 0.008801159804703003), (581, 0.007623390474940039), (582, 0.007963743572101811), (583, 0.006199562082635332), (584, 0.016630936941237955), (585, 0.0), (586, 0.015916342043190642), (587, 0.0036551820617209217), (588, 0.003487261064205244), (589, 0.0031153725603589462), (590, 0.06339649113460473), (591, 0.0), (592, 0.0), (593, 0.0), (594, 0.0030225769875847274), (595, 0.0), (596, 0.0), (597, 0.009164680343903529), (598, 0.003145723931258767), (599, 0.0), (600, 0.0071228700952870455), (601, 0.0), (602, 0.0), (603, 0.0), (604, 0.014719507016650613), (605, 0.002968217684925487), (606, 0.008718482653249284), (607, 0.0025909589672806206), (608, 0.007635318120257027), (609, 0.013534743891723601), (610, 0.0), (611, 0.005410544646453905), (612, 0.003594665363814651), (613, 0.022678329974407482), (614, 0.0038359356054155826), (615, 0.04409401030033923), (616, 0.008469728655651973), (617, 0.00715471676975948), (618, 0.03126554146232057), (619, 0.0050539666399606505), (620, 0.016373428245213664), (621, 0.010829951440420666), (622, 0.017010036071539825), (623, 0.0035639349819101994), (624, 0.00309681162641648), (625, 0.004366862736974103), (626, 0.002865556862076744), (627, 0.0), (628, 0.08210066456199588), (629, 0.02975742007207806), (630, 0.0), (631, 0.010474687683174206), (632, 0.03903808411601434), (633, 0.004987610134129892), (634, 0.004990546925140839), (635, 0.013008830919537785), (636, 0.008519936300519027), (637, 0.04521891913294705), (638, 0.017326004206409396), (639, 0.004307887623152007), (640, 0.004267796882069471), (641, 0.02418020377341572), (642, 0.0072682958462862626), (643, 0.022174184600985962), (644, 0.007919640845409451), (645, 0.002775147219039045), (646, 0.0), (647, 0.00292737464381968), (648, 0.012685849539105716), (649, 0.0), (650, 0.0), (651, 0.009830437738094616), (652, 0.01635495212134972), (653, 0.013993140128167571), (654, 0.013439317810456496), (655, 0.003143678937504833), (656, 0.0), (657, 0.025220518231362763), (658, 0.0), (659, 0.0031412288696995717), (660, 0.008787418914328885), (661, 0.004729353878643254), (662, 0.0), (663, 0.0), (664, 0.012808935420658144), (665, 0.0), (666, 0.005712010360102814), (667, 0.0), (668, 0.010130854288789886), (669, 0.020997375267836862), (670, 0.028816491087636006), (671, 0.007022161091498405), (672, 0.02442300233628845), (673, 0.04496408866366691), (674, 0.0), (675, 0.06318722872786423), (676, 0.015613494296549974), (677, 0.01676864175928372), (678, 0.013813933337876743), (679, 0.0), (680, 0.0035875605873492054), (681, 0.0), (682, 0.04447112836779134), (683, 0.012259835791772774), (684, 0.013020454730816453), (685, 0.005211205869159977), (686, 0.0), (687, 0.0), (688, 0.009362244741915014), (689, 0.02014724569155778), (690, 0.0047645385376437685), (691, 0.02291230895642457), (692, 0.016790789528196008), (693, 0.0), (694, 0.03657611819973392), (695, 0.011715961831822521), (696, 0.008462275119040265), (697, 0.010110510497737393), (698, 0.0031727053367145916), (699, 0.0), (700, 0.0), (701, 0.017928669544551728), (702, 0.0), (703, 0.0030038989723836975), (704, 0.0), (705, 0.009021411265061938), (706, 0.02428426306972398), (707, 0.0028074688881138004), (708, 0.0), (709, 0.0), (710, 0.03524505360359023), (711, 0.0), (712, 0.0029433807640609666), (713, 0.0), (714, 0.0), (715, 0.011144048775056625), (716, 0.008877023438681013), (717, 0.0034891563177568427), (718, 0.0), (719, 0.01219842521063795), (720, 0.0), (721, 0.0), (722, 0.0030167378365937745), (723, 0.004299674028280781), (724, 0.0), (725, 0.0), (726, 0.0), (727, 0.008328350912566573), (728, 0.00909649940834218), (729, 0.009395861540978854), (730, 0.0), (731, 0.003224377005749218), (732, 0.013655497651675098), (733, 0.013936602703845287), (734, 0.009457372545435855), (735, 0.0), (736, 0.0), (737, 0.011369857495733247), (738, 0.004177063680928229), (739, 0.0038185090447387013), (740, 0.002243673890914657), (741, 0.0), (742, 0.014351325010212804), (743, 0.008687050718998161), (744, 0.007836263135267283), (745, 0.0070808515538191875), (746, 0.0), (747, 0.0), (748, 0.007203066694323029), (749, 0.00335789519805881), (750, 0.00860404073957048), (751, 0.0), (752, 0.007068952983555792), (753, 0.0), (754, 0.0), (755, 0.0032535297328010826), (756, 0.004467029593333366), (757, 0.019616764875198662), (758, 0.006786364356330566), (759, 0.003060786717903374), (760, 0.014383995660774872), (761, 0.0), (762, 0.016252321750680886), (763, 0.020727833448135436), (764, 0.0), (765, 0.005358889047762905), (766, 0.03157066596312923), (767, 0.0031852919004856815), (768, 0.018538324361925995), (769, 0.008337798326086547), (770, 0.0), (771, 0.0), (772, 0.0), (773, 0.0), (774, 0.036948141611483104), (775, 0.014384900510575617), (776, 0.016760362585343743), (777, 0.0), (778, 0.00695741722895569), (779, 0.020048195317796762), (780, 0.0), (781, 0.0), (782, 0.009866851073219395), (783, 0.0), (784, 0.0), (785, 0.0), (786, 0.0), (787, 0.031283061457792895), (788, 0.04062404373877819), (789, 0.0), (790, 0.012283385761270017), (791, 0.0036059425405444118), (792, 0.011683663491249895), (793, 0.005275733940416757), (794, 0.018367253191746893), (795, 0.018007612108606935), (796, 0.018077691582434854), (797, 0.0), (798, 0.0032040849697343074), (799, 0.01571652231539271), (800, 0.013609125146486083), (801, 0.011691521367694488), (802, 0.005561507777915559), (803, 0.004532794697037884), (804, 0.0075913158032540964), (805, 0.0031218076106371215), (806, 0.011341166691723161), (807, 0.0), (808, 0.019468602636889196), (809, 0.012233188164622696), (810, 0.0047405276591644145), (811, 0.005141738484680944), (812, 0.032189752997273), (813, 0.00375717736011775), (814, 0.013884076737503324), (815, 0.0029920318233193563), (816, 0.008963163901108545), (817, 0.009817244729076103), (818, 0.03472383228299412), (819, 0.0), (820, 0.0), (821, 0.0062311602389799456), (822, 0.0), (823, 0.0), (824, 0.024715547263274528), (825, 0.012356707948864676), (826, 0.0), (827, 0.01193735229106027), (828, 0.010353804069916303), (829, 0.014803575225763489), (830, 0.03562495310246652), (831, 0.005965392838904393), (832, 0.026905855701060053), (833, 0.013587559456932404), (834, 0.006774825172753425), (835, 0.006456791982883004), (836, 0.0276609621636159), (837, 0.0), (838, 0.009370713999018643), (839, 0.0), (840, 0.0), (841, 0.0), (842, 0.015425729785816755), (843, 0.008360851096267165), (844, 0.014579827420639006), (845, 0.008843771911248612), (846, 0.0), (847, 0.011539145087030826), (848, 0.003398158502060698), (849, 0.005065081398124217), (850, 0.010341656617702682), (851, 0.00963647213790199), (852, 0.027222978926104823), (853, 0.017706679550115668), (854, 0.0032087611028546867), (855, 0.005770351304266245), (856, 0.0030036312340233117), (857, 0.003714298929972624), (858, 0.019570613835994167), (859, 0.0), (860, 0.0), (861, 0.007294123625528264), (862, 0.006525637540401691), (863, 0.007704007670748005), (864, 0.03336210319968805), (865, 0.003444521707497308), (866, 0.01498640468116541), (867, 0.016692177267614242), (868, 0.00786788875578202), (869, 0.007825857675138008), (870, 0.02236237997139695), (871, 0.003433157207458601), (872, 0.0035768143135922006), (873, 0.0498206069253527), (874, 0.03734311795099154), (875, 0.013956851344854857), (876, 0.0), (877, 0.0501940336525769), (878, 0.015163831680102212), (879, 0.016813174621492687), (880, 0.008256247643027079), (881, 0.0), (882, 0.0), (883, 0.0032178055456886846), (884, 0.003503080937008793), (885, 0.025916980178771483), (886, 0.0031171114326628995), (887, 0.003657761017771336), (888, 0.017808822270551125), (889, 0.0), (890, 0.003523376734292295), (891, 0.0053482953856988785), (892, 0.0), (893, 0.004577589691506519), (894, 0.010913641282300022), (895, 0.01576900259833624), (896, 0.017380498047414247), (897, 0.010237374586621887), (898, 0.00457808644848951), (899, 0.015648340927416547), (900, 0.01428292869447716), (901, 0.002792140457343323), (902, 0.005205771845951246), (903, 0.0), (904, 0.04633203897135145), (905, 0.014590610024282186), (906, 0.013629329797218216), (907, 0.0030841914003314724), (908, 0.007697920041844573), (909, 0.0), (910, 0.007732981398376372), (911, 0.036739623885276546), (912, 0.0), (913, 0.0), (914, 0.0), (915, 0.012251232382294735), (916, 0.01802892453083093), (917, 0.0), (918, 0.013051599610565769), (919, 0.005123272305732738), (920, 0.0), (921, 0.009480722102878971), (922, 0.0), (923, 0.0080954402130195), (924, 0.008891968931112632), (925, 0.0), (926, 0.0), (927, 0.004996982141221935), (928, 0.013211124980469124), (929, 0.015480217438052585), (930, 0.008915224967326791), (931, 0.012750548901495174), (932, 0.004536922240201509), (933, 0.0), (934, 0.015390968040943677), (935, 0.03213590714206124), (936, 0.013753700168320365), (937, 0.0), (938, 0.0), (939, 0.010334988623658713), (940, 0.007185906674375464), (941, 0.0), (942, 0.025449500121747445), (943, 0.0), (944, 0.00313065019847117), (945, 0.0), (946, 0.0), (947, 0.0), (948, 0.009612208884711447), (949, 0.01203120688496108), (950, 0.0), (951, 0.0028369431176414888), (952, 0.03107671905511413), (953, 0.006744283023429464), (954, 0.0), (955, 0.0), (956, 0.0), (957, 0.015520696759097265), (958, 0.006188052447642414), (959, 0.0032713293316060568), (960, 0.0), (961, 0.0), (962, 0.009569590811167285), (963, 0.014243540329830884), (964, 0.0), (965, 0.0), (966, 0.009648237406623192), (967, 0.026080591528945006), (968, 0.019949313698854443), (969, 0.003426030224815639), (970, 0.010117846859519372), (971, 0.0), (972, 0.0), (973, 0.0033148144472038257), (974, 0.00479069032570434), (975, 0.0031397776417158747), (976, 0.029483720663318704), (977, 0.0), (978, 0.0), (979, 0.010516826338601706), (980, 0.008739877272557785), (981, 0.007615785810885949), (982, 0.0), (983, 0.0), (984, 0.003189265683143604), (985, 0.003831138207245078), (986, 0.0), (987, 0.0034840736651528545), (988, 0.015917568698717362), (989, 0.015791873090469727), (990, 0.0), (991, 0.009081957728310584), (992, 0.00539211863560879), (993, 0.003338929592690298), (994, 0.011160623756435614), (995, 0.0), (996, 0.0), (997, 0.004558247766961741), (998, 0.0), (999, 0.0), (1000, 0.014463670232553186), (1001, 0.007996423151279452), (1002, 0.0031802830344107866), (1003, 0.02081034029701737), (1004, 0.003000556271414501), (1005, 0.013646033906770886), (1006, 0.010563849513365746), (1007, 0.0035365364777890512), (1008, 0.0), (1009, 0.013452299706564941), (1010, 0.0), (1011, 0.0), (1012, 0.011827676687912717), (1013, 0.0), (1014, 0.007840672881388287), (1015, 0.02479863962440073), (1016, 0.0), (1017, 0.022309629009874765), (1018, 0.01717163016766722), (1019, 0.0), (1020, 0.0), (1021, 0.05980206504689928), (1022, 0.0), (1023, 0.04633147060125288), (1024, 0.03952068598222784), (1025, 0.0), (1026, 0.0032860765319676862), (1027, 0.0032246467045481137), (1028, 0.0), (1029, 0.0), (1030, 0.05171908873558632), (1031, 0.0), (1032, 0.0031847619372266096), (1033, 0.022709288090901756), (1034, 0.0032013719334384725), (1035, 0.01565869844749372), (1036, 0.0031800533859259704), (1037, 0.008236716625334761), (1038, 0.0), (1039, 0.0), (1040, 0.0), (1041, 0.007968510135050243), (1042, 0.0028346487049091327), (1043, 0.030988352723167346), (1044, 0.008143342663654823), (1045, 0.015648122657118523), (1046, 0.028601120714472072), (1047, 0.01332883013982577), (1048, 0.010532403173162255), (1049, 0.0), (1050, 0.009304914889561904), (1051, 0.0), (1052, 0.020061852231534304), (1053, 0.0), (1054, 0.01199266986982251), (1055, 0.0), (1056, 0.0), (1057, 0.02576300846534174), (1058, 0.015538337051921449), (1059, 0.028408406069282334), (1060, 0.027619485331754786), (1061, 0.011473094155001171), (1062, 0.0), (1063, 0.03526879528737006), (1064, 0.0), (1065, 0.0), (1066, 0.0), (1067, 0.0), (1068, 0.032036807409049614), (1069, 0.007607898744250456), (1070, 0.0), (1071, 0.008961150450478768), (1072, 0.0), (1073, 0.0), (1074, 0.01948782404955794), (1075, 0.010717759024279199), (1076, 0.007327129704922839), (1077, 0.0), (1078, 0.009199916471569595), (1079, 0.003103213527380852), (1080, 0.0030097743299321283), (1081, 0.0), (1082, 0.004998701459267807), (1083, 0.0), (1084, 0.00328533029818434), (1085, 0.03604742115073092), (1086, 0.0), (1087, 0.010327633897755262), (1088, 0.0028822612185388954), (1089, 0.0), (1090, 0.011971017127510687), (1091, 0.0), (1092, 0.010638126848090703), (1093, 0.0), (1094, 0.006667273171700688), (1095, 0.028895802228661175), (1096, 0.009901770598585784), (1097, 0.0), (1098, 0.022394131283987984), (1099, 0.012482524672164378), (1100, 0.0032911110342981947), (1101, 0.0), (1102, 0.051486396692071584), (1103, 0.0), (1104, 0.013236575503638038), (1105, 0.0), (1106, 0.0), (1107, 0.014963238574060428), (1108, 0.0), (1109, 0.0036943089825617705), (1110, 0.0032957671127997663), (1111, 0.0069633726778121), (1112, 0.01853586690223049), (1113, 0.0), (1114, 0.01563333598507393), (1115, 0.01631468900427486), (1116, 0.015218600907082842), (1117, 0.0032278724326555396), (1118, 0.06121094777567529), (1119, 0.01706825565815092), (1120, 0.004354458749320692), (1121, 0.0), (1122, 0.0034256358340308663), (1123, 0.008060603591098727), (1124, 0.01046405204170929), (1125, 0.007355364969586168), (1126, 0.0), (1127, 0.004991727614462873), (1128, 0.014053247950158729), (1129, 0.018774471797075122), (1130, 0.0), (1131, 0.0033524574425260485), (1132, 0.02252641212309011), (1133, 0.0), (1134, 0.06220382248382895), (1135, 0.0), (1136, 0.008952138838782686), (1137, 0.030120090759869624), (1138, 0.008554122112850775), (1139, 0.0), (1140, 0.009046104285125613), (1141, 0.02446331538780644), (1142, 0.0), (1143, 0.0), (1144, 0.008052667357794937), (1145, 0.0), (1146, 0.03465899397243696), (1147, 0.0), (1148, 0.0), (1149, 0.0), (1150, 0.005465251975448633), (1151, 0.0), (1152, 0.014217056307768969), (1153, 0.0035786786844643017), (1154, 0.004526424509306877), (1155, 0.0), (1156, 0.0), (1157, 0.012433914379664658), (1158, 0.0), (1159, 0.0), (1160, 0.0), (1161, 0.0), (1162, 0.028760242681570604), (1163, 0.0033609090782127345), (1164, 0.004133042823260389), (1165, 0.0), (1166, 0.0), (1167, 0.005495516957994539), (1168, 0.0039972893096752345), (1169, 0.0038912903609338587), (1170, 0.0033695235273045756), (1171, 0.0), (1172, 0.006815323855566541), (1173, 0.0312542992394974), (1174, 0.008627357377908765), (1175, 0.01880539059567194), (1176, 0.003431781320479227), (1177, 0.007980648933111387), (1178, 0.0), (1179, 0.008370979453914771), (1180, 0.0), (1181, 0.027167878616666846), (1182, 0.0), (1183, 0.01502071457328024), (1184, 0.018220957841955703), (1185, 0.013376338745058605), (1186, 0.02515042289889766), (1187, 0.0), (1188, 0.008837183296057925), (1189, 0.0), (1190, 0.0), (1191, 0.008471615833112251), (1192, 0.015903332265659872), (1193, 0.0), (1194, 0.012663555523964132), (1195, 0.033333361967328), (1196, 0.0), (1197, 0.004684248395216189), (1198, 0.0), (1199, 0.0029690655230336497), (1200, 0.0), (1201, 0.0), (1202, 0.019995041295917285), (1203, 0.04522762673157594), (1204, 0.0034056007890182127), (1205, 0.02689315599665928), (1206, 0.009541632669073055), (1207, 0.004844335886390847), (1208, 0.004235494569345834), (1209, 0.002793177123751898), (1210, 0.00370915401730761), (1211, 0.004823999628931003), (1212, 0.0), (1213, 0.006666693793955068), (1214, 0.006426065640773938), (1215, 0.013096751011586607), (1216, 0.016899543566294653), (1217, 0.0029068813744840107), (1218, 0.0), (1219, 0.0030137610256792736), (1220, 0.013841072064988068), (1221, 0.0), (1222, 0.0), (1223, 0.008489311940174151), (1224, 0.016665432866359686), (1225, 0.0088559602980195), (1226, 0.019349358131745757), (1227, 0.0), (1228, 0.0), (1229, 0.008744328646053269), (1230, 0.012275478346163491), (1231, 0.007294702759395811), (1232, 0.01604507649666689), (1233, 0.0), (1234, 0.011563950597560727), (1235, 0.0), (1236, 0.034666155213770665), (1237, 0.014628088973887197), (1238, 0.0067406601886367875), (1239, 0.01350230820461306), (1240, 0.0), (1241, 0.03762034409407976), (1242, 0.0), (1243, 0.05563189623838443), (1244, 0.0), (1245, 0.018009673680942726), (1246, 0.0), (1247, 0.0032571627612845494), (1248, 0.044804968175662034), (1249, 0.011865196564876116), (1250, 0.006993253512270069), (1251, 0.002982353559095712), (1252, 0.015902541118895268), (1253, 0.0), (1254, 0.017246819747471553), (1255, 0.014505436981553125), (1256, 0.0), (1257, 0.046719099749403), (1258, 0.0), (1259, 0.011510690026026286), (1260, 0.00851011801642602), (1261, 0.045692891527177044), (1262, 0.0), (1263, 0.0), (1264, 0.0), (1265, 0.0), (1266, 0.012228424736293788), (1267, 0.0065915593278073874), (1268, 0.0), (1269, 0.0), (1270, 0.021319523651621982), (1271, 0.0), (1272, 0.03499415974869356), (1273, 0.0031886034577324252), (1274, 0.017371300728723126), (1275, 0.018444886974446864), (1276, 0.00952613752953832), (1277, 0.0025095526366309207), (1278, 0.015303965762983509), (1279, 0.010010088469065507), (1280, 0.005337207146110944), (1281, 0.004655891501876044), (1282, 0.00821174204526675), (1283, 0.023825798308133524), (1284, 0.0032703154871074587), (1285, 0.0), (1286, 0.0032990175990098053), (1287, 0.0), (1288, 0.0), (1289, 0.0), (1290, 0.016430449741666055), (1291, 0.0), (1292, 0.04387658527680938), (1293, 0.013062629594358785), (1294, 0.0034729867693496963), (1295, 0.0), (1296, 0.0), (1297, 0.0), (1298, 0.003341549919171927), (1299, 0.0), (1300, 0.010742058219668824), (1301, 0.002944829027856193), (1302, 0.0444009546139382), (1303, 0.0130167949737146), (1304, 0.003354044355308878), (1305, 0.002780437690951113), (1306, 0.007450804829779553), (1307, 0.00638672988693907), (1308, 0.009349386774740764), (1309, 0.004344139673318858), (1310, 0.012351265882260215), (1311, 0.03414885221417217), (1312, 0.008597584960543104), (1313, 0.0033166868107334883), (1314, 0.02754291367485181), (1315, 0.0), (1316, 0.006071923251139431), (1317, 0.01432295079943673), (1318, 0.0030031254025387945), (1319, 0.003265265710031449), (1320, 0.03895690677596542), (1321, 0.0), (1322, 0.0), (1323, 0.0), (1324, 0.003570758607420762), (1325, 0.01734798282992516), (1326, 0.0), (1327, 0.0064889750727292915), (1328, 0.0), (1329, 0.006696786537411564), (1330, 0.007423246754992902), (1331, 0.014013198750290858), (1332, 0.005632319505773706), (1333, 0.0), (1334, 0.011216274009739735), (1335, 0.01616450743834245), (1336, 0.0), (1337, 0.016367020910928974), (1338, 0.010818810212680786), (1339, 0.011605971324175787), (1340, 0.0028660416418092374), (1341, 0.07659656501970327), (1342, 0.012783509553196862), (1343, 0.015037203067828159), (1344, 0.006160918460739992), (1345, 0.006778778650915832), (1346, 0.0), (1347, 0.004898957326114956), (1348, 0.011097148520856547), (1349, 0.003769250413633977), (1350, 0.0), (1351, 0.026232524067841594), (1352, 0.002870833874726435), (1353, 0.0), (1354, 0.0), (1355, 0.0034554210021080388), (1356, 0.00715561087801353), (1357, 0.0031147477534511623), (1358, 0.043048950015454335), (1359, 0.010890542457831304), (1360, 0.014676497668080286), (1361, 0.01548303846603868), (1362, 0.022779413233495097), (1363, 0.028913798726009927), (1364, 0.003465239254007932), (1365, 0.018325828242314962), (1366, 0.0030363570476054725), (1367, 0.03323296232776665), (1368, 0.0), (1369, 0.04360501180242733), (1370, 0.0028981390593218544), (1371, 0.0), (1372, 0.0031227907686526522), (1373, 0.0), (1374, 0.0068302404727153855), (1375, 0.007991473174039986), (1376, 0.012964590283956735), (1377, 0.01830049015289523), (1378, 0.003369417594931279), (1379, 0.03373837557694733), (1380, 0.0053488674030922265), (1381, 0.005793894204311638), (1382, 0.01051266268247613), (1383, 0.08533771667155275), (1384, 0.018030667823781953), (1385, 0.022787432697452197), (1386, 0.0186399438214373), (1387, 0.009966448870453231), (1388, 0.007687138901834437), (1389, 0.03357842204499141), (1390, 0.0), (1391, 0.005657598130175899), (1392, 0.0029712445124504107), (1393, 0.0418361023808926), (1394, 0.0029609384048878192), (1395, 0.004123433334486798), (1396, 0.012408524043788966), (1397, 0.0), (1398, 0.03164915606639453), (1399, 0.0), (1400, 0.0088659134435427), (1401, 0.014339002610215942), (1402, 0.0035142864545819486), (1403, 0.018333445670616084), (1404, 0.003175240402509883), (1405, 0.028176686625562206), (1406, 0.01241346078066886), (1407, 0.012503814299656343), (1408, 0.003251992580184997), (1409, 0.0035889312111996824), (1410, 0.0033728538377772416), (1411, 0.0032874154788205628), (1412, 0.025115443926131978), (1413, 0.015437216264066873), (1414, 0.007525233996438604), (1415, 0.0), (1416, 0.0031965331005555805), (1417, 0.017850224764441817), (1418, 0.010507067134596799), (1419, 0.012826135600924313), (1420, 0.011881907620416219), (1421, 0.008057334486435011), (1422, 0.0032694372174851528), (1423, 0.0029914492633433248), (1424, 0.0), (1425, 0.0069311601206667635), (1426, 0.005388374023690005), (1427, 0.0027747030433217593), (1428, 0.00480782345404103), (1429, 0.0), (1430, 0.02828445128385489), (1431, 0.005171183581989122), (1432, 0.01324518855297721), (1433, 0.007818100393801805), (1434, 0.0), (1435, 0.005160977337941286), (1436, 0.013442262957296603), (1437, 0.0), (1438, 0.010904877221168924), (1439, 0.003478228473355429), (1440, 0.011152466921656605), (1441, 0.0), (1442, 0.011664471111827668), (1443, 0.01933241579357355), (1444, 0.0), (1445, 0.01598762525655856), (1446, 0.00974883505069391), (1447, 0.0), (1448, 0.007759316034091944), (1449, 0.0), (1450, 0.0028753859134050277), (1451, 0.004765831211715422), (1452, 0.0053700855388671784), (1453, 0.005488639737796022), (1454, 0.009255063499719014), (1455, 0.012701836497396219), (1456, 0.0031193080048393215), (1457, 0.0), (1458, 0.004299826521672726), (1459, 0.0), (1460, 0.0), (1461, 0.014668769434873179), (1462, 0.007750476091080346), (1463, 0.0032269405994539016), (1464, 0.03277658735988359), (1465, 0.014776367202784909), (1466, 0.0), (1467, 0.0), (1468, 0.0), (1469, 0.005270901887105276), (1470, 0.0), (1471, 0.02201269796641165), (1472, 0.00849427604373016), (1473, 0.0), (1474, 0.0037386966430615776), (1475, 0.01054703734385569), (1476, 0.003383295791375278), (1477, 0.009313202281451344), (1478, 0.015292768051157004), (1479, 0.0036986748035915938), (1480, 0.0047243833287378), (1481, 0.015465640686853785), (1482, 0.028410271638628797), (1483, 0.015947090481268064), (1484, 0.008916113452030637), (1485, 0.0), (1486, 0.007486603200183081), (1487, 0.0), (1488, 0.008360560248673442), (1489, 0.009367321634746864), (1490, 0.0), (1491, 0.0), (1492, 0.02179866561546704), (1493, 0.01794249057185928), (1494, 0.010488451133216), (1495, 0.0), (1496, 0.0), (1497, 0.0), (1498, 0.009391804802881256), (1499, 0.0), (1500, 0.027927053814407896), (1501, 0.006787766964365044), (1502, 0.005380407107233743), (1503, 0.0030505602976157835), (1504, 0.007497344911243567), (1505, 0.022235030255921467), (1506, 0.04396420271433916), (1507, 0.008636607709357445), (1508, 0.0), (1509, 0.015734107038206185), (1510, 0.02202798647576428), (1511, 0.0), (1512, 0.015414420753645807), (1513, 0.0), (1514, 0.009406097089722381), (1515, 0.02218180549134221), (1516, 0.0034451603114730024), (1517, 0.0), (1518, 0.0036223847257343816), (1519, 0.014127139296871939), (1520, 0.0), (1521, 0.0), (1522, 0.0), (1523, 0.015621223522081795), (1524, 0.0), (1525, 0.0), (1526, 0.006452448412028296), (1527, 0.040488053323491466), (1528, 0.0030518169916176874), (1529, 0.0), (1530, 0.024944823169547065), (1531, 0.0053566797499702236), (1532, 0.0), (1533, 0.0034083214604668155), (1534, 0.0), (1535, 0.0), (1536, 0.00792688297299414), (1537, 0.009044182891472345), (1538, 0.00918324376123855), (1539, 0.009086632375876211), (1540, 0.008803618140631055), (1541, 0.0), (1542, 0.013071741985744845), (1543, 0.0031076016526580532), (1544, 0.024822074430687322), (1545, 0.0), (1546, 0.004394076605274073), (1547, 0.0), (1548, 0.0), (1549, 0.0), (1550, 0.0033193795765694397), (1551, 0.011707542309843276), (1552, 0.006468989606358376), (1553, 0.008933143240090742), (1554, 0.0055534341211389395), (1555, 0.00784486649712089), (1556, 0.0), (1557, 0.0), (1558, 0.0031315022884027136), (1559, 0.004403843049624982), (1560, 0.0), (1561, 0.0), (1562, 0.00472994154812388), (1563, 0.0), (1564, 0.0), (1565, 0.0028526178979002585), (1566, 0.0050789247042742494), (1567, 0.013157123066690962), (1568, 0.034103028396957766), (1569, 0.0), (1570, 0.0), (1571, 0.00847035076132951), (1572, 0.0270257775528749), (1573, 0.0050410019499995875), (1574, 0.0034003153819479647), (1575, 0.005373173638897564), (1576, 0.004077816886476857), (1577, 0.0), (1578, 0.0), (1579, 0.017215881700153587), (1580, 0.003681614483797906), (1581, 0.0), (1582, 0.01050131437948382), (1583, 0.007400565671485706), (1584, 0.0), (1585, 0.02337232869561561), (1586, 0.0), (1587, 0.005158704671626593), (1588, 0.0053034946450157), (1589, 0.0), (1590, 0.004433524347272984), (1591, 0.0), (1592, 0.0), (1593, 0.0), (1594, 0.003769523017599885), (1595, 0.014591313048807819), (1596, 0.0), (1597, 0.0032174727213696453), (1598, 0.0032907826489073978), (1599, 0.0), (1600, 0.0), (1601, 0.0), (1602, 0.0), (1603, 0.0), (1604, 0.0), (1605, 0.0030244146345542694), (1606, 0.0), (1607, 0.0), (1608, 0.007488782119968531), (1609, 0.016413782013585124), (1610, 0.0), (1611, 0.0), (1612, 0.01012993529397948), (1613, 0.0), (1614, 0.00539035109427757), (1615, 0.0), (1616, 0.0029765777066008523), (1617, 0.0032561667502737884), (1618, 0.0), (1619, 0.010799345836266317), (1620, 0.010352291451816546), (1621, 0.01575295481685969), (1622, 0.005005417577065741), (1623, 0.004689021406059246), (1624, 0.002737196217520789), (1625, 0.0030226947418631944), (1626, 0.0), (1627, 0.007100044083445956), (1628, 0.0), (1629, 0.02332296034559992), (1630, 0.012059085204989436), (1631, 0.004811627986207945), (1632, 0.00487200256820167), (1633, 0.004842879099053304), (1634, 0.028390899910692883), (1635, 0.004992113023609444), (1636, 0.0), (1637, 0.0036067496245412137), (1638, 0.0), (1639, 0.0), (1640, 0.0), (1641, 0.003124078302712212), (1642, 0.0031089577006407636), (1643, 0.008850914564398335), (1644, 0.006824252910086288), (1645, 0.003246083509380121), (1646, 0.0), (1647, 0.09420396650132257), (1648, 0.029780989827514953), (1649, 0.0), (1650, 0.009454256370832387), (1651, 0.0), (1652, 0.042418100853419134), (1653, 0.008213848138295022), (1654, 0.013015521668125436), (1655, 0.0), (1656, 0.0), (1657, 0.021757957668385265), (1658, 0.0), (1659, 0.005382414806367184), (1660, 0.0035179715906952843), (1661, 0.0), (1662, 0.011104893690030697), (1663, 0.0031458241183750374), (1664, 0.006471385561848232), (1665, 0.014976450268485576), (1666, 0.00332154444352833), (1667, 0.014824492008465747), (1668, 0.0), (1669, 0.0), (1670, 0.0), (1671, 0.022902482370674028), (1672, 0.0030754060548341747), (1673, 0.0), (1674, 0.0), (1675, 0.043380819983090554), (1676, 0.03675177582367422), (1677, 0.0026593046037641983), (1678, 0.022814455165753873), (1679, 0.0), (1680, 0.01461746616557762), (1681, 0.01393403837327888), (1682, 0.015847523637099827), (1683, 0.0), (1684, 0.005983516573163127), (1685, 0.0), (1686, 0.0), (1687, 0.016975920065575984), (1688, 0.010394711131635783), (1689, 0.0), (1690, 0.009158840084896175), (1691, 0.002844097129558062), (1692, 0.006801616132535382), (1693, 0.0031370310843391942), (1694, 0.011291464416486516), (1695, 0.00550070040805256), (1696, 0.011649312048812423), (1697, 0.0), (1698, 0.0), (1699, 0.004417565695024054), (1700, 0.0), (1701, 0.009377122994278047), (1702, 0.03381448529736033), (1703, 0.0034771029317417364), (1704, 0.0), (1705, 0.008165309138480311), (1706, 0.0033605497221245494), (1707, 0.02377063879383035), (1708, 0.0), (1709, 0.0), (1710, 0.009601077018926539), (1711, 0.0), (1712, 0.0), (1713, 0.0), (1714, 0.012418445082814112), (1715, 0.0060944859839233674), (1716, 0.018049261517554115), (1717, 0.003457617928644926), (1718, 0.007096771859436997), (1719, 0.003028375482196359), (1720, 0.026883856144911532), (1721, 0.026863336701902586), (1722, 0.003392206221168698), (1723, 0.011143089067222264), (1724, 0.005458726807848641), (1725, 0.0), (1726, 0.0), (1727, 0.01147235196170188), (1728, 0.0), (1729, 0.0), (1730, 0.009243336790322243), (1731, 0.0), (1732, 0.0), (1733, 0.0036750750019112484), (1734, 0.0), (1735, 0.007799147742041119), (1736, 0.011501543458872665), (1737, 0.007234229931453182), (1738, 0.0072079425565638525), (1739, 0.014419510561607948), (1740, 0.016446989389685855), (1741, 0.015335518729036619), (1742, 0.0031950705752726597), (1743, 0.008549491737320308), (1744, 0.0031683614103795357), (1745, 0.0), (1746, 0.0063651015921102685), (1747, 0.007980357042335393), (1748, 0.0), (1749, 0.026956440782699237), (1750, 0.030091804168175515), (1751, 0.0), (1752, 0.03379511406215372), (1753, 0.00439083753954008), (1754, 0.012086765168034478), (1755, 0.0), (1756, 0.0), (1757, 0.02353976042337129), (1758, 0.0), (1759, 0.01742229654545581), (1760, 0.007780711769797156), (1761, 0.012159517584199135), (1762, 0.009100086526044288), (1763, 0.026099767016819913), (1764, 0.008748393429198843), (1765, 0.003462275792914147), (1766, 0.0), (1767, 0.0), (1768, 0.003431831534877194), (1769, 0.0), (1770, 0.034617494926475194), (1771, 0.0), (1772, 0.004417683142543737), (1773, 0.01172731038367809), (1774, 0.01739081153190115), (1775, 0.0), (1776, 0.009693474775956251), (1777, 0.0), (1778, 0.0), (1779, 0.016178146943285173), (1780, 0.002208447456437637), (1781, 0.010746739513729085), (1782, 0.0030747606065498136), (1783, 0.0), (1784, 0.004605507794506123), (1785, 0.0), (1786, 0.0), (1787, 0.012972535675265127), (1788, 0.0303890926019967), (1789, 0.01165953811862486), (1790, 0.0), (1791, 0.005422947891093435), (1792, 0.0), (1793, 0.009510716128735452), (1794, 0.0), (1795, 0.029222224368742448), (1796, 0.014634866499985306), (1797, 0.006718478020839139), (1798, 0.010843909110829551), (1799, 0.012935236310888696), (1800, 0.0), (1801, 0.0028399700120672576), (1802, 0.013034954128806505), (1803, 0.0), (1804, 0.0), (1805, 0.003620452573133871), (1806, 0.008376321940275044), (1807, 0.009983616263668118), (1808, 0.003015423175101289), (1809, 0.053613301439803925), (1810, 0.0), (1811, 0.00835767622873207), (1812, 0.012656563755654278), (1813, 0.0032703216230857857), (1814, 0.0030810079569653787), (1815, 0.014717987638234412), (1816, 0.006895695856020301), (1817, 0.020979139334996552), (1818, 0.006475989261094451), (1819, 0.007893111423262331), (1820, 0.0), (1821, 0.044406033318555804), (1822, 0.0), (1823, 0.0), (1824, 0.0), (1825, 0.0), (1826, 0.0), (1827, 0.0030349013315743587), (1828, 0.002891768680661062), (1829, 0.00548530500556481), (1830, 0.002909157501675735), (1831, 0.003301251390302547), (1832, 0.0), (1833, 0.008655699002048543), (1834, 0.0), (1835, 0.0), (1836, 0.0), (1837, 0.032236982960781896), (1838, 0.02013818350281597), (1839, 0.0), (1840, 0.004609065739146619), (1841, 0.00708753936434544), (1842, 0.0), (1843, 0.0), (1844, 0.0), (1845, 0.028289949387375203), (1846, 0.004956908990122781), (1847, 0.02651137993531593), (1848, 0.003621487555439832), (1849, 0.006713817583061251), (1850, 0.04099830405022259), (1851, 0.0034760828500008064), (1852, 0.011711069010596042), (1853, 0.0), (1854, 0.010428284603612333), (1855, 0.0), (1856, 0.0), (1857, 0.005019704462653834), (1858, 0.012319077805666295), (1859, 0.005344779386715832), (1860, 0.010472964733853986), (1861, 0.022061627450990176), (1862, 0.0), (1863, 0.005895362926733132), (1864, 0.014683194425002797), (1865, 0.024219522877555903), (1866, 0.00916660452513392), (1867, 0.0067282467760271854), (1868, 0.03012110323600246), (1869, 0.0030488424472095554), (1870, 0.01216615839896959), (1871, 0.04150421127060543), (1872, 0.018974872187811975), (1873, 0.011878173052553617), (1874, 0.01177384976198912), (1875, 0.009411497693793416), (1876, 0.015317312935787518), (1877, 0.003231195395232113), (1878, 0.04861139400358211), (1879, 0.0), (1880, 0.014899261385704705), (1881, 0.0052774451555430224), (1882, 0.0032960486840823548), (1883, 0.0), (1884, 0.0031166547817374213), (1885, 0.0), (1886, 0.06590434465481541), (1887, 0.0037951400821568003), (1888, 0.0), (1889, 0.0), (1890, 0.003682757226042977), (1891, 0.003322538007666572), (1892, 0.0), (1893, 0.003535756256543199), (1894, 0.0), (1895, 0.014320059675069632), (1896, 0.0035532339097003496), (1897, 0.016547020407715926), (1898, 0.0), (1899, 0.0), (1900, 0.009851237115241539), (1901, 0.005173273152110369), (1902, 0.00886855600418503), (1903, 0.006350008237652429), (1904, 0.0), (1905, 0.0), (1906, 0.01524867454206181), (1907, 0.003631143296352257), (1908, 0.006807654847502001), (1909, 0.0), (1910, 0.004275294903055468), (1911, 0.007035847122089032), (1912, 0.0), (1913, 0.006709709793216978), (1914, 0.004784565398437712), (1915, 0.0), (1916, 0.0035426336764861266), (1917, 0.0), (1918, 0.008883104381854785), (1919, 0.015165487417601977), (1920, 0.009391667113130851), (1921, 0.0030044762010531766), (1922, 0.011061642766081684), (1923, 0.012055641745060637), (1924, 0.00959159259308417), (1925, 0.004408258243155401), (1926, 0.0), (1927, 0.02011698582489732), (1928, 0.0), (1929, 0.003211646705719803), (1930, 0.005145042238886815), (1931, 0.008625871475215487), (1932, 0.0), (1933, 0.004934345830534984), (1934, 0.01343672175875891), (1935, 0.022626222461653783), (1936, 0.01033532000720317), (1937, 0.020016932804180064), (1938, 0.0), (1939, 0.0), (1940, 0.0058643452184897), (1941, 0.0), (1942, 0.023090764526385636), (1943, 0.0029422453713925244), (1944, 0.0), (1945, 0.014519321198222048), (1946, 0.0034650455909118593), (1947, 0.0), (1948, 0.009379137581975026), (1949, 0.013261790645956057), (1950, 0.008349742006968263), (1951, 0.010701151305013794), (1952, 0.005441620685542823), (1953, 0.004939589535655274), (1954, 0.0029696305002121916), (1955, 0.0), (1956, 0.0), (1957, 0.011513879209895363), (1958, 0.012963432348598886), (1959, 0.003609310815593313), (1960, 0.0), (1961, 0.0), (1962, 0.005645170539986519), (1963, 0.0), (1964, 0.007588192246313504), (1965, 0.0), (1966, 0.0), (1967, 0.015531370036478875), (1968, 0.009879939324462312), (1969, 0.0032386429922483797), (1970, 0.054129856301166776), (1971, 0.00932216244034122), (1972, 0.0), (1973, 0.030819437915322847), (1974, 0.0), (1975, 0.0053518547294070734), (1976, 0.03245635278395792), (1977, 0.07961587620931052), (1978, 0.0), (1979, 0.0), (1980, 0.0030067705139688416), (1981, 0.0064197974569370295), (1982, 0.07124044246586964), (1983, 0.016700371088071854), (1984, 0.0), (1985, 0.022980186470077962), (1986, 0.014274504977435359), (1987, 0.007040600014030202), (1988, 0.012907778657569542), (1989, 0.012941193712420064), (1990, 0.02936362123172135), (1991, 0.03596274771618715), (1992, 0.011885681994076785), (1993, 0.004879593970935785), (1994, 0.08498629104509339), (1995, 0.0), (1996, 0.02223269457016016), (1997, 0.025434254029864264), (1998, 0.005146190560536241), (1999, 0.0270658519840559), (2000, 0.013542715970373135), (2001, 0.0), (2002, 0.0), (2003, 0.0), (2004, 0.003156678560894623), (2005, 0.012316148183668423), (2006, 0.0), (2007, 0.0), (2008, 0.014891921098716211), (2009, 0.0), (2010, 0.0), (2011, 0.025715700735054275), (2012, 0.04306078210447855), (2013, 0.028592090333906302), (2014, 0.030230207809666804), (2015, 0.005347647487655024), (2016, 0.011427767886380145), (2017, 0.0), (2018, 0.03893562923363366), (2019, 0.0), (2020, 0.02622310904228714), (2021, 0.0), (2022, 0.00536536691013286), (2023, 0.031977018112808106), (2024, 0.015467513738314252), (2025, 0.0), (2026, 0.0533026462611298), (2027, 0.016425192779314354), (2028, 0.0), (2029, 0.010679667085959594), (2030, 0.0), (2031, 0.0076329840001120725), (2032, 0.0), (2033, 0.0), (2034, 0.0027973837095892256), (2035, 0.018393096120197024), (2036, 0.0), (2037, 0.03240573752251649), (2038, 0.0), (2039, 0.0028435423167188383), (2040, 0.025208124538659726), (2041, 0.0), (2042, 0.0), (2043, 0.0), (2044, 0.0053836769011522964), (2045, 0.015542020563691989), (2046, 0.0), (2047, 0.0029802445978753082), (2048, 0.0), (2049, 0.0), (2050, 0.0), (2051, 0.0), (2052, 0.0), (2053, 0.016581799103164263), (2054, 0.0), (2055, 0.02221747738324103), (2056, 0.006567013143604829), (2057, 0.01234818441958892), (2058, 0.006125079195345052), (2059, 0.0), (2060, 0.0033301447659099203), (2061, 0.008521542968291041), (2062, 0.011538743391128531), (2063, 0.0), (2064, 0.005032636929880132), (2065, 0.009869699472839047), (2066, 0.014196406297523107), (2067, 0.0033735507724678383), (2068, 0.0031512073243565187), (2069, 0.00831220204693162), (2070, 0.019587167645802615), (2071, 0.0), (2072, 0.003465342914726623), (2073, 0.003415467573156231), (2074, 0.0104692129725067), (2075, 0.0), (2076, 0.009274541673655661), (2077, 0.0), (2078, 0.004043587411630374), (2079, 0.0), (2080, 0.0), (2081, 0.0), (2082, 0.03400907967462632), (2083, 0.0034879396221413894), (2084, 0.005503081903223334), (2085, 0.0), (2086, 0.0), (2087, 0.0), (2088, 0.008848269189826981), (2089, 0.0), (2090, 0.0), (2091, 0.008527903076334876), (2092, 0.0), (2093, 0.018696808684766), (2094, 0.025563130597934563), (2095, 0.006597990937405928), (2096, 0.024323617754958206), (2097, 0.01186525409137023), (2098, 0.005784288299460617), (2099, 0.003148625882244081), (2100, 0.031238569660142317), (2101, 0.0074598902534873165), (2102, 0.02955193076944163), (2103, 0.009920688409998877), (2104, 0.009022589004681428), (2105, 0.0035703601735783794), (2106, 0.0), (2107, 0.0), (2108, 0.0), (2109, 0.035569461727546964), (2110, 0.017998566752288326), (2111, 0.0032751967619501533), (2112, 0.06429244080556175), (2113, 0.005351860336220219), (2114, 0.03003611828795353), (2115, 0.0), (2116, 0.0), (2117, 0.0032253853239472513), (2118, 0.0), (2119, 0.018040758072972982), (2120, 0.0), (2121, 0.014523683741466478), (2122, 0.03406159087616103), (2123, 0.03489459615832721), (2124, 0.0), (2125, 0.0), (2126, 0.011275797491587261), (2127, 0.0027993308546564646), (2128, 0.0), (2129, 0.0031044134401485585), (2130, 0.0051525583744932366), (2131, 0.0032180949087443666), (2132, 0.00280489361056196), (2133, 0.049486996797863725), (2134, 0.0), (2135, 0.0), (2136, 0.005507499913451412), (2137, 0.0), (2138, 0.0), (2139, 0.004827045726934345), (2140, 0.0), (2141, 0.003208527513465322), (2142, 0.0), (2143, 0.009735085238161889), (2144, 0.010214053505236935), (2145, 0.012015867774030412), (2146, 0.0), (2147, 0.03249901586596133), (2148, 0.0034973787954746954), (2149, 0.017331486425369646), (2150, 0.0), (2151, 0.045164416244787696), (2152, 0.0), (2153, 0.0), (2154, 0.0), (2155, 0.041250590730004824), (2156, 0.006095150274537233), (2157, 0.023929748184777586), (2158, 0.008890157670561982), (2159, 0.0), (2160, 0.006425478430255907), (2161, 0.016280278477420206), (2162, 0.01175459769516372), (2163, 0.002963378993645786), (2164, 0.0), (2165, 0.0), (2166, 0.003173808412431364), (2167, 0.017383977794305387), (2168, 0.0), (2169, 0.0033815666162508216), (2170, 0.0), (2171, 0.0), (2172, 0.0), (2173, 0.0), (2174, 0.02274294430901817), (2175, 0.006288981014538353), (2176, 0.0), (2177, 0.013204880598953994), (2178, 0.012394198767623614), (2179, 0.0), (2180, 0.0), (2181, 0.005764942300342097), (2182, 0.0), (2183, 0.0), (2184, 0.007207837241306083), (2185, 0.0060731674138264895), (2186, 0.0), (2187, 0.03876832458508752), (2188, 0.0), (2189, 0.0), (2190, 0.0036047371090620318), (2191, 0.05144642674629975), (2192, 0.0033891203578848817), (2193, 0.010345245463851653), (2194, 0.0), (2195, 0.003354163257480271), (2196, 0.01701042938634657), (2197, 0.010044467332580844), (2198, 0.03096245176907516), (2199, 0.0), (2200, 0.0), (2201, 0.003123273736281949), (2202, 0.006426676040639334), (2203, 0.006203312026421319), (2204, 0.0), (2205, 0.0063492491687132556), (2206, 0.012220090472990766), (2207, 0.01672858336050468), (2208, 0.00534077155618283), (2209, 0.0), (2210, 0.0240942901400128), (2211, 0.00853149923666941), (2212, 0.03809449456188599), (2213, 0.003003927493282659), (2214, 0.050606396522557454), (2215, 0.0), (2216, 0.01575009990577406), (2217, 0.0), (2218, 0.0), (2219, 0.0), (2220, 0.0), (2221, 0.029219230089611012), (2222, 0.0), (2223, 0.0), (2224, 0.01526296916814429), (2225, 0.0), (2226, 0.0032854060836653826), (2227, 0.0), (2228, 0.0), (2229, 0.0), (2230, 0.0034338894554631844), (2231, 0.0), (2232, 0.004972427175409169), (2233, 0.0), (2234, 0.0), (2235, 0.0), (2236, 0.009182658780839695), (2237, 0.018993862324587343), (2238, 0.0), (2239, 0.006614850542148017), (2240, 0.0029346551681970214), (2241, 0.0), (2242, 0.0032056738123821065), (2243, 0.0), (2244, 0.007402943694559992), (2245, 0.004860033019522192), (2246, 0.005066009213797822), (2247, 0.0), (2248, 0.0), (2249, 0.0), (2250, 0.010948899155927979), (2251, 0.0), (2252, 0.013680804193434652), (2253, 0.0), (2254, 0.017146696532330037), (2255, 0.0), (2256, 0.0), (2257, 0.0), (2258, 0.016627482835578206), (2259, 0.0), (2260, 0.0), (2261, 0.0), (2262, 0.0), (2263, 0.0), (2264, 0.009763672346346423), (2265, 0.009139305058784896), (2266, 0.0), (2267, 0.0), (2268, 0.003227085445891786), (2269, 0.0), (2270, 0.0029145849890159395), (2271, 0.0), (2272, 0.0), (2273, 0.0), (2274, 0.0), (2275, 0.0), (2276, 0.02776720530780441), (2277, 0.010286676538316013), (2278, 0.0051654335331236595), (2279, 0.0), (2280, 0.012607517815478721), (2281, 0.0), (2282, 0.0), (2283, 0.005404699354968444), (2284, 0.016149731491953728), (2285, 0.009155363680144685), (2286, 0.0), (2287, 0.0027916685010055506), (2288, 0.0), (2289, 0.0), (2290, 0.01556051411109694), (2291, 0.0058363675891920305), (2292, 0.0034271593534058484), (2293, 0.00363070300679965), (2294, 0.04942236517585988), (2295, 0.0), (2296, 0.0), (2297, 0.0), (2298, 0.015010904821586752), (2299, 0.0), (2300, 0.0), (2301, 0.02173730538543719), (2302, 0.0), (2303, 0.009546367397929318), (2304, 0.008498179011275312), (2305, 0.0), (2306, 0.0), (2307, 0.0), (2308, 0.0), (2309, 0.009764575197681266), (2310, 0.0), (2311, 0.0), (2312, 0.0), (2313, 0.0033724797335286986), (2314, 0.0), (2315, 0.0), (2316, 0.036833918211026134), (2317, 0.0031063880976848236), (2318, 0.061707284716818855), (2319, 0.0034900299853047457), (2320, 0.003888401856576496), (2321, 0.04253282339203859), (2322, 0.0), (2323, 0.0030193767504703155), (2324, 0.0), (2325, 0.0), (2326, 0.0040126364118031905), (2327, 0.0), (2328, 0.0), (2329, 0.0), (2330, 0.005363323139207282), (2331, 0.0), (2332, 0.0), (2333, 0.0), (2334, 0.016564092584834073), (2335, 0.006805676683276434), (2336, 0.012618067170489978), (2337, 0.0), (2338, 0.0030479116314638317), (2339, 0.0077491262963342465), (2340, 0.0033682068368314534), (2341, 0.0), (2342, 0.0), (2343, 0.0), (2344, 0.0), (2345, 0.0), (2346, 0.0), (2347, 0.01708199192651861), (2348, 0.00789433666033127), (2349, 0.0), (2350, 0.0), (2351, 0.0), (2352, 0.0), (2353, 0.0), (2354, 0.0033623870397563446), (2355, 0.007050869072585097), (2356, 0.0), (2357, 0.0), (2358, 0.0), (2359, 0.0028024023197712597), (2360, 0.0), (2361, 0.0), (2362, 0.01961401439691526), (2363, 0.0), (2364, 0.0), (2365, 0.0), (2366, 0.013626070303141287), (2367, 0.0032002175815809214), (2368, 0.0), (2369, 0.0), (2370, 0.0035113003099211436), (2371, 0.03514223534536975), (2372, 0.0), (2373, 0.0), (2374, 0.0481132455832426), (2375, 0.03675223122239132), (2376, 0.016018694436683634), (2377, 0.0), (2378, 0.0), (2379, 0.0), (2380, 0.0), (2381, 0.0), (2382, 0.002896579369201086), (2383, 0.0), (2384, 0.0), (2385, 0.003503419667650739), (2386, 0.0), (2387, 0.0033633194843518057), (2388, 0.0), (2389, 0.0), (2390, 0.0), (2391, 0.00356487673112538), (2392, 0.0), (2393, 0.0035704799201121736), (2394, 0.0), (2395, 0.0), (2396, 0.0033515844528974057), (2397, 0.003391056235886888), (2398, 0.0), (2399, 0.003047036444746687), (2400, 0.0), (2401, 0.0032847465506298276), (2402, 0.0030430766349984254), (2403, 0.0), (2404, 0.0), (2405, 0.003464999922186809), (2406, 0.018695564676745546), (2407, 0.0), (2408, 0.025167267999176186), (2409, 0.0), (2410, 0.0036918266006347616), (2411, 0.0), (2412, 0.013942172676865356), (2413, 0.03192768908786238), (2414, 0.0), (2415, 0.0), (2416, 0.003304169510403883), (2417, 0.0), (2418, 0.010638485884180742), (2419, 0.00352291444169252), (2420, 0.0), (2421, 0.012028624910310752), (2422, 0.003288185667570994), (2423, 0.0), (2424, 0.006924914675373581), (2425, 0.0), (2426, 0.005999809219380953), (2427, 0.009698760035485608), (2428, 0.00928777024791922), (2429, 0.011802000834996799), (2430, 0.003374640794317363), (2431, 0.0), (2432, 0.004866290947671234), (2433, 0.0), (2434, 0.003987544904501087), (2435, 0.0), (2436, 0.011359607519292249), (2437, 0.0), (2438, 0.0), (2439, 0.005610510429387058), (2440, 0.021959875453385413), (2441, 0.0027144414503697282), (2442, 0.00469961648897424), (2443, 0.031124909510694857), (2444, 0.0), (2445, 0.0), (2446, 0.0031290198386191943), (2447, 0.013783331488057077), (2448, 0.004395868737359025), (2449, 0.0), (2450, 0.0), (2451, 0.0), (2452, 0.0), (2453, 0.0030849674371180415), (2454, 0.0), (2455, 0.0), (2456, 0.0), (2457, 0.0030360074399757644), (2458, 0.0), (2459, 0.010184382051833567), (2460, 0.013293567028168404), (2461, 0.003245960863600343), (2462, 0.0), (2463, 0.010038258881467015), (2464, 0.0), (2465, 0.0), (2466, 0.0), (2467, 0.027449602933270024), (2468, 0.0), (2469, 0.019964161845468065), (2470, 0.0), (2471, 0.0), (2472, 0.0), (2473, 0.009677290745083745), (2474, 0.01299900690398659), (2475, 0.0), (2476, 0.0), (2477, 0.009098613664604661), (2478, 0.0), (2479, 0.0), (2480, 0.01167245647441214), (2481, 0.029360367848361074), (2482, 0.0030347272273620186), (2483, 0.0), (2484, 0.0), (2485, 0.0), (2486, 0.014391705739118781), (2487, 0.030099844277356756), (2488, 0.0), (2489, 0.011204757062646597), (2490, 0.0), (2491, 0.0), (2492, 0.0), (2493, 0.0), (2494, 0.0), (2495, 0.0033379534046001917), (2496, 0.007927134527233348), (2497, 0.0), (2498, 0.0), (2499, 0.0), (2500, 0.0), (2501, 0.020507912418980676), (2502, 0.002971784869859788), (2503, 0.00677221372860428), (2504, 0.0), (2505, 0.0), (2506, 0.005115527079770714), (2507, 0.0), (2508, 0.0), (2509, 0.0027485656651054955), (2510, 0.007759224089652158), (2511, 0.0), (2512, 0.01088741808452105), (2513, 0.018838478094081693), (2514, 0.0), (2515, 0.0), (2516, 0.0), (2517, 0.032040847370930894), (2518, 0.0), (2519, 0.007901998012555152), (2520, 0.002931168860112983), (2521, 0.0), (2522, 0.017183339820437724), (2523, 0.0), (2524, 0.021258963008548116), (2525, 0.003139797913462035), (2526, 0.002739804482290703), (2527, 0.002887758457293072), (2528, 0.0031158216794028412), (2529, 0.0), (2530, 0.04564770228921245), (2531, 0.0), (2532, 0.0), (2533, 0.003336337385791581), (2534, 0.0015042774184552258), (2535, 0.0), (2536, 0.0), (2537, 0.0), (2538, 0.06788630890280602), (2539, 0.0), (2540, 0.037780657394890636), (2541, 0.004315634113565729), (2542, 0.0), (2543, 0.0), (2544, 0.0), (2545, 0.0), (2546, 0.011375504600078681), (2547, 0.0), (2548, 0.0), (2549, 0.0), (2550, 0.0), (2551, 0.0), (2552, 0.0031417858838789555), (2553, 0.018113083092344398), (2554, 0.0033874523835438096), (2555, 0.013423960986429527), (2556, 0.0), (2557, 0.0), (2558, 0.08174341092349155), (2559, 0.0), (2560, 0.0), (2561, 0.0), (2562, 0.0), (2563, 0.00837899109822083), (2564, 0.0), (2565, 0.0107694834267863), (2566, 0.0), (2567, 0.0), (2568, 0.0), (2569, 0.0), (2570, 0.0038902246223307705), (2571, 0.0032478898077458926), (2572, 0.00962362095815374), (2573, 0.004164218574871431), (2574, 0.0), (2575, 0.0), (2576, 0.0), (2577, 0.0), (2578, 0.0), (2579, 0.0), (2580, 0.007523887275622336), (2581, 0.0), (2582, 0.020734259888397204), (2583, 0.0), (2584, 0.0), (2585, 0.0036852865425095744), (2586, 0.0), (2587, 0.009043656148093417), (2588, 0.0), (2589, 0.0), (2590, 0.0), (2591, 0.0), (2592, 0.0037054157040287807), (2593, 0.003090685777868625), (2594, 0.0), (2595, 0.0036322342242225947), (2596, 0.0), (2597, 0.0), (2598, 0.022433941637947673), (2599, 0.0), (2600, 0.0), (2601, 0.010604010776068127), (2602, 0.01335192294536219), (2603, 0.008559682359510067), (2604, 0.0), (2605, 0.0), (2606, 0.00849300260455902), (2607, 0.02049037898718274), (2608, 0.0), (2609, 0.003581505734507878), (2610, 0.0035560879857414332), (2611, 0.002889089681393818), (2612, 0.0032409665510210995), (2613, 0.0), (2614, 0.03282464955217669), (2615, 0.0), (2616, 0.0), (2617, 0.014170071661494192), (2618, 0.0), (2619, 0.004013874301077369), (2620, 0.0), (2621, 0.03310249075704616), (2622, 0.03752611508357059), (2623, 0.0), (2624, 0.003670525397661492), (2625, 0.012622496388218754), (2626, 0.0055711975674565565), (2627, 0.0), (2628, 0.0), (2629, 0.0038203001495134723), (2630, 0.0), (2631, 0.0), (2632, 0.014887012769984723), (2633, 0.0), (2634, 0.0031633595681569877), (2635, 0.0), (2636, 0.002541229771502112), (2637, 0.0), (2638, 0.0), (2639, 0.015044167536536876), (2640, 0.010618283979193986), (2641, 0.0), (2642, 0.0032461451561108697), (2643, 0.0), (2644, 0.01450988810166799), (2645, 0.0), (2646, 0.021806362883201022), (2647, 0.02400141375871991), (2648, 0.0), (2649, 0.0), (2650, 0.019344160576026937), (2651, 0.003174314348172441), (2652, 0.0), (2653, 0.04757807232478994), (2654, 0.01671106952603957), (2655, 0.0), (2656, 0.0), (2657, 0.0), (2658, 0.0), (2659, 0.0), (2660, 0.004493108724806247), (2661, 0.0), (2662, 0.0), (2663, 0.0), (2664, 0.0), (2665, 0.005601047216033757), (2666, 0.0), (2667, 0.0), (2668, 0.023515033687692363), (2669, 0.0), (2670, 0.0), (2671, 0.0), (2672, 0.0), (2673, 0.0), (2674, 0.0), (2675, 0.0), (2676, 0.0), (2677, 0.0), (2678, 0.0), (2679, 0.003187083680240316), (2680, 0.011400794752188161), (2681, 0.0), (2682, 0.004744389652324102), (2683, 0.005710779723283195), (2684, 0.0), (2685, 0.0), (2686, 0.0), (2687, 0.028180126931983778), (2688, 0.011722514993050288), (2689, 0.024857935311030102), (2690, 0.0), (2691, 0.0070497824617569834), (2692, 1.0000000000000002), (2693, 0.0), (2694, 0.0), (2695, 0.016079702620233137), (2696, 0.0038584060858997704), (2697, 0.013057396228334146), (2698, 0.009825788844998252), (2699, 0.023740686707670267), (2700, 0.0), (2701, 0.0), (2702, 0.0), (2703, 0.0), (2704, 0.0), (2705, 0.0), (2706, 0.03255594153961655), (2707, 0.0), (2708, 0.0), (2709, 0.0), (2710, 0.030179187905230276), (2711, 0.00483543852547159), (2712, 0.0), (2713, 0.025039635445935467), (2714, 0.008957775260852698), (2715, 0.0), (2716, 0.03750412561419438), (2717, 0.0), (2718, 0.023698714731337334), (2719, 0.0), (2720, 0.003912535369227958), (2721, 0.00292760033472198), (2722, 0.0), (2723, 0.030875630219864246), (2724, 0.0075066729213397534), (2725, 0.003622122691452119), (2726, 0.006988186562327793), (2727, 0.0), (2728, 0.0030725836474528485), (2729, 0.0), (2730, 0.0), (2731, 0.0), (2732, 0.00689983576133314), (2733, 0.0), (2734, 0.0), (2735, 0.0), (2736, 0.019445493928587576), (2737, 0.0), (2738, 0.003911184066420545), (2739, 0.012088863540971813), (2740, 0.01137421272043902), (2741, 0.0030661429516956606), (2742, 0.018153159987527274), (2743, 0.0), (2744, 0.010432797586622782), (2745, 0.044364413186499585), (2746, 0.0034211658166525744), (2747, 0.0029028325914071816), (2748, 0.0), (2749, 0.0), (2750, 0.0), (2751, 0.0), (2752, 0.010441105662108563), (2753, 0.002961566692912437), (2754, 0.0), (2755, 0.003571854803816937), (2756, 0.0), (2757, 0.0), (2758, 0.0028251446702721368), (2759, 0.0), (2760, 0.021116546133908475), (2761, 0.026238982851781122), (2762, 0.025838958707026242), (2763, 0.0), (2764, 0.0), (2765, 0.0031984526402591496), (2766, 0.0026538746363453597), (2767, 0.021304286296195154), (2768, 0.0), (2769, 0.01191356529213045), (2770, 0.0), (2771, 0.013636747194558273), (2772, 0.0), (2773, 0.0), (2774, 0.005477237302974373), (2775, 0.0), (2776, 0.0), (2777, 0.023639316122859005), (2778, 0.0), (2779, 0.003206370422738766), (2780, 0.013261287878193384), (2781, 0.0), (2782, 0.03192839067981735), (2783, 0.0033735277923629004), (2784, 0.016465448536432968), (2785, 0.0), (2786, 0.0), (2787, 0.004870302515163491), (2788, 0.012979764147440015), (2789, 0.00987359761408671), (2790, 0.005329461822051707), (2791, 0.028139815360967164), (2792, 0.003553752113984742), (2793, 0.0), (2794, 0.0), (2795, 0.020096018529154075), (2796, 0.0), (2797, 0.0), (2798, 0.010347025780270589), (2799, 0.0), (2800, 0.003165606550924211), (2801, 0.004349241091185925), (2802, 0.02808798492307684), (2803, 0.013883593555532184), (2804, 0.0), (2805, 0.01321234288536874), (2806, 0.0), (2807, 0.0), (2808, 0.022134371238557434), (2809, 0.007063672791521176), (2810, 0.0), (2811, 0.0), (2812, 0.009552597170147848), (2813, 0.0), (2814, 0.0), (2815, 0.015273044492461044), (2816, 0.006988766961596555), (2817, 0.0), (2818, 0.0), (2819, 0.005380430636613596), (2820, 0.010376191248133868), (2821, 0.003590591478415397), (2822, 0.02191024708685692), (2823, 0.017255843874033915), (2824, 0.0), (2825, 0.007483150896356833), (2826, 0.003386447930866264), (2827, 0.0), (2828, 0.0), (2829, 0.0), (2830, 0.0037556066661050594), (2831, 0.0), (2832, 0.0), (2833, 0.0068010716651291415), (2834, 0.0), (2835, 0.0), (2836, 0.0), (2837, 0.0), (2838, 0.0), (2839, 0.0), (2840, 0.0), (2841, 0.019935144695288072), (2842, 0.0), (2843, 0.0), (2844, 0.00838832915851179), (2845, 0.0030848362841689398), (2846, 0.0), (2847, 0.005030884314172019), (2848, 0.0), (2849, 0.0), (2850, 0.0), (2851, 0.0), (2852, 0.0), (2853, 0.003339510058002865), (2854, 0.0), (2855, 0.0), (2856, 0.0), (2857, 0.004096948964967086), (2858, 0.0), (2859, 0.039059043156054386), (2860, 0.0), (2861, 0.0), (2862, 0.0031392533458596177), (2863, 0.003475752263990819), (2864, 0.0), (2865, 0.0), (2866, 0.0), (2867, 0.0194164575355269), (2868, 0.03805103922596506), (2869, 0.03935347389991554), (2870, 0.0), (2871, 0.011208886065427637), (2872, 0.0), (2873, 0.0), (2874, 0.013328707422075968), (2875, 0.0), (2876, 0.02833290198871911), (2877, 0.0), (2878, 0.0035328904283612353), (2879, 0.0), (2880, 0.0), (2881, 0.0), (2882, 0.003610957321649419), (2883, 0.0), (2884, 0.0038643168475609147), (2885, 0.0), (2886, 0.0), (2887, 0.0), (2888, 0.0), (2889, 0.0), (2890, 0.0), (2891, 0.0), (2892, 0.0), (2893, 0.0), (2894, 0.00344020035335246), (2895, 0.0), (2896, 0.0), (2897, 0.007269090559603284), (2898, 0.0), (2899, 0.007913004117944726), (2900, 0.0), (2901, 0.0), (2902, 0.0024636788827221293), (2903, 0.10023663860400707), (2904, 0.0034689397568612116), (2905, 0.0), (2906, 0.0), (2907, 0.003121824617107301), (2908, 0.036942396581510065), (2909, 0.0032733621238367587), (2910, 0.01553215905309404), (2911, 0.003477376046273542), (2912, 0.02790554875775726), (2913, 0.01246354481221681), (2914, 0.0), (2915, 0.0), (2916, 0.0), (2917, 0.01740284117419121), (2918, 0.012324379834096049), (2919, 0.016507389606453413), (2920, 0.02793115210404294), (2921, 0.0), (2922, 0.0), (2923, 0.0), (2924, 0.0038966448896949556), (2925, 0.012950503377269277), (2926, 0.0), (2927, 0.0), (2928, 0.0), (2929, 0.01066366246506201), (2930, 0.0), (2931, 0.015857062690172136), (2932, 0.0), (2933, 0.008649817882087416), (2934, 0.0), (2935, 0.005981759311026059), (2936, 0.0), (2937, 0.0), (2938, 0.0), (2939, 0.0), (2940, 0.00359687553555273), (2941, 0.0), (2942, 0.008862143959991771), (2943, 0.0), (2944, 0.053180207779638194), (2945, 0.003268037827414991), (2946, 0.0), (2947, 0.005235802384059865), (2948, 0.0), (2949, 0.009058512143485128), (2950, 0.024040134797655942), (2951, 0.0), (2952, 0.0), (2953, 0.0035424161470267723), (2954, 0.003070785378337948), (2955, 0.0), (2956, 0.0), (2957, 0.0), (2958, 0.0), (2959, 0.005370511014316101), (2960, 0.005160924551046423), (2961, 0.0), (2962, 0.007300964370744259), (2963, 0.013601011323190668), (2964, 0.010756019431488658), (2965, 0.0031821364094446725), (2966, 0.0), (2967, 0.0), (2968, 0.0), (2969, 0.014157030895863301), (2970, 0.0), (2971, 0.04776416983577829), (2972, 0.02712348033349286), (2973, 0.0), (2974, 0.0), (2975, 0.008972505968115073), (2976, 0.002978960579507584), (2977, 0.010329915095879588), (2978, 0.01375974100193431), (2979, 0.0), (2980, 0.009983518510999833), (2981, 0.036013388469437004), (2982, 0.0), (2983, 0.0), (2984, 0.004659015679905573), (2985, 0.05683174551768792), (2986, 0.0), (2987, 0.0), (2988, 0.015598265353228873), (2989, 0.0), (2990, 0.0), (2991, 0.0), (2992, 0.01112237241266905), (2993, 0.0), (2994, 0.007690818976261828), (2995, 0.02055660390377375), (2996, 0.0175348015309024), (2997, 0.0), (2998, 0.0), (2999, 0.0), (3000, 0.01906990850097981), (3001, 0.0), (3002, 0.0), (3003, 0.003708692213309019), (3004, 0.0), (3005, 0.005144142565838396), (3006, 0.0), (3007, 0.0), (3008, 0.0), (3009, 0.0), (3010, 0.050792650824879486), (3011, 0.004915010043009315), (3012, 0.0), (3013, 0.0037523014473899853), (3014, 0.003171127316858049), (3015, 0.0), (3016, 0.0), (3017, 0.0), (3018, 0.0), (3019, 0.0), (3020, 0.0), (3021, 0.0), (3022, 0.005887455974231586), (3023, 0.04643209059465004), (3024, 0.0027494296302237485), (3025, 0.0), (3026, 0.0), (3027, 0.003027592601639752), (3028, 0.02772409294838946), (3029, 0.0), (3030, 0.0), (3031, 0.0), (3032, 0.0), (3033, 0.0068208176786307565), (3034, 0.0), (3035, 0.0), (3036, 0.017730129342111045), (3037, 0.0), (3038, 0.0), (3039, 0.007738531620186102), (3040, 0.0), (3041, 0.0), (3042, 0.0), (3043, 0.018139953725395994), (3044, 0.0), (3045, 0.036012167097758827), (3046, 0.009882417362485262), (3047, 0.0), (3048, 0.0), (3049, 0.0), (3050, 0.0), (3051, 0.0), (3052, 0.0), (3053, 0.07551730820541246), (3054, 0.0), (3055, 0.0), (3056, 0.0027840067430133096), (3057, 0.003140627721429614), (3058, 0.0), (3059, 0.0), (3060, 0.0), (3061, 0.0), (3062, 0.0), (3063, 0.0), (3064, 0.0), (3065, 0.0), (3066, 0.006657951507414889), (3067, 0.009590774341391762), (3068, 0.02249271121992902), (3069, 0.003247035818380939), (3070, 0.011238396964774685), (3071, 0.0031164492495595894), (3072, 0.0), (3073, 0.0), (3074, 0.0), (3075, 0.0032429104363509422), (3076, 0.014255724415923144), (3077, 0.0), (3078, 0.0), (3079, 0.0), (3080, 0.0), (3081, 0.0), (3082, 0.0), (3083, 0.022277512546417768), (3084, 0.0), (3085, 0.01872890969344923), (3086, 0.0173943008576986), (3087, 0.0), (3088, 0.0), (3089, 0.0), (3090, 0.0), (3091, 0.0455276102891339), (3092, 0.0), (3093, 0.0), (3094, 0.0), (3095, 0.024467045889106517), (3096, 0.008863510908680755), (3097, 0.020499131474120077), (3098, 0.016482764803132044), (3099, 0.011291142929420168), (3100, 0.00476375677239728), (3101, 0.0036957997025493985), (3102, 0.03425706182249601), (3103, 0.0), (3104, 0.0), (3105, 0.0), (3106, 0.0), (3107, 0.0), (3108, 0.013712505333397488), (3109, 0.0), (3110, 0.014162506257433656), (3111, 0.019246211037633156), (3112, 0.0), (3113, 0.0), (3114, 0.0062986988931687145), (3115, 0.0), (3116, 0.0), (3117, 0.00579817518965578), (3118, 0.011855167089646262), (3119, 0.0), (3120, 0.01013624349354944), (3121, 0.0), (3122, 0.008088880629849637), (3123, 0.0), (3124, 0.005245027994524036), (3125, 0.008405437334988147), (3126, 0.00486132574563959), (3127, 0.036904403020354755), (3128, 0.0), (3129, 0.01758206641141209), (3130, 0.0), (3131, 0.005371564295235898), (3132, 0.0), (3133, 0.004783418044555581), (3134, 0.005319658374649365), (3135, 0.004781437511634632), (3136, 0.004735338659167176), (3137, 0.03431967283359238), (3138, 0.0), (3139, 0.0), (3140, 0.004198615018632277), (3141, 0.0), (3142, 0.0), (3143, 0.004747976909746448), (3144, 0.018550643699252363), (3145, 0.0), (3146, 0.0), (3147, 0.003114979100513742), (3148, 0.0), (3149, 0.007360099857421982), (3150, 0.0035114281393137854), (3151, 0.009589723731589039), (3152, 0.008005692477098755), (3153, 0.02455919207410577), (3154, 0.02890296146157772), (3155, 0.01108426373044091), (3156, 0.02817106632425868), (3157, 0.03148968126736347), (3158, 0.005657855239625481), (3159, 0.004156181702630929), (3160, 0.004455016400450704), (3161, 0.005015466640213849), (3162, 0.0), (3163, 0.005514237705286988), (3164, 0.005793434266750939), (3165, 0.0), (3166, 0.0), (3167, 0.02735195217016704), (3168, 0.005728052096795691), (3169, 0.0), (3170, 0.0), (3171, 0.0), (3172, 0.0), (3173, 0.0033119587310001105), (3174, 0.02875367621124699), (3175, 0.0), (3176, 0.0), (3177, 0.0), (3178, 0.0), (3179, 0.005228365576638773), (3180, 0.005670572364635061), (3181, 0.0), (3182, 0.0034349039033234633), (3183, 0.003651491587304074), (3184, 0.0035687912049719443), (3185, 0.0), (3186, 0.0038021952972806692), (3187, 0.003531769241704134), (3188, 0.0), (3189, 0.0), (3190, 0.0), (3191, 0.005215175549646315), (3192, 0.008338597685793845), (3193, 0.0), (3194, 0.0031589246473244454), (3195, 0.008316475365404972), (3196, 0.009426001305102743), (3197, 0.0), (3198, 0.003441259895112467), (3199, 0.0026119997253802704), (3200, 0.0028610156746575865), (3201, 0.0), (3202, 0.0), (3203, 0.0), (3204, 0.0), (3205, 0.0050842797564565586), (3206, 0.004046461041281966), (3207, 0.0), (3208, 0.0), (3209, 0.04028290017469506), (3210, 0.01616509210622627), (3211, 0.0029349516152627013), (3212, 0.0), (3213, 0.017064117533575177), (3214, 0.003184776682555556), (3215, 0.010031122544974787), (3216, 0.0033400028101339494), (3217, 0.0), (3218, 0.010729778873945248), (3219, 0.004373152378604223), (3220, 0.0032912361281503158), (3221, 0.0), (3222, 0.020997043038637316), (3223, 0.0), (3224, 0.0), (3225, 0.0034659004435993847), (3226, 0.018629188598516033), (3227, 0.0), (3228, 0.0), (3229, 0.0), (3230, 0.0038582843329819467), (3231, 0.0), (3232, 0.011124711522356848), (3233, 0.008670370258587799), (3234, 0.0), (3235, 0.0), (3236, 0.0), (3237, 0.010000039984424515), (3238, 0.0028924666316110415), (3239, 0.0), (3240, 0.013109424990844578), (3241, 0.0034739135557403707), (3242, 0.003522039372713422), (3243, 0.0031456794853556617), (3244, 0.006246693475953227), (3245, 0.0), (3246, 0.009704616349803312), (3247, 0.004588395639573686), (3248, 0.0), (3249, 0.0), (3250, 0.0), (3251, 0.0), (3252, 0.002805275455024217), (3253, 0.0), (3254, 0.022259999611879314), (3255, 0.0), (3256, 0.0), (3257, 0.0), (3258, 0.0), (3259, 0.008047082271769819), (3260, 0.02816238119581911), (3261, 0.0), (3262, 0.0), (3263, 0.0), (3264, 0.010745275210256273), (3265, 0.007011901978510178), (3266, 0.0), (3267, 0.010031222470990777), (3268, 0.0), (3269, 0.003624339592272921), (3270, 0.0), (3271, 0.0036139348509803795), (3272, 0.0), (3273, 0.003744384558429752), (3274, 0.0), (3275, 0.0), (3276, 0.0), (3277, 0.0), (3278, 0.0030706756615017897), (3279, 0.017549156335381302), (3280, 0.03634062761351719), (3281, 0.0), (3282, 0.004303902397595369), (3283, 0.003389817836587333), (3284, 0.0), (3285, 0.025811809569512647), (3286, 0.0), (3287, 0.0), (3288, 0.00662736890985725), (3289, 0.0034491730387652235), (3290, 0.003453203615071642), (3291, 0.0), (3292, 0.0), (3293, 0.0), (3294, 0.04535303891303762), (3295, 0.014023284429744244), (3296, 0.0), (3297, 0.011592757818477288), (3298, 0.0032569676742678793), (3299, 0.01681048714245683), (3300, 0.0031769096709951855), (3301, 0.0), (3302, 0.00411024209633352), (3303, 0.008580032414966804), (3304, 0.003062080458199166), (3305, 0.0), (3306, 0.01698380904926152), (3307, 0.0), (3308, 0.003942952351051505), (3309, 0.0), (3310, 0.0), (3311, 0.0030372318568480466), (3312, 0.0), (3313, 0.029005811620304408), (3314, 0.0035592910110413076), (3315, 0.034300609332758566), (3316, 0.0), (3317, 0.013131346326596367), (3318, 0.014608862798112408), (3319, 0.022481818646428488), (3320, 0.0), (3321, 0.0), (3322, 0.0), (3323, 0.0), (3324, 0.0), (3325, 0.0), (3326, 0.03024400940061508), (3327, 0.0030363548658842044), (3328, 0.030914701213104447), (3329, 0.009309910732902072), (3330, 0.03530726291643151), (3331, 0.007043169338225479), (3332, 0.0), (3333, 0.0), (3334, 0.058890325321290564), (3335, 0.0033764935093232593), (3336, 0.0030216864241309617), (3337, 0.0), (3338, 0.004756143635305317), (3339, 0.0043820080771419185), (3340, 0.0), (3341, 0.0033843388000701024), (3342, 0.007832020944161085), (3343, 0.0), (3344, 0.028454600523865333), (3345, 0.0), (3346, 0.010106187889228799), (3347, 0.0028097226053959974), (3348, 0.0032288422869976253), (3349, 0.0), (3350, 0.0), (3351, 0.035351096040999896), (3352, 0.02069793928945812), (3353, 0.0), (3354, 0.0), (3355, 0.0), (3356, 0.013831145515600862), (3357, 0.004134630350371194), (3358, 0.0), (3359, 0.0), (3360, 0.05227526930450699), (3361, 0.004805731159829982), (3362, 0.0388422222154841), (3363, 0.0), (3364, 0.0), (3365, 0.0023756948972693767), (3366, 0.0), (3367, 0.005078681007349858), (3368, 0.0), (3369, 0.003087360101502029), (3370, 0.015610479705162772), (3371, 0.0), (3372, 0.0), (3373, 0.040553089813609146), (3374, 0.04767809541829203), (3375, 0.014829684664526114), (3376, 0.031285031158928694), (3377, 0.0), (3378, 0.0), (3379, 0.003292536957499439), (3380, 0.002991084072779542), (3381, 0.0033118775683038688), (3382, 0.011538839679048955), (3383, 0.0), (3384, 0.022816721494548838), (3385, 0.059633295713011784), (3386, 0.010356991812687889), (3387, 0.01311369773316758), (3388, 0.003510182175002465), (3389, 0.009348323507896404), (3390, 0.003189296324352083), (3391, 0.0), (3392, 0.0022426315494257403), (3393, 0.0028978349213234066), (3394, 0.0), (3395, 0.04872181018043123), (3396, 0.0), (3397, 0.0), (3398, 0.005214446975697893), (3399, 0.009535472950057196), (3400, 0.0), (3401, 0.0), (3402, 0.00324159880746864), (3403, 0.020912347887184057), (3404, 0.0051442009131888065), (3405, 0.004294403065338543), (3406, 0.0035256597201207443), (3407, 0.01661483884292659), (3408, 0.04437594090374687), (3409, 0.03922391169908085), (3410, 0.008224638523380023), (3411, 0.0), (3412, 0.0032573185643362786), (3413, 0.0), (3414, 0.0037468825396265444), (3415, 0.0), (3416, 0.01951071048916501), (3417, 0.0), (3418, 0.009949155063757223), (3419, 0.0), (3420, 0.0), (3421, 0.014990165468067642), (3422, 0.0), (3423, 0.0), (3424, 0.0), (3425, 0.003822054282938549), (3426, 0.011120993407061724), (3427, 0.04379126640933393), (3428, 0.0), (3429, 0.003390245435580144), (3430, 0.03502382495614149), (3431, 0.0), (3432, 0.005015703130032335), (3433, 0.0223992901037653), (3434, 0.0), (3435, 0.008375743131141072), (3436, 0.008482951850512115), (3437, 0.016742386014118815), (3438, 0.005462040636762239), (3439, 0.0), (3440, 0.005846186148974873), (3441, 0.0), (3442, 0.0), (3443, 0.005008826221858975), (3444, 0.0), (3445, 0.0034461272787969697), (3446, 0.023939545171121554), (3447, 0.02766266196759808), (3448, 0.006169001878898795), (3449, 0.0035974812685453145), (3450, 0.06488883045618866), (3451, 0.0054405539453348944), (3452, 0.007904188971371826), (3453, 0.008380260596473931), (3454, 0.0), (3455, 0.0), (3456, 0.008174470194302726), (3457, 0.007273669612071086), (3458, 0.0069849206441432495), (3459, 0.0), (3460, 0.007787081399104149), (3461, 0.0), (3462, 0.05923981837714444), (3463, 0.06061232672662256), (3464, 0.008033541206111182), (3465, 0.07650828344536542), (3466, 0.03366716420073901), (3467, 0.0), (3468, 0.005481788459729369), (3469, 0.020439761046349342), (3470, 0.035864846666108084), (3471, 0.02130388247568464), (3472, 0.0), (3473, 0.0), (3474, 0.007733992456247358), (3475, 0.0), (3476, 0.0), (3477, 0.003291103051896836), (3478, 0.0033683804745030673), (3479, 0.0), (3480, 0.06711425775029933), (3481, 0.0), (3482, 0.0), (3483, 0.02423481040134811), (3484, 0.004238600923554256), (3485, 0.0), (3486, 0.037245189209273784), (3487, 0.00810832668159461), (3488, 0.0), (3489, 0.0), (3490, 0.0), (3491, 0.0033499853371117367), (3492, 0.02165895172237486), (3493, 0.003535828537953901), (3494, 0.0), (3495, 0.004542646044960149), (3496, 0.0035943889798426653), (3497, 0.0036268047234468657), (3498, 0.037220565842063486), (3499, 0.008306957549841355), (3500, 0.003110264740867841), (3501, 0.0), (3502, 0.0), (3503, 0.003231041644288816), (3504, 0.021988985427511636), (3505, 0.0), (3506, 0.0038617854464779843), (3507, 0.013178967757872296), (3508, 0.02096257735498262), (3509, 0.005906212780028203), (3510, 0.0), (3511, 0.03780007507007145), (3512, 0.0), (3513, 0.0), (3514, 0.00881336272647368), (3515, 0.0), (3516, 0.009079072942894468), (3517, 0.0034411451360244205), (3518, 0.04414301306990982), (3519, 0.0), (3520, 0.005142157437343686), (3521, 0.0), (3522, 0.0), (3523, 0.0), (3524, 0.011889387411704016), (3525, 0.0), (3526, 0.0034775578223774535), (3527, 0.0), (3528, 0.016840106577459487), (3529, 0.0), (3530, 0.0), (3531, 0.007406848280096523), (3532, 0.0), (3533, 0.0), (3534, 0.005549881586405106), (3535, 0.0), (3536, 0.010494091096915629), (3537, 0.004164942927757489), (3538, 0.0026786313817679323), (3539, 0.0), (3540, 0.0), (3541, 0.016938883157784586), (3542, 0.0), (3543, 0.0), (3544, 0.0), (3545, 0.0), (3546, 0.002494888421423066), (3547, 0.0), (3548, 0.0027410651795016813), (3549, 0.0), (3550, 0.0), (3551, 0.0034078378976083517), (3552, 0.0), (3553, 0.0), (3554, 0.0), (3555, 0.004914801938657607), (3556, 0.03484989742645901), (3557, 0.0032817037631523993), (3558, 0.015577991873804436), (3559, 0.045589454916304166), (3560, 0.0037482851222645215), (3561, 0.004478867561565747), (3562, 0.0), (3563, 0.00306536626933268), (3564, 0.003370014341675493), (3565, 0.003339452466445915), (3566, 0.006451362561577591), (3567, 0.0), (3568, 0.0), (3569, 0.002896064602886001), (3570, 0.007592966130201116), (3571, 0.008612768450508512), (3572, 0.029954130060812607), (3573, 0.0), (3574, 0.027399602684563023), (3575, 0.0026952210071651546), (3576, 0.0), (3577, 0.0), (3578, 0.0), (3579, 0.0), (3580, 0.014941332160025635), (3581, 0.0), (3582, 0.012243685265976594), (3583, 0.004939787807752227), (3584, 0.005450494508268331), (3585, 0.0), (3586, 0.008236893691796044), (3587, 0.0037808574516971557), (3588, 0.0), (3589, 0.0), (3590, 0.0), (3591, 0.0), (3592, 0.0), (3593, 0.0037371575446995225), (3594, 0.0), (3595, 0.0), (3596, 0.01004709161345021), (3597, 0.031140687108892888), (3598, 0.0060439049587961684), (3599, 0.010526791480640667), (3600, 0.0), (3601, 0.0), (3602, 0.004977787902914154), (3603, 0.0), (3604, 0.005566897934098342), (3605, 0.029007723747430388), (3606, 0.003386235281044069), (3607, 0.0), (3608, 0.0022211014759251956), (3609, 0.0), (3610, 0.0), (3611, 0.003792983289622934), (3612, 0.01094299363039707), (3613, 0.0), (3614, 0.003031031280648279), (3615, 0.0), (3616, 0.0), (3617, 0.0), (3618, 0.008840222568910636), (3619, 0.004463162325562453), (3620, 0.0), (3621, 0.0), (3622, 0.0), (3623, 0.008665860781834038), (3624, 0.008304540693449929), (3625, 0.0), (3626, 0.0025390960699434566), (3627, 0.0), (3628, 0.0), (3629, 0.0), (3630, 0.013256763270373843), (3631, 0.0), (3632, 0.006898549869803102), (3633, 0.0), (3634, 0.00860512184301799), (3635, 0.0), (3636, 0.0), (3637, 0.014133168358552778), (3638, 0.0), (3639, 0.003782393877233118), (3640, 0.017784768901210307), (3641, 0.0032407234507253403), (3642, 0.01731514889072721), (3643, 0.010295049976474813), (3644, 0.0), (3645, 0.008234786935648698), (3646, 0.0031615643341556476), (3647, 0.003301275432513891), (3648, 0.007032156489808555), (3649, 0.0), (3650, 0.0), (3651, 0.0), (3652, 0.0), (3653, 0.00853483258812781), (3654, 0.003547033816279711), (3655, 0.051533802491023156), (3656, 0.03431197614494292), (3657, 0.0028623303179887735), (3658, 0.006404614208586814), (3659, 0.013801953285352137), (3660, 0.015423988633206593), (3661, 0.0), (3662, 0.0), (3663, 0.0), (3664, 0.004871546613580695), (3665, 0.02159026526507185), (3666, 0.008753701255627673), (3667, 0.010427509911607551), (3668, 0.0028735984941647363), (3669, 0.002852583719995612), (3670, 0.016201936863349586), (3671, 0.0), (3672, 0.0), (3673, 0.0033561961127937592), (3674, 0.010796287555113433), (3675, 0.0), (3676, 0.0), (3677, 0.003693504723482066), (3678, 0.0035536168893866788), (3679, 0.0), (3680, 0.0), (3681, 0.0), (3682, 0.0), (3683, 0.0), (3684, 0.026957980028923793), (3685, 0.0), (3686, 0.0), (3687, 0.0), (3688, 0.028025816589670845), (3689, 0.01056545229795028), (3690, 0.0), (3691, 0.0031922564473179644), (3692, 0.025514195937403564), (3693, 0.0), (3694, 0.01729651822157973), (3695, 0.0), (3696, 0.008152867726599917), (3697, 0.0), (3698, 0.0), (3699, 0.016305305717850358), (3700, 0.0), (3701, 0.029311118577107238), (3702, 0.0), (3703, 0.0), (3704, 0.0), (3705, 0.007656313553095887), (3706, 0.0032824227334791053), (3707, 0.0), (3708, 0.0), (3709, 0.0), (3710, 0.0054119823393724755), (3711, 0.02587601462693689), (3712, 0.0), (3713, 0.01641744252767131), (3714, 0.0), (3715, 0.0), (3716, 0.0), (3717, 0.0), (3718, 0.0), (3719, 0.0), (3720, 0.03102293895028947), (3721, 0.0), (3722, 0.0), (3723, 0.004800376353631761), (3724, 0.0), (3725, 0.003111229052273664), (3726, 0.0), (3727, 0.0), (3728, 0.05865377227403335), (3729, 0.0), (3730, 0.0), (3731, 0.03534072772435533), (3732, 0.0), (3733, 0.009685210397424746), (3734, 0.007975353792417275), (3735, 0.0), (3736, 0.0), (3737, 0.003729544557180664), (3738, 0.0), (3739, 0.0033990726017334425), (3740, 0.0), (3741, 0.014715983105463373), (3742, 0.0030705582138241226), (3743, 0.0), (3744, 0.0), (3745, 0.0), (3746, 0.024977577565755818), (3747, 0.012520440284779064), (3748, 0.0), (3749, 0.0), (3750, 0.012349098730482252), (3751, 0.029247167023412735), (3752, 0.0057920654574884845), (3753, 0.044550512064356444), (3754, 0.0), (3755, 0.0), (3756, 0.013103143527338545), (3757, 0.003610476647559979), (3758, 0.0), (3759, 0.0), (3760, 0.0), (3761, 0.0), (3762, 0.0), (3763, 0.003938340106425999), (3764, 0.0), (3765, 0.003253320378242235), (3766, 0.0), (3767, 0.03105488128105263), (3768, 0.0), (3769, 0.005290952554864483), (3770, 0.003527164968222736), (3771, 0.009086564736783084), (3772, 0.003817891652473344), (3773, 0.024865039728191138), (3774, 0.005443771583424687), (3775, 0.01170987716232082), (3776, 0.004364759095399036), (3777, 0.01696918961219559), (3778, 0.02228401408394816), (3779, 0.0), (3780, 0.008912060822269488), (3781, 0.0), (3782, 0.005429900141255226), (3783, 0.0), (3784, 0.009741606004409794), (3785, 0.0), (3786, 0.0), (3787, 0.0055631501650805415), (3788, 0.004759050705445016), (3789, 0.0), (3790, 0.0), (3791, 0.0), (3792, 0.0034094551742419863), (3793, 0.0465324032466996), (3794, 0.012093596375128851), (3795, 0.0030093053624841333), (3796, 0.0), (3797, 0.016851881644751508), (3798, 0.0), (3799, 0.0), (3800, 0.0), (3801, 0.02668440091652628), (3802, 0.0), (3803, 0.0), (3804, 0.0), (3805, 0.0), (3806, 0.004329881792104375), (3807, 0.01607751313315968), (3808, 0.0), (3809, 0.0), (3810, 0.0), (3811, 0.003173278195913299), (3812, 0.0), (3813, 0.0), (3814, 0.02998720536985553), (3815, 0.005184338800610732), (3816, 0.0), (3817, 0.0), (3818, 0.0), (3819, 0.015201432098068773), (3820, 0.0), (3821, 0.008548365035315895), (3822, 0.01138442037803911), (3823, 0.004758147000723983), (3824, 0.004790959981878688), (3825, 0.006159054828896768), (3826, 0.009772015264988672), (3827, 0.0), (3828, 0.0), (3829, 0.00942149731925375), (3830, 0.0), (3831, 0.0), (3832, 0.0), (3833, 0.005149130269810793), (3834, 0.0), (3835, 0.024447940023379182), (3836, 0.0), (3837, 0.0), (3838, 0.0), (3839, 0.023414563661021275), (3840, 0.0), (3841, 0.007587207423533767), (3842, 0.006962329398680305), (3843, 0.0), (3844, 0.0), (3845, 0.003520920042431313), (3846, 0.0), (3847, 0.0), (3848, 0.0), (3849, 0.013079215687804305), (3850, 0.03253461874836032), (3851, 0.0), (3852, 0.02787341800175899), (3853, 0.019152396751255386), (3854, 0.06185131738704312), (3855, 0.0028474570802353516), (3856, 0.0), (3857, 0.02078645294781004), (3858, 0.0), (3859, 0.0), (3860, 0.011524340836177186), (3861, 0.013561073256580462), (3862, 0.016798979259125317), (3863, 0.0030277673964912936), (3864, 0.006393897836429206), (3865, 0.006085622573295851), (3866, 0.0038690428889766853), (3867, 0.04066565426606676), (3868, 0.026276658690176688), (3869, 0.0), (3870, 0.0), (3871, 0.02810316769314467), (3872, 0.0245838873522394), (3873, 0.0036085762885532707), (3874, 0.0), (3875, 0.01940534060840068), (3876, 0.007763215381710105), (3877, 0.0037325701159659345), (3878, 0.004411417517000341), (3879, 0.0), (3880, 0.031139128330342047), (3881, 0.004773840897810588), (3882, 0.003542945904451909), (3883, 0.0), (3884, 0.0), (3885, 0.0), (3886, 0.0048876087041361945), (3887, 0.0), (3888, 0.010872517292749113), (3889, 0.003658654221772726), (3890, 0.003236242289966074), (3891, 0.0), (3892, 0.0), (3893, 0.0036220289132590385), (3894, 0.002952159900679773), (3895, 0.01624242188889721), (3896, 0.0), (3897, 0.005341531966594379), (3898, 0.0), (3899, 0.0), (3900, 0.0), (3901, 0.010148696287917867), (3902, 0.0), (3903, 0.011584305263393902), (3904, 0.0), (3905, 0.008093748749069719), (3906, 0.003318513263472906), (3907, 0.0052540305747259325), (3908, 0.005119224589511235), (3909, 0.006357578512534315), (3910, 0.007324911026778418), (3911, 0.0), (3912, 0.0), (3913, 0.02509993911150111), (3914, 0.0), (3915, 0.0036568245760442417), (3916, 0.02162109471007276), (3917, 0.0032073131757027287), (3918, 0.0), (3919, 0.010626608044540117), (3920, 0.0034832401403108323), (3921, 0.0), (3922, 0.0), (3923, 0.022014838584247538), (3924, 0.012012583689223318), (3925, 0.0), (3926, 0.006843055422886102), (3927, 0.021318421571705985), (3928, 0.0), (3929, 0.0), (3930, 0.0), (3931, 0.0), (3932, 0.006210947535621953), (3933, 0.0), (3934, 0.01931584168721217), (3935, 0.0), (3936, 0.0), (3937, 0.0), (3938, 0.005470177394873106), (3939, 0.0), (3940, 0.0056199153632745255), (3941, 0.010257519406364442), (3942, 0.0), (3943, 0.0), (3944, 0.0041261539864956495), (3945, 0.0), (3946, 0.06913886375225162), (3947, 0.04182436755173483), (3948, 0.0), (3949, 0.0), (3950, 0.0), (3951, 0.011713497577943412), (3952, 0.0), (3953, 0.003052648238478171), (3954, 0.009580598221644148), (3955, 0.039055043004078645), (3956, 0.00982980492829946), (3957, 0.012649636332610173), (3958, 0.013264116260919048), (3959, 0.029590293438101902), (3960, 0.0095226629086725), (3961, 0.03464951465723198), (3962, 0.003773108517482795), (3963, 0.025069320377763157), (3964, 0.0), (3965, 0.0), (3966, 0.004721596086395769), (3967, 0.0), (3968, 0.0), (3969, 0.0), (3970, 0.004853106749998838), (3971, 0.0), (3972, 0.0), (3973, 0.0433691415233697), (3974, 0.04810159474746707), (3975, 0.0), (3976, 0.016372092005025096), (3977, 0.0), (3978, 0.0224093459512674), (3979, 0.0), (3980, 0.0), (3981, 0.0), (3982, 0.0), (3983, 0.034456419233997504), (3984, 0.0), (3985, 0.0), (3986, 0.0029859735671675376), (3987, 0.0), (3988, 0.0), (3989, 0.004116344477553569), (3990, 0.0), (3991, 0.0), (3992, 0.0), (3993, 0.01175277387970258), (3994, 0.0), (3995, 0.005268224145535812), (3996, 0.0), (3997, 0.005425427921084564), (3998, 0.006592760902079439), (3999, 0.0), (4000, 0.01600605166631804), (4001, 0.006846578387637321), (4002, 0.0038853344061761095), (4003, 0.0), (4004, 0.03176765644663361), (4005, 0.03750596389685616), (4006, 0.0), (4007, 0.0), (4008, 0.007107196434092148), (4009, 0.0063015040252680015), (4010, 0.0), (4011, 0.0031434449687298876), (4012, 0.017280708492297917), (4013, 0.009158688356853057), (4014, 0.0), (4015, 0.0027642433100649633), (4016, 0.021434447715680455), (4017, 0.0), (4018, 0.0), (4019, 0.0), (4020, 0.0033045222988610365), (4021, 0.0), (4022, 0.0), (4023, 0.0), (4024, 0.0), (4025, 0.010608267116892982), (4026, 0.0), (4027, 0.0), (4028, 0.0), (4029, 0.0), (4030, 0.0), (4031, 0.0), (4032, 0.0), (4033, 0.011505082718688787), (4034, 0.0), (4035, 0.029668504435477888), (4036, 0.003305092847032187), (4037, 0.0), (4038, 0.008982707955413645), (4039, 0.004979016332792141), (4040, 0.0), (4041, 0.0), (4042, 0.0), (4043, 0.0), (4044, 0.004611222450929692), (4045, 0.008073051852204449), (4046, 0.009235324423443157), (4047, 0.0), (4048, 0.0), (4049, 0.0034014782840958214), (4050, 0.022429496818805333), (4051, 0.003726984584198008), (4052, 0.0), (4053, 0.02387825274619399), (4054, 0.0035403154133669484), (4055, 0.006188520691035771), (4056, 0.003353814596258919), (4057, 0.0061221546433111495), (4058, 0.0), (4059, 0.0031549508288386545), (4060, 0.010935346112146936), (4061, 0.0074067472876868145), (4062, 0.0), (4063, 0.0), (4064, 0.0), (4065, 0.0), (4066, 0.0029484454698884793), (4067, 0.0), (4068, 0.016348477285072462), (4069, 0.0032449038477877653), (4070, 0.0), (4071, 0.0048026563093683), (4072, 0.0), (4073, 0.0), (4074, 0.003005862445032487), (4075, 0.0), (4076, 0.005445842085446708), (4077, 0.007477253157837711), (4078, 0.0), (4079, 0.0), (4080, 0.003023887921979758), (4081, 0.018777245220742197), (4082, 0.0), (4083, 0.0035104146841850687), (4084, 0.0), (4085, 0.003197784001881272), (4086, 0.0), (4087, 0.0036281666627140953), (4088, 0.020917251976382292), (4089, 0.00875776827918363), (4090, 0.005450038006639239), (4091, 0.0), (4092, 0.0), (4093, 0.007813715065146094), (4094, 0.00815866453901885), (4095, 0.01370122435355131), (4096, 0.03295095119001081), (4097, 0.0), (4098, 0.008636509303698546), (4099, 0.006812735136423775), (4100, 0.0), (4101, 0.0036754709185732003), (4102, 0.0), (4103, 0.005106592227740523), (4104, 0.04759143531763558), (4105, 0.008574177062669925), (4106, 0.010623609053091163), (4107, 0.0), (4108, 0.0), (4109, 0.0), (4110, 0.006051953989906792), (4111, 0.0), (4112, 0.0), (4113, 0.0037242580639041158), (4114, 0.0), (4115, 0.0), (4116, 0.07326875404758469), (4117, 0.0038346175520335324), (4118, 0.008242344791642495), (4119, 0.005620123785182053), (4120, 0.005680582681462865), (4121, 0.014379288956697477), (4122, 0.0), (4123, 0.054511302006685004), (4124, 0.015351550162876), (4125, 0.0), (4126, 0.0), (4127, 0.0), (4128, 0.023845509880950966), (4129, 0.0), (4130, 0.0036565470201255553), (4131, 0.0), (4132, 0.0036199914845318902), (4133, 0.0), (4134, 0.0), (4135, 0.0033930445560403045), (4136, 0.003481745513963977), (4137, 0.06330851685481127), (4138, 0.0), (4139, 0.0032369297166809615), (4140, 0.003660901116511437), (4141, 0.028662471621257575), (4142, 0.004327924522159578), (4143, 0.0029899584801580887), (4144, 0.0), (4145, 0.0), (4146, 0.0), (4147, 0.0), (4148, 0.012696432009474738), (4149, 0.01839492884358154), (4150, 0.0), (4151, 0.005747391658351449), (4152, 0.03424678616494301), (4153, 0.0), (4154, 0.0076778725825236045), (4155, 0.0032233725581762972), (4156, 0.020936351289649976), (4157, 0.0), (4158, 0.010254467125773426), (4159, 0.0), (4160, 0.0), (4161, 0.0), (4162, 0.0), (4163, 0.0), (4164, 0.011571546742808032), (4165, 0.03686949600016793), (4166, 0.0), (4167, 0.0), (4168, 0.0), (4169, 0.0), (4170, 0.0), (4171, 0.0023941389259956253), (4172, 0.0), (4173, 0.0), (4174, 0.0030790486404654155), (4175, 0.030294527406170193), (4176, 0.02191122067871381), (4177, 0.0), (4178, 0.016754316241999852), (4179, 0.0), (4180, 0.0), (4181, 0.0), (4182, 0.007767625678611023), (4183, 0.0032831243596149673), (4184, 0.00767982384400159), (4185, 0.0), (4186, 0.0), (4187, 0.01249355628977689), (4188, 0.0), (4189, 0.023291070434375512), (4190, 0.0), (4191, 0.0), (4192, 0.010630793836801825), (4193, 0.004631619542099126), (4194, 0.0), (4195, 0.03243588030566207), (4196, 0.00741069237549252), (4197, 0.0034053681822850492), (4198, 0.0), (4199, 0.0), (4200, 0.0027877596476128404), (4201, 0.0), (4202, 0.0), (4203, 0.02047030492501862), (4204, 0.0), (4205, 0.009034171462358567), (4206, 0.0031430456351792192), (4207, 0.0), (4208, 0.0), (4209, 0.03524677836076574), (4210, 0.0069010383369834775), (4211, 0.004977617042188506), (4212, 0.0), (4213, 0.0), (4214, 0.0), (4215, 0.0), (4216, 0.012308435888145728), (4217, 0.006535786810552326), (4218, 0.0), (4219, 0.0), (4220, 0.0029835310613128673), (4221, 0.0), (4222, 0.0), (4223, 0.0), (4224, 0.0), (4225, 0.0), (4226, 0.0074208061101876475), (4227, 0.0), (4228, 0.0), (4229, 0.0), (4230, 0.0), (4231, 0.0), (4232, 0.009573960383867553), (4233, 0.008039005579324703), (4234, 0.0), (4235, 0.011755876741294642), (4236, 0.006371063378446792), (4237, 0.0), (4238, 0.0), (4239, 0.0), (4240, 0.0055208327418931205), (4241, 0.0), (4242, 0.0), (4243, 0.0), (4244, 0.0), (4245, 0.0), (4246, 0.01744673051682219), (4247, 0.0029623835800766966), (4248, 0.0050424557177839386), (4249, 0.0), (4250, 0.0), (4251, 0.005202335163083018), (4252, 0.06064641050182287), (4253, 0.0), (4254, 0.0032088508945569503), (4255, 0.015450535349702251), (4256, 0.0), (4257, 0.009615766351169222), (4258, 0.0), (4259, 0.0037482516356691503), (4260, 0.0), (4261, 0.0057199637237094515), (4262, 0.0035106655507994382), (4263, 0.0), (4264, 0.004991920479497658), (4265, 0.013350700830361844), (4266, 0.0034053351767141093), (4267, 0.0038365409536078917), (4268, 0.04925812824900582), (4269, 0.003602917430182262), (4270, 0.0), (4271, 0.0), (4272, 0.030627899895393416), (4273, 0.00345468538817954), (4274, 0.004687517730891957), (4275, 0.00526091896734647), (4276, 0.0), (4277, 0.0030807096834658486), (4278, 0.0), (4279, 0.0), (4280, 0.0039578685550555005), (4281, 0.023375513963745972), (4282, 0.007773084893548282), (4283, 0.027158643143534226), (4284, 0.008319948020089772), (4285, 0.0), (4286, 0.003548889407928659), (4287, 0.0034782111674061763), (4288, 0.02505050615056466), (4289, 0.008151348489638287), (4290, 0.00457067314553906), (4291, 0.0), (4292, 0.004783833901615498), (4293, 0.0), (4294, 0.02599278047989444), (4295, 0.0), (4296, 0.0), (4297, 0.0), (4298, 0.0), (4299, 0.008227332616926177), (4300, 0.0), (4301, 0.0), (4302, 0.0), (4303, 0.006570770434681917), (4304, 0.002984501709265906), (4305, 0.0), (4306, 0.0), (4307, 0.00567580637088636), (4308, 0.0), (4309, 0.008263104675317028), (4310, 0.005079450973509424), (4311, 0.0), (4312, 0.0054475681223532715), (4313, 0.0), (4314, 0.014825939632650985), (4315, 0.0), (4316, 0.0), (4317, 0.0), (4318, 0.0), (4319, 0.0), (4320, 0.003370674618087068), (4321, 0.01784079142935988), (4322, 0.004666059048418874), (4323, 0.0), (4324, 0.0), (4325, 0.011843844971149688), (4326, 0.0), (4327, 0.0), (4328, 0.004764010427445576), (4329, 0.0), (4330, 0.0033133099794621277), (4331, 0.005864668287479057), (4332, 0.0), (4333, 0.0037679234582186395), (4334, 0.003483865233878825), (4335, 0.008681381880583677), (4336, 0.009804902305418113), (4337, 0.012986882779311051), (4338, 0.0), (4339, 0.00463802870663549), (4340, 0.003487510563780377), (4341, 0.0), (4342, 0.00631784593587299), (4343, 0.0029877460980467247), (4344, 0.013108554537921854), (4345, 0.003179919748496924), (4346, 0.0), (4347, 0.0), (4348, 0.003099494804073043), (4349, 0.01824229472261821), (4350, 0.0030021196220787623), (4351, 0.0), (4352, 0.0), (4353, 0.0), (4354, 0.0), (4355, 0.003558817697666371), (4356, 0.0030884053469423974), (4357, 0.0), (4358, 0.0), (4359, 0.0030791630137843736), (4360, 0.005095534718469111), (4361, 0.003519310737272263), (4362, 0.037777559186449386), (4363, 0.0035126876592662675), (4364, 0.0), (4365, 0.00444587903621883), (4366, 0.011425393331233703), (4367, 0.006592469571901999), (4368, 0.00376895309388827), (4369, 0.0038853753298222432), (4370, 0.0), (4371, 0.010908712600386387), (4372, 0.0), (4373, 0.005169718292788262), (4374, 0.015285466424358365), (4375, 0.09101762850129297), (4376, 0.005225517273539149), (4377, 0.00520024623275589), (4378, 0.07845401905575669), (4379, 0.016738612503864197), (4380, 0.02065646509119655), (4381, 0.00325753573852447), (4382, 0.020881580254331303), (4383, 0.005106011517127276), (4384, 0.005330458293436766), (4385, 0.0059855319281626), (4386, 0.0), (4387, 0.01573564377501898), (4388, 0.006999905258680021), (4389, 0.06046464348081405), (4390, 0.0), (4391, 0.0), (4392, 0.005356159529255727), (4393, 0.0), (4394, 0.003317972971566314), (4395, 0.020991008681387636), (4396, 0.037832213715263005), (4397, 0.0), (4398, 0.05935153378787745), (4399, 0.017590668271764087), (4400, 0.0), (4401, 0.003763881285581684), (4402, 0.03142527031911955), (4403, 0.03973874097108933), (4404, 0.0), (4405, 0.0), (4406, 0.0), (4407, 0.0), (4408, 0.0), (4409, 0.0033440618310443013), (4410, 0.0), (4411, 0.0028733206160543034), (4412, 0.0), (4413, 0.0), (4414, 0.0), (4415, 0.0), (4416, 0.0), (4417, 0.0), (4418, 0.0), (4419, 0.0), (4420, 0.0035087826402107085), (4421, 0.0), (4422, 0.0), (4423, 0.0), (4424, 0.0), (4425, 0.0), (4426, 0.004415704336534025), (4427, 0.0033840345525955723), (4428, 0.003195314985765527), (4429, 0.0), (4430, 0.0), (4431, 0.009045440861940637), (4432, 0.007412762787356407), (4433, 0.0), (4434, 0.0), (4435, 0.011108244067734436), (4436, 0.021175222489483884), (4437, 0.0), (4438, 0.004863550790008207), (4439, 0.0), (4440, 0.0), (4441, 0.0048240344651989935), (4442, 0.010712450827952223), (4443, 0.0), (4444, 0.0), (4445, 0.002539277994010438), (4446, 0.0036595612878282642), (4447, 0.0), (4448, 0.0035131162538416727), (4449, 0.0), (4450, 0.027244264010208918), (4451, 0.0), (4452, 0.03672387124829006), (4453, 0.0), (4454, 0.0), (4455, 0.0), (4456, 0.04621863822577266), (4457, 0.0), (4458, 0.0), (4459, 0.00653086721779005), (4460, 0.0), (4461, 0.0), (4462, 0.005743989900668027), (4463, 0.0), (4464, 0.0), (4465, 0.02141328696205936), (4466, 0.021358180435145705), (4467, 0.007055612862789591), (4468, 0.004434181096608966), (4469, 0.0), (4470, 0.00870510038730465), (4471, 0.0), (4472, 0.003269963806741014), (4473, 0.002923728475688409), (4474, 0.016893713091386063), (4475, 0.0), (4476, 0.002899678811418626), (4477, 0.012789900098547415), (4478, 0.0), (4479, 0.003081695327325502), (4480, 0.0), (4481, 0.012198789556170467), (4482, 0.015184415907237186), (4483, 0.0), (4484, 0.0), (4485, 0.0), (4486, 0.014997079463393955), (4487, 0.003318391788727733), (4488, 0.04226788137786841), (4489, 0.0035667137408780633), (4490, 0.0), (4491, 0.0), (4492, 0.019507928233512585), (4493, 0.0), (4494, 0.00945375426640962), (4495, 0.003555513848900051), (4496, 0.0), (4497, 0.003509716037988736), (4498, 0.0), (4499, 0.0), (4500, 0.0), (4501, 0.0034137656954037637), (4502, 0.010068434440323619), (4503, 0.052239221322401094), (4504, 0.017827758908186768), (4505, 0.0035799504370183683), (4506, 0.0), (4507, 0.0), (4508, 0.0), (4509, 0.0), (4510, 0.013499914345040949), (4511, 0.00997022401522532), (4512, 0.0), (4513, 0.004206148339216343), (4514, 0.0), (4515, 0.0), (4516, 0.0), (4517, 0.008458245854703672), (4518, 0.00616839285980055), (4519, 0.0), (4520, 0.0), (4521, 0.0), (4522, 0.0), (4523, 0.008079056798570097), (4524, 0.014164759643993318), (4525, 0.0), (4526, 0.0), (4527, 0.0), (4528, 0.0), (4529, 0.0), (4530, 0.0), (4531, 0.01779008116872536), (4532, 0.0), (4533, 0.0342782509695437), (4534, 0.022735301503913397), (4535, 0.0037605722734847715), (4536, 0.0032137120325919926), (4537, 0.0), (4538, 0.029286916979500845), (4539, 0.0), (4540, 0.0), (4541, 0.0), (4542, 0.0), (4543, 0.012312551564256305), (4544, 0.0), (4545, 0.0036208621779164653), (4546, 0.0), (4547, 0.0), (4548, 0.028571347843282066), (4549, 0.0), (4550, 0.0032638614711421685), (4551, 0.01214202401353907), (4552, 0.00523750474730688), (4553, 0.011122249222411666), (4554, 0.0), (4555, 0.0), (4556, 0.0), (4557, 0.008054669528464037), (4558, 0.0), (4559, 0.0), (4560, 0.0), (4561, 0.0), (4562, 0.0), (4563, 0.003407577030063653), (4564, 0.00658171897941945), (4565, 0.0), (4566, 0.0035200937243173164), (4567, 0.0032327160767905167), (4568, 0.0), (4569, 0.0), (4570, 0.0), (4571, 0.0), (4572, 0.0), (4573, 0.0), (4574, 0.0035845715812718297), (4575, 0.003575737272039778), (4576, 0.014824935480499535), (4577, 0.0), (4578, 0.0), (4579, 0.0), (4580, 0.0), (4581, 0.0077326793666140144), (4582, 0.004507663396711449), (4583, 0.015527774660116084), (4584, 0.003935500302073975), (4585, 0.004784706294490687), (4586, 0.0), (4587, 0.004843177230692984), (4588, 0.04204522666079102), (4589, 0.0), (4590, 0.03181720876482488), (4591, 0.007881788513697321), (4592, 0.0), (4593, 0.0), (4594, 0.06500763253571161), (4595, 0.0054985429357049045), (4596, 0.012038587512982637), (4597, 0.0), (4598, 0.0026089813838200957), (4599, 0.0), (4600, 0.0), (4601, 0.009270420758316437), (4602, 0.032934929474185116), (4603, 0.0), (4604, 0.003378231561892065), (4605, 0.011232523220843657), (4606, 0.0042608288059845), (4607, 0.0), (4608, 0.0), (4609, 0.0), (4610, 0.014797022850839742), (4611, 0.0), (4612, 0.010442541501270011), (4613, 0.0), (4614, 0.09285769048463566), (4615, 0.0), (4616, 0.0), (4617, 0.0), (4618, 0.0), (4619, 0.0), (4620, 0.0030797623666385123), (4621, 0.0053034772292252135), (4622, 0.0), (4623, 0.012657862442382522), (4624, 0.008847357369329229), (4625, 0.0), (4626, 0.0027502665578124893), (4627, 0.015907287339427673), (4628, 0.0), (4629, 0.008729812323378956), (4630, 0.005722900511543295), (4631, 0.0), (4632, 0.0), (4633, 0.003939603669624528), (4634, 0.00313513574017937), (4635, 0.0), (4636, 0.0028437195051490534), (4637, 0.0), (4638, 0.003087532441001578), (4639, 0.0053300704007017774), (4640, 0.01868628562764236), (4641, 0.03478999913242961), (4642, 0.0), (4643, 0.0), (4644, 0.0), (4645, 0.0), (4646, 0.0), (4647, 0.0), (4648, 0.0), (4649, 0.009320338249437614), (4650, 0.003854164145684603), (4651, 0.0), (4652, 0.007817813972249767), (4653, 0.006160843655931057), (4654, 0.0), (4655, 0.0), (4656, 0.0), (4657, 0.0), (4658, 0.02192655913991469), (4659, 0.0), (4660, 0.0), (4661, 0.0074611689637558674), (4662, 0.0), (4663, 0.03374566948588072), (4664, 0.009397186895132744), (4665, 0.005082673414800609), (4666, 0.0), (4667, 0.0), (4668, 0.0), (4669, 0.017259466241062418), (4670, 0.008134053791431985), (4671, 0.0), (4672, 0.0), (4673, 0.015639656544542982), (4674, 0.006794042635310492), (4675, 0.0), (4676, 0.0), (4677, 0.00850815771044932), (4678, 0.005214274907067025), (4679, 0.02065969158007424), (4680, 0.003605614838692989), (4681, 0.0), (4682, 0.048777105094424476), (4683, 0.0), (4684, 0.02841209402816297), (4685, 0.00996759250427642), (4686, 0.003351464415327449), (4687, 0.0033021530101456404), (4688, 0.0), (4689, 0.043275615683573264), (4690, 0.0), (4691, 0.0), (4692, 0.00415549458191951), (4693, 0.0), (4694, 0.0), (4695, 0.0), (4696, 0.0), (4697, 0.0), (4698, 0.0), (4699, 0.0), (4700, 0.0), (4701, 0.0), (4702, 0.0), (4703, 0.034192719137753715), (4704, 0.0), (4705, 0.0), (4706, 0.0), (4707, 0.0), (4708, 0.005037445499689176), (4709, 0.0), (4710, 0.0), (4711, 0.0), (4712, 0.0030241011050450312), (4713, 0.0), (4714, 0.0), (4715, 0.008497143708286949), (4716, 0.0), (4717, 0.0), (4718, 0.0), (4719, 0.0), (4720, 0.0), (4721, 0.0), (4722, 0.0), (4723, 0.0), (4724, 0.0), (4725, 0.0), (4726, 0.005550136990507602), (4727, 0.0), (4728, 0.0), (4729, 0.0), (4730, 0.0), (4731, 0.0), (4732, 0.0036582001661856945), (4733, 0.0070094177053078984), (4734, 0.0), (4735, 0.0), (4736, 0.0), (4737, 0.0), (4738, 0.0068023170720622255), (4739, 0.0), (4740, 0.0), (4741, 0.0), (4742, 0.0), (4743, 0.003280788030510531), (4744, 0.0), (4745, 0.0), (4746, 0.0), (4747, 0.0), (4748, 0.008851871869549768), (4749, 0.0), (4750, 0.0), (4751, 0.0), (4752, 0.002396924275631969), (4753, 0.0), (4754, 0.0), (4755, 0.0), (4756, 0.0), (4757, 0.008861141165108059), (4758, 0.0), (4759, 0.0)]\n"
          ]
        }
      ]
    },
    {
      "cell_type": "code",
      "source": [
        "len(Recommendation_Score)"
      ],
      "metadata": {
        "colab": {
          "base_uri": "https://localhost:8080/"
        },
        "id": "yvsSrBQNzGMZ",
        "outputId": "653ea047-81e3-4881-95fa-7560921bff14"
      },
      "execution_count": 42,
      "outputs": [
        {
          "output_type": "execute_result",
          "data": {
            "text/plain": [
              "4760"
            ]
          },
          "metadata": {},
          "execution_count": 42
        }
      ]
    },
    {
      "cell_type": "code",
      "source": [],
      "metadata": {
        "id": "6Ke5IcgtzUQO"
      },
      "execution_count": null,
      "outputs": []
    },
    {
      "cell_type": "markdown",
      "source": [
        "# **Get All Movies Sort Based on Recommendation Score wrt Favorite Movie**"
      ],
      "metadata": {
        "id": "y2uqYhcqzXKS"
      }
    },
    {
      "cell_type": "code",
      "source": [
        "Sorted_Similar_Movies = sorted(Recommendation_Score, key = lambda x:x[1],reverse=True)\n",
        "print(Sorted_Similar_Movies)"
      ],
      "metadata": {
        "colab": {
          "base_uri": "https://localhost:8080/"
        },
        "id": "kq03GrXAzkhE",
        "outputId": "4a47d9c2-32fb-4d45-c670-5c7757c781aa"
      },
      "execution_count": 43,
      "outputs": [
        {
          "output_type": "stream",
          "name": "stdout",
          "text": [
            "[(2692, 1.0000000000000002), (62, 0.10357177015737194), (2903, 0.10023663860400707), (1647, 0.09420396650132257), (4614, 0.09285769048463566), (4375, 0.09101762850129297), (45, 0.0909448639242056), (110, 0.0870448279733714), (1383, 0.08533771667155275), (1994, 0.08498629104509339), (628, 0.08210066456199588), (2558, 0.08174341092349155), (1977, 0.07961587620931052), (4378, 0.07845401905575669), (1341, 0.07659656501970327), (3465, 0.07650828344536542), (3053, 0.07551730820541246), (4116, 0.07326875404758469), (1982, 0.07124044246586964), (3946, 0.06913886375225162), (2538, 0.06788630890280602), (3480, 0.06711425775029933), (1886, 0.06590434465481541), (4594, 0.06500763253571161), (3450, 0.06488883045618866), (2112, 0.06429244080556175), (590, 0.06339649113460473), (4137, 0.06330851685481127), (675, 0.06318722872786423), (1134, 0.06220382248382895), (84, 0.06216822143890865), (3854, 0.06185131738704312), (424, 0.0618266379490775), (2318, 0.061707284716818855), (1118, 0.06121094777567529), (4252, 0.06064641050182287), (3463, 0.06061232672662256), (4389, 0.06046464348081405), (282, 0.060462165995202946), (1021, 0.05980206504689928), (3385, 0.059633295713011784), (4398, 0.05935153378787745), (3462, 0.05923981837714444), (3334, 0.058890325321290564), (3728, 0.05865377227403335), (2985, 0.05683174551768792), (1243, 0.05563189623838443), (4123, 0.054511302006685004), (1970, 0.054129856301166776), (1809, 0.053613301439803925), (292, 0.053341606109854826), (2026, 0.0533026462611298), (2944, 0.053180207779638194), (137, 0.05302270267988764), (479, 0.05274849527473975), (3360, 0.05227526930450699), (4503, 0.052239221322401094), (384, 0.05199669563126275), (1030, 0.05171908873558632), (3655, 0.051533802491023156), (1102, 0.051486396692071584), (2191, 0.05144642674629975), (519, 0.05094618650977359), (3010, 0.050792650824879486), (2214, 0.050606396522557454), (877, 0.0501940336525769), (873, 0.0498206069253527), (213, 0.04952452749174968), (2133, 0.049486996797863725), (2294, 0.04942236517585988), (4268, 0.04925812824900582), (4682, 0.048777105094424476), (3395, 0.04872181018043123), (1878, 0.04861139400358211), (2374, 0.0481132455832426), (3974, 0.04810159474746707), (2971, 0.04776416983577829), (3374, 0.04767809541829203), (4104, 0.04759143531763558), (2653, 0.04757807232478994), (1257, 0.046719099749403), (3793, 0.0465324032466996), (3023, 0.04643209059465004), (904, 0.04633203897135145), (1023, 0.04633147060125288), (4456, 0.04621863822577266), (1261, 0.045692891527177044), (412, 0.045667418653561075), (2530, 0.04564770228921245), (3559, 0.045589454916304166), (3091, 0.0455276102891339), (67, 0.04541083403792426), (3294, 0.04535303891303762), (1203, 0.04522762673157594), (637, 0.04521891913294705), (2151, 0.045164416244787696), (673, 0.04496408866366691), (1248, 0.044804968175662034), (3753, 0.044550512064356444), (682, 0.04447112836779134), (1821, 0.044406033318555804), (1302, 0.0444009546139382), (3408, 0.04437594090374687), (2745, 0.044364413186499585), (161, 0.04431285337732353), (408, 0.0441777848363411), (3518, 0.04414301306990982), (615, 0.04409401030033923), (1506, 0.04396420271433916), (1292, 0.04387658527680938), (3427, 0.04379126640933393), (1369, 0.04360501180242733), (328, 0.04355087948464337), (1675, 0.043380819983090554), (3973, 0.0433691415233697), (277, 0.043280160740857845), (4689, 0.043275615683573264), (438, 0.04314914872417264), (2012, 0.04306078210447855), (1358, 0.043048950015454335), (89, 0.04275788281825451), (2321, 0.04253282339203859), (1652, 0.042418100853419134), (172, 0.04240830990437774), (4488, 0.04226788137786841), (455, 0.04217174261289936), (4588, 0.04204522666079102), (360, 0.04203955871231365), (1393, 0.0418361023808926), (3947, 0.04182436755173483), (1871, 0.04150421127060543), (2155, 0.041250590730004824), (1850, 0.04099830405022259), (3867, 0.04066565426606676), (109, 0.040637731968123085), (44, 0.04063632694524281), (788, 0.04062404373877819), (3373, 0.040553089813609146), (1527, 0.040488053323491466), (108, 0.040290536313802666), (3209, 0.04028290017469506), (185, 0.04015907460321891), (4403, 0.03973874097108933), (1024, 0.03952068598222784), (2869, 0.03935347389991554), (3409, 0.03922391169908085), (126, 0.03921529959604782), (2859, 0.039059043156054386), (3955, 0.039055043004078645), (632, 0.03903808411601434), (1320, 0.03895690677596542), (2018, 0.03893562923363366), (3362, 0.0388422222154841), (2187, 0.03876832458508752), (2212, 0.03809449456188599), (2868, 0.03805103922596506), (4396, 0.037832213715263005), (3511, 0.03780007507007145), (2540, 0.037780657394890636), (4362, 0.037777559186449386), (1241, 0.03762034409407976), (2622, 0.03752611508357059), (4005, 0.03750596389685616), (2716, 0.03750412561419438), (874, 0.03734311795099154), (3486, 0.037245189209273784), (3498, 0.037220565842063486), (774, 0.036948141611483104), (2908, 0.036942396581510065), (3127, 0.036904403020354755), (4165, 0.03686949600016793), (2316, 0.036833918211026134), (2375, 0.03675223122239132), (1676, 0.03675177582367422), (911, 0.036739623885276546), (4452, 0.03672387124829006), (694, 0.03657611819973392), (3280, 0.03634062761351719), (1085, 0.03604742115073092), (2981, 0.036013388469437004), (3045, 0.036012167097758827), (1991, 0.03596274771618715), (3470, 0.035864846666108084), (830, 0.03562495310246652), (2109, 0.035569461727546964), (3351, 0.035351096040999896), (3731, 0.03534072772435533), (3330, 0.03530726291643151), (1063, 0.03526879528737006), (4209, 0.03524677836076574), (710, 0.03524505360359023), (2371, 0.03514223534536975), (547, 0.03503396955515583), (3430, 0.03502382495614149), (1272, 0.03499415974869356), (2123, 0.03489459615832721), (3556, 0.03484989742645901), (4641, 0.03478999913242961), (138, 0.034756813671519886), (818, 0.03472383228299412), (1236, 0.034666155213770665), (1146, 0.03465899397243696), (3961, 0.03464951465723198), (1770, 0.034617494926475194), (166, 0.03446416332751979), (3983, 0.034456419233997504), (540, 0.03436672844304843), (3137, 0.03431967283359238), (3656, 0.03431197614494292), (3315, 0.034300609332758566), (4533, 0.0342782509695437), (3102, 0.03425706182249601), (4152, 0.03424678616494301), (4703, 0.034192719137753715), (1311, 0.03414885221417217), (1568, 0.034103028396957766), (2122, 0.03406159087616103), (2082, 0.03400907967462632), (334, 0.033934770126199595), (1702, 0.03381448529736033), (1752, 0.03379511406215372), (4663, 0.03374566948588072), (1379, 0.03373837557694733), (3466, 0.03366716420073901), (1389, 0.03357842204499141), (578, 0.03352267371489324), (864, 0.03336210319968805), (1195, 0.033333361967328), (1367, 0.03323296232776665), (2621, 0.03310249075704616), (4096, 0.03295095119001081), (4602, 0.032934929474185116), (2614, 0.03282464955217669), (1464, 0.03277658735988359), (250, 0.03256262326089689), (2706, 0.03255594153961655), (3850, 0.03253461874836032), (2147, 0.03249901586596133), (1976, 0.03245635278395792), (4195, 0.03243588030566207), (2037, 0.03240573752251649), (387, 0.03223848561365769), (1837, 0.032236982960781896), (812, 0.032189752997273), (935, 0.03213590714206124), (2517, 0.032040847370930894), (1068, 0.032036807409049614), (2023, 0.031977018112808106), (2782, 0.03192839067981735), (2413, 0.03192768908786238), (4590, 0.03181720876482488), (4004, 0.03176765644663361), (1398, 0.03164915606639453), (766, 0.03157066596312923), (3157, 0.03148968126736347), (4402, 0.03142527031911955), (3376, 0.031285031158928694), (787, 0.031283061457792895), (618, 0.03126554146232057), (1173, 0.0312542992394974), (2100, 0.031238569660142317), (3597, 0.031140687108892888), (3880, 0.031139128330342047), (2443, 0.031124909510694857), (952, 0.03107671905511413), (3767, 0.03105488128105263), (3720, 0.03102293895028947), (65, 0.03101671424467968), (1043, 0.030988352723167346), (2198, 0.03096245176907516), (3328, 0.030914701213104447), (428, 0.03091058223136038), (2723, 0.030875630219864246), (1973, 0.030819437915322847), (430, 0.03070995692395085), (4272, 0.030627899895393416), (1788, 0.0303890926019967), (241, 0.030323125517956965), (4175, 0.030294527406170193), (530, 0.030263556606418926), (179, 0.030248838695618136), (3326, 0.03024400940061508), (2014, 0.030230207809666804), (2710, 0.030179187905230276), (1868, 0.03012110323600246), (1137, 0.030120090759869624), (2487, 0.030099844277356756), (1750, 0.030091804168175515), (2114, 0.03003611828795353), (193, 0.030032826124419765), (3814, 0.02998720536985553), (3572, 0.029954130060812607), (112, 0.029855394997696013), (1648, 0.029780989827514953), (629, 0.02975742007207806), (4035, 0.029668504435477888), (3959, 0.029590293438101902), (2102, 0.02955193076944163), (976, 0.029483720663318704), (465, 0.029465407430169777), (1990, 0.02936362123172135), (2481, 0.029360367848361074), (3701, 0.029311118577107238), (4538, 0.029286916979500845), (3751, 0.029247167023412735), (1795, 0.029222224368742448), (2221, 0.029219230089611012), (371, 0.029211117323679554), (284, 0.029126532126418175), (3605, 0.029007723747430388), (3313, 0.029005811620304408), (1363, 0.028913798726009927), (3154, 0.02890296146157772), (1095, 0.028895802228661175), (670, 0.028816491087636006), (1162, 0.028760242681570604), (3174, 0.02875367621124699), (4141, 0.028662471621257575), (1046, 0.028601120714472072), (2013, 0.028592090333906302), (4548, 0.028571347843282066), (3344, 0.028454600523865333), (4684, 0.02841209402816297), (1482, 0.028410271638628797), (1059, 0.028408406069282334), (1634, 0.028390899910692883), (25, 0.02839036470408457), (2876, 0.02833290198871911), (1845, 0.028289949387375203), (1430, 0.02828445128385489), (2687, 0.028180126931983778), (1405, 0.028176686625562206), (3156, 0.02817106632425868), (3260, 0.02816238119581911), (240, 0.02814817760036084), (2791, 0.028139815360967164), (3871, 0.02810316769314467), (2802, 0.02808798492307684), (3688, 0.028025816589670845), (2920, 0.02793115210404294), (1500, 0.027927053814407896), (2912, 0.02790554875775726), (522, 0.027876767986875436), (3852, 0.02787341800175899), (2276, 0.02776720530780441), (3028, 0.02772409294838946), (3447, 0.02766266196759808), (836, 0.0276609621636159), (1060, 0.027619485331754786), (167, 0.027562538754362882), (1314, 0.02754291367485181), (421, 0.02751616495622169), (2467, 0.027449602933270024), (3574, 0.027399602684563023), (3167, 0.02735195217016704), (4450, 0.027244264010208918), (852, 0.027222978926104823), (1181, 0.027167878616666846), (4283, 0.027158643143534226), (2972, 0.02712348033349286), (1999, 0.0270658519840559), (124, 0.027031015368045863), (1572, 0.0270257775528749), (3684, 0.026957980028923793), (1749, 0.026956440782699237), (832, 0.026905855701060053), (1205, 0.02689315599665928), (1720, 0.026883856144911532), (1721, 0.026863336701902586), (3801, 0.02668440091652628), (1847, 0.02651137993531593), (459, 0.02642911766757472), (3868, 0.026276658690176688), (2761, 0.026238982851781122), (1351, 0.026232524067841594), (2020, 0.02622310904228714), (269, 0.026213256480451554), (1763, 0.026099767016819913), (967, 0.026080591528945006), (4294, 0.02599278047989444), (885, 0.025916980178771483), (3711, 0.02587601462693689), (2762, 0.025838958707026242), (3285, 0.025811809569512647), (1057, 0.02576300846534174), (2011, 0.025715700735054275), (2094, 0.025563130597934563), (3692, 0.025514195937403564), (381, 0.02550599511935959), (942, 0.025449500121747445), (1997, 0.025434254029864264), (657, 0.025220518231362763), (2040, 0.025208124538659726), (2408, 0.025167267999176186), (1186, 0.02515042289889766), (68, 0.02513848474831398), (1412, 0.025115443926131978), (3913, 0.02509993911150111), (3963, 0.025069320377763157), (4288, 0.02505050615056466), (116, 0.02504488955404048), (2713, 0.025039635445935467), (3746, 0.024977577565755818), (345, 0.02494835363859339), (1530, 0.024944823169547065), (3773, 0.024865039728191138), (2689, 0.024857935311030102), (1544, 0.024822074430687322), (1015, 0.02479863962440073), (824, 0.024715547263274528), (3872, 0.0245838873522394), (3153, 0.02455919207410577), (3095, 0.024467045889106517), (1141, 0.02446331538780644), (3835, 0.024447940023379182), (672, 0.02442300233628845), (2096, 0.024323617754958206), (706, 0.02428426306972398), (29, 0.024262588780957915), (3483, 0.02423481040134811), (398, 0.024230224043837324), (1865, 0.024219522877555903), (641, 0.02418020377341572), (175, 0.024162819138217485), (2210, 0.0240942901400128), (155, 0.024070227803571317), (2950, 0.024040134797655942), (2647, 0.02400141375871991), (3446, 0.023939545171121554), (2157, 0.023929748184777586), (4053, 0.02387825274619399), (4128, 0.023845509880950966), (1283, 0.023825798308133524), (1707, 0.02377063879383035), (2699, 0.023740686707670267), (2718, 0.023698714731337334), (2777, 0.023639316122859005), (515, 0.023592329879224293), (1757, 0.02353976042337129), (15, 0.023521196099947923), (2668, 0.023515033687692363), (3839, 0.023414563661021275), (4281, 0.023375513963745972), (1585, 0.02337232869561561), (1629, 0.02332296034559992), (4189, 0.023291070434375512), (88, 0.023166407004939653), (1942, 0.023090764526385636), (1985, 0.022980186470077962), (691, 0.02291230895642457), (1671, 0.022902482370674028), (3384, 0.022816721494548838), (1678, 0.022814455165753873), (1385, 0.022787432697452197), (1362, 0.022779413233495097), (2174, 0.02274294430901817), (4534, 0.022735301503913397), (1033, 0.022709288090901756), (613, 0.022678329974407482), (1935, 0.022626222461653783), (261, 0.022580776198962073), (1132, 0.02252641212309011), (3068, 0.02249271121992902), (3319, 0.022481818646428488), (2598, 0.022433941637947673), (4050, 0.022429496818805333), (3978, 0.0224093459512674), (3433, 0.0223992901037653), (1098, 0.022394131283987984), (870, 0.02236237997139695), (1017, 0.022309629009874765), (3778, 0.02228401408394816), (3083, 0.022277512546417768), (3254, 0.022259999611879314), (442, 0.022249676604478), (1505, 0.022235030255921467), (1996, 0.02223269457016016), (2055, 0.02221747738324103), (1515, 0.02218180549134221), (643, 0.022174184600985962), (257, 0.02216420565438005), (2808, 0.022134371238557434), (1861, 0.022061627450990176), (1510, 0.02202798647576428), (3923, 0.022014838584247538), (1471, 0.02201269796641165), (3504, 0.021988985427511636), (2440, 0.021959875453385413), (4658, 0.02192655913991469), (4176, 0.02191122067871381), (2822, 0.02191024708685692), (2646, 0.021806362883201022), (1492, 0.02179866561546704), (1657, 0.021757957668385265), (2301, 0.02173730538543719), (3492, 0.02165895172237486), (3916, 0.02162109471007276), (3665, 0.02159026526507185), (383, 0.021471167887002502), (4016, 0.021434447715680455), (4465, 0.02141328696205936), (329, 0.02138115809867528), (4466, 0.021358180435145705), (1270, 0.021319523651621982), (3927, 0.021318421571705985), (2767, 0.021304286296195154), (3471, 0.02130388247568464), (2524, 0.021258963008548116), (330, 0.02124219858874292), (463, 0.021234497997945703), (4436, 0.021175222489483884), (2760, 0.021116546133908475), (142, 0.02105696867762678), (669, 0.020997375267836862), (3222, 0.020997043038637316), (4395, 0.020991008681387636), (1817, 0.020979139334996552), (3508, 0.02096257735498262), (4156, 0.020936351289649976), (4088, 0.020917251976382292), (3403, 0.020912347887184057), (199, 0.020887077905198018), (4382, 0.020881580254331303), (1003, 0.02081034029701737), (3857, 0.02078645294781004), (566, 0.020768820562984812), (2582, 0.020734259888397204), (763, 0.020727833448135436), (3352, 0.02069793928945812), (4679, 0.02065969158007424), (4380, 0.02065646509119655), (145, 0.020630601878486074), (2995, 0.02055660390377375), (2501, 0.020507912418980676), (3097, 0.020499131474120077), (2607, 0.02049037898718274), (4203, 0.02047030492501862), (3469, 0.020439761046349342), (123, 0.020295744825989403), (689, 0.02014724569155778), (1838, 0.02013818350281597), (1927, 0.02011698582489732), (2795, 0.020096018529154075), (1052, 0.020061852231534304), (779, 0.020048195317796762), (1937, 0.020016932804180064), (1202, 0.019995041295917285), (2469, 0.019964161845468065), (968, 0.019949313698854443), (2841, 0.019935144695288072), (147, 0.019713195128968554), (83, 0.0196855376176146), (757, 0.019616764875198662), (2362, 0.01961401439691526), (2070, 0.019587167645802615), (858, 0.019570613835994167), (3416, 0.01951071048916501), (4492, 0.019507928233512585), (1074, 0.01948782404955794), (808, 0.019468602636889196), (553, 0.019458851327040252), (2736, 0.019445493928587576), (2867, 0.0194164575355269), (204, 0.019411446163845058), (3875, 0.01940534060840068), (222, 0.019403992797244987), (1226, 0.019349358131745757), (2650, 0.019344160576026937), (1443, 0.01933241579357355), (342, 0.019323975177937408), (3934, 0.01931584168721217), (3111, 0.019246211037633156), (33, 0.0191719134426341), (3853, 0.019152396751255386), (3000, 0.01906990850097981), (46, 0.019041671126082835), (2237, 0.018993862324587343), (1872, 0.018974872187811975), (106, 0.018909972716209745), (2513, 0.018838478094081693), (1175, 0.01880539059567194), (4081, 0.018777245220742197), (1129, 0.018774471797075122), (364, 0.018750017082365997), (3085, 0.01872890969344923), (2093, 0.018696808684766), (2406, 0.018695564676745546), (4640, 0.01868628562764236), (160, 0.018668860972834225), (1386, 0.0186399438214373), (3226, 0.018629188598516033), (173, 0.018593866542906488), (3144, 0.018550643699252363), (768, 0.018538324361925995), (1112, 0.01853586690223049), (1275, 0.018444886974446864), (144, 0.01841869930928929), (4149, 0.01839492884358154), (2035, 0.018393096120197024), (794, 0.018367253191746893), (1403, 0.018333445670616084), (1365, 0.018325828242314962), (1377, 0.01830049015289523), (61, 0.018280050830389794), (4349, 0.01824229472261821), (1184, 0.018220957841955703), (2742, 0.018153159987527274), (3043, 0.018139953725395994), (2553, 0.018113083092344398), (796, 0.018077691582434854), (433, 0.0180526397652388), (1716, 0.018049261517554115), (2119, 0.018040758072972982), (1384, 0.018030667823781953), (916, 0.01802892453083093), (1245, 0.018009673680942726), (795, 0.018007612108606935), (2110, 0.017998566752288326), (1493, 0.01794249057185928), (701, 0.017928669544551728), (458, 0.01791185537371874), (209, 0.017910884851167798), (1417, 0.017850224764441817), (4321, 0.01784079142935988), (4504, 0.017827758908186768), (888, 0.017808822270551125), (4531, 0.01779008116872536), (3640, 0.017784768901210307), (280, 0.017767583033650256), (3036, 0.017730129342111045), (853, 0.017706679550115668), (203, 0.017654893213925663), (450, 0.017611466157931854), (4399, 0.017590668271764087), (3129, 0.01758206641141209), (48, 0.017572438499074375), (3279, 0.017549156335381302), (2996, 0.0175348015309024), (551, 0.01746717932813101), (4246, 0.01744673051682219), (212, 0.01744379776017248), (1759, 0.01742229654545581), (481, 0.017406814811766865), (2917, 0.01740284117419121), (3086, 0.0173943008576986), (1774, 0.01739081153190115), (2167, 0.017383977794305387), (896, 0.017380498047414247), (1274, 0.017371300728723126), (1325, 0.01734798282992516), (2149, 0.017331486425369646), (638, 0.017326004206409396), (279, 0.017319924414334), (3642, 0.01731514889072721), (3694, 0.01729651822157973), (4012, 0.017280708492297917), (4669, 0.017259466241062418), (2823, 0.017255843874033915), (1254, 0.017246819747471553), (1579, 0.017215881700153587), (2522, 0.017183339820437724), (1018, 0.01717163016766722), (85, 0.017166833740848066), (2254, 0.017146696532330037), (21, 0.017132709169881816), (2347, 0.01708199192651861), (1119, 0.01706825565815092), (3213, 0.017064117533575177), (511, 0.01704701600132333), (2196, 0.01701042938634657), (622, 0.017010036071539825), (343, 0.016998208929760658), (3306, 0.01698380904926152), (1687, 0.016975920065575984), (3777, 0.01696918961219559), (218, 0.016967515179986584), (3541, 0.016938883157784586), (1216, 0.016899543566294653), (4474, 0.016893713091386063), (3797, 0.016851881644751508), (3528, 0.016840106577459487), (502, 0.016817797849197826), (879, 0.016813174621492687), (3299, 0.01681048714245683), (3862, 0.016798979259125317), (692, 0.016790789528196008), (51, 0.016776155738304585), (677, 0.01676864175928372), (776, 0.016760362585343743), (4178, 0.016754316241999852), (409, 0.0167491627935153), (429, 0.01674261903278309), (3437, 0.016742386014118815), (4379, 0.016738612503864197), (543, 0.016735093895318083), (2207, 0.01672858336050468), (2654, 0.01671106952603957), (1983, 0.016700371088071854), (867, 0.016692177267614242), (374, 0.01668730648852644), (287, 0.016667296018882893), (1224, 0.016665432866359686), (447, 0.01665109052575322), (584, 0.016630936941237955), (2258, 0.016627482835578206), (3407, 0.01661483884292659), (2053, 0.016581799103164263), (2334, 0.016564092584834073), (1897, 0.016547020407715926), (296, 0.01651574051053309), (2919, 0.016507389606453413), (3098, 0.016482764803132044), (2784, 0.016465448536432968), (1740, 0.016446989389685855), (1290, 0.016430449741666055), (2027, 0.016425192779314354), (358, 0.016420399195524668), (3713, 0.01641744252767131), (1609, 0.016413782013585124), (620, 0.016373428245213664), (3976, 0.016372092005025096), (1337, 0.016367020910928974), (652, 0.01635495212134972), (4068, 0.016348477285072462), (1115, 0.01631468900427486), (3699, 0.016305305717850358), (2161, 0.016280278477420206), (762, 0.016252321750680886), (3895, 0.01624242188889721), (43, 0.016233236642801012), (3670, 0.016201936863349586), (1779, 0.016178146943285173), (208, 0.016171277949164488), (470, 0.01616892152003686), (3210, 0.01616509210622627), (1335, 0.01616450743834245), (2284, 0.016149731491953728), (2695, 0.016079702620233137), (3807, 0.01607751313315968), (1232, 0.01604507649666689), (2376, 0.016018694436683634), (4000, 0.01600605166631804), (1445, 0.01598762525655856), (370, 0.015954563468143782), (1483, 0.015947090481268064), (988, 0.015917568698717362), (586, 0.015916342043190642), (4627, 0.015907287339427673), (1192, 0.015903332265659872), (1252, 0.015902541118895268), (534, 0.01588078253035058), (2931, 0.015857062690172136), (1682, 0.015847523637099827), (989, 0.015791873090469727), (895, 0.01576900259833624), (1621, 0.01575295481685969), (2216, 0.01575009990577406), (4387, 0.01573564377501898), (1509, 0.015734107038206185), (799, 0.01571652231539271), (1035, 0.01565869844749372), (899, 0.015648340927416547), (1045, 0.015648122657118523), (4673, 0.015639656544542982), (1114, 0.01563333598507393), (1523, 0.015621223522081795), (676, 0.015613494296549974), (3370, 0.015610479705162772), (2988, 0.015598265353228873), (3558, 0.015577991873804436), (2290, 0.01556051411109694), (2045, 0.015542020563691989), (1058, 0.015538337051921449), (87, 0.015537461309249871), (2910, 0.01553215905309404), (1967, 0.015531370036478875), (4583, 0.015527774660116084), (957, 0.015520696759097265), (1361, 0.01548303846603868), (929, 0.015480217438052585), (2024, 0.015467513738314252), (1481, 0.015465640686853785), (4255, 0.015450535349702251), (1413, 0.015437216264066873), (842, 0.015425729785816755), (3660, 0.015423988633206593), (1512, 0.015414420753645807), (18, 0.015400394657807154), (934, 0.015390968040943677), (251, 0.0153767140624828), (4124, 0.015351550162876), (1741, 0.015335518729036619), (52, 0.01532931960674764), (1876, 0.015317312935787518), (1278, 0.015303965762983509), (1478, 0.015292768051157004), (4374, 0.015285466424358365), (2815, 0.015273044492461044), (2224, 0.01526296916814429), (1906, 0.01524867454206181), (1116, 0.015218600907082842), (3819, 0.015201432098068773), (181, 0.015189304668432088), (4482, 0.015184415907237186), (1919, 0.015165487417601977), (878, 0.015163831680102212), (236, 0.015143584377312867), (276, 0.01509728569271106), (2639, 0.015044167536536876), (1343, 0.015037203067828159), (1183, 0.01502071457328024), (2298, 0.015010904821586752), (4486, 0.014997079463393955), (3421, 0.014990165468067642), (866, 0.01498640468116541), (1665, 0.014976450268485576), (1107, 0.014963238574060428), (3580, 0.014941332160025635), (510, 0.014913374374574764), (1880, 0.014899261385704705), (2008, 0.014891921098716211), (2632, 0.014887012769984723), (317, 0.014854970524428985), (3375, 0.014829684664526114), (4314, 0.014825939632650985), (4576, 0.014824935480499535), (1667, 0.014824492008465747), (829, 0.014803575225763489), (4610, 0.014797022850839742), (1465, 0.014776367202784909), (604, 0.014719507016650613), (1815, 0.014717987638234412), (3741, 0.014715983105463373), (1864, 0.014683194425002797), (1360, 0.014676497668080286), (1461, 0.014668769434873179), (1796, 0.014634866499985306), (1237, 0.014628088973887197), (1680, 0.01461746616557762), (3318, 0.014608862798112408), (1595, 0.014591313048807819), (905, 0.014590610024282186), (844, 0.014579827420639006), (496, 0.01457442676857829), (2121, 0.014523683741466478), (1945, 0.014519321198222048), (356, 0.014517199673522684), (2644, 0.01450988810166799), (1255, 0.014505436981553125), (1000, 0.014463670232553186), (1739, 0.014419510561607948), (2486, 0.014391705739118781), (775, 0.014384900510575617), (760, 0.014383995660774872), (4121, 0.014379288956697477), (742, 0.014351325010212804), (1401, 0.014339002610215942), (231, 0.014327139096663341), (1317, 0.01432295079943673), (1895, 0.014320059675069632), (900, 0.01428292869447716), (1986, 0.014274504977435359), (207, 0.014259310156958725), (3076, 0.014255724415923144), (963, 0.014243540329830884), (1152, 0.014217056307768969), (2066, 0.014196406297523107), (2617, 0.014170071661494192), (4524, 0.014164759643993318), (3110, 0.014162506257433656), (2969, 0.014157030895863301), (3637, 0.014133168358552778), (1519, 0.014127139296871939), (332, 0.014100202145251962), (1128, 0.014053247950158729), (3295, 0.014023284429744244), (1331, 0.014013198750290858), (653, 0.013993140128167571), (875, 0.013956851344854857), (2412, 0.013942172676865356), (733, 0.013936602703845287), (1681, 0.01393403837327888), (814, 0.013884076737503324), (2803, 0.013883593555532184), (70, 0.013875266981185406), (1220, 0.013841072064988068), (3356, 0.013831145515600862), (190, 0.013816567109124808), (678, 0.013813933337876743), (3659, 0.013801953285352137), (2447, 0.013783331488057077), (2978, 0.01375974100193431), (936, 0.013753700168320365), (3108, 0.013712505333397488), (4095, 0.01370122435355131), (2252, 0.013680804193434652), (732, 0.013655497651675098), (1005, 0.013646033906770886), (2771, 0.013636747194558273), (906, 0.013629329797218216), (2366, 0.013626070303141287), (800, 0.013609125146486083), (125, 0.01360492351366906), (2963, 0.013601011323190668), (833, 0.013587559456932404), (3861, 0.013561073256580462), (537, 0.01354471694193635), (2000, 0.013542715970373135), (407, 0.013541463151029439), (609, 0.013534743891723601), (1239, 0.01350230820461306), (4510, 0.013499914345040949), (418, 0.013478473392950819), (527, 0.013478280822943256), (7, 0.013458604229000607), (1009, 0.013452299706564941), (1436, 0.013442262957296603), (654, 0.013439317810456496), (1934, 0.01343672175875891), (2555, 0.013423960986429527), (545, 0.01342164691844565), (1185, 0.013376338745058605), (2602, 0.01335192294536219), (4265, 0.013350700830361844), (1047, 0.01332883013982577), (2874, 0.013328707422075968), (2460, 0.013293567028168404), (3958, 0.013264116260919048), (1949, 0.013261790645956057), (2780, 0.013261287878193384), (3630, 0.013256763270373843), (1432, 0.01324518855297721), (1104, 0.013236575503638038), (201, 0.013215112763798328), (2805, 0.01321234288536874), (928, 0.013211124980469124), (2177, 0.013204880598953994), (3507, 0.013178967757872296), (1567, 0.013157123066690962), (149, 0.013156881701437292), (3317, 0.013131346326596367), (3387, 0.01311369773316758), (3240, 0.013109424990844578), (4344, 0.013108554537921854), (3756, 0.013103143527338545), (1215, 0.013096751011586607), (3849, 0.013079215687804305), (1542, 0.013071741985744845), (1293, 0.013062629594358785), (2697, 0.013057396228334146), (918, 0.013051599610565769), (1802, 0.013034954128806505), (684, 0.013020454730816453), (1303, 0.0130167949737146), (1654, 0.013015521668125436), (635, 0.013008830919537785), (2474, 0.01299900690398659), (4337, 0.012986882779311051), (2788, 0.012979764147440015), (1787, 0.012972535675265127), (1376, 0.012964590283956735), (1958, 0.012963432348598886), (2925, 0.012950503377269277), (82, 0.012945155656242293), (1989, 0.012941193712420064), (13, 0.012937779261776866), (1799, 0.012935236310888696), (1988, 0.012907778657569542), (452, 0.01288166406073996), (1419, 0.012826135600924313), (75, 0.012823302751804076), (664, 0.012808935420658144), (4477, 0.012789900098547415), (1342, 0.012783509553196862), (341, 0.012763881339438172), (931, 0.012750548901495174), (560, 0.012703498242137456), (1455, 0.012701836497396219), (4148, 0.012696432009474738), (648, 0.012685849539105716), (1194, 0.012663555523964132), (4623, 0.012657862442382522), (1812, 0.012656563755654278), (3957, 0.012649636332610173), (2625, 0.012622496388218754), (2336, 0.012618067170489978), (2280, 0.012607517815478721), (274, 0.012552144861550547), (3747, 0.012520440284779064), (1407, 0.012503814299656343), (4187, 0.01249355628977689), (1099, 0.012482524672164378), (244, 0.012471546021817704), (2913, 0.01246354481221681), (86, 0.01246226157499776), (1157, 0.012433914379664658), (523, 0.012429518803231988), (1714, 0.012418445082814112), (1406, 0.01241346078066886), (1396, 0.012408524043788966), (500, 0.012395429695081821), (2178, 0.012394198767623614), (825, 0.012356707948864676), (313, 0.012355226789471197), (1310, 0.012351265882260215), (3750, 0.012349098730482252), (2057, 0.01234818441958892), (130, 0.012341530113626584), (72, 0.012334747295025966), (2918, 0.012324379834096049), (1858, 0.012319077805666295), (2005, 0.012316148183668423), (4543, 0.012312551564256305), (4216, 0.012308435888145728), (790, 0.012283385761270017), (1230, 0.012275478346163491), (683, 0.012259835791772774), (915, 0.012251232382294735), (3582, 0.012243685265976594), (809, 0.012233188164622696), (1266, 0.012228424736293788), (2206, 0.012220090472990766), (4481, 0.012198789556170467), (719, 0.01219842521063795), (1870, 0.01216615839896959), (1761, 0.012159517584199135), (4551, 0.01214202401353907), (3794, 0.012093596375128851), (2739, 0.012088863540971813), (1754, 0.012086765168034478), (1630, 0.012059085204989436), (1923, 0.012055641745060637), (4596, 0.012038587512982637), (949, 0.01203120688496108), (2421, 0.012028624910310752), (2145, 0.012015867774030412), (3924, 0.012012583689223318), (1054, 0.01199266986982251), (1090, 0.011971017127510687), (827, 0.01193735229106027), (2769, 0.01191356529213045), (3524, 0.011889387411704016), (1992, 0.011885681994076785), (1420, 0.011881907620416219), (1873, 0.011878173052553617), (417, 0.011866890726181228), (2097, 0.01186525409137023), (1249, 0.011865196564876116), (3118, 0.011855167089646262), (4325, 0.011843844971149688), (1012, 0.011827676687912717), (532, 0.011826543477210424), (2429, 0.011802000834996799), (1874, 0.01177384976198912), (4235, 0.011755876741294642), (2162, 0.01175459769516372), (3993, 0.01175277387970258), (1773, 0.01172731038367809), (2688, 0.011722514993050288), (695, 0.011715961831822521), (3951, 0.011713497577943412), (304, 0.011712364879963213), (1852, 0.011711069010596042), (3775, 0.01170987716232082), (1551, 0.011707542309843276), (801, 0.011691521367694488), (266, 0.011684878446525571), (792, 0.011683663491249895), (485, 0.01167600299849255), (2480, 0.01167245647441214), (271, 0.011672330777866627), (1442, 0.011664471111827668), (1789, 0.01165953811862486), (322, 0.011655031832387051), (1696, 0.011649312048812423), (483, 0.011624069045163062), (206, 0.011610663993680128), (1339, 0.011605971324175787), (3297, 0.011592757818477288), (3903, 0.011584305263393902), (4164, 0.011571546742808032), (1234, 0.011563950597560727), (291, 0.011557147786181906), (148, 0.011543306421215364), (847, 0.011539145087030826), (3382, 0.011538839679048955), (2062, 0.011538743391128531), (3860, 0.011524340836177186), (1957, 0.011513879209895363), (1259, 0.011510690026026286), (4033, 0.011505082718688787), (273, 0.011502214879338762), (1736, 0.011501543458872665), (1061, 0.011473094155001171), (1727, 0.01147235196170188), (501, 0.011466211155211185), (270, 0.011453564848460399), (321, 0.011452679697907175), (2016, 0.011427767886380145), (4366, 0.011425393331233703), (170, 0.011411846240908574), (2680, 0.011400794752188161), (3822, 0.01138442037803911), (2546, 0.011375504600078681), (2740, 0.01137421272043902), (737, 0.011369857495733247), (2436, 0.011359607519292249), (806, 0.011341166691723161), (47, 0.011330186286435567), (57, 0.011322732589940604), (216, 0.011310166456405995), (538, 0.011306846212609169), (333, 0.011293839292437258), (1694, 0.011291464416486516), (3099, 0.011291142929420168), (542, 0.0112778529378363), (2126, 0.011275797491587261), (555, 0.011261302758735884), (3070, 0.011238396964774685), (4605, 0.011232523220843657), (1334, 0.011216274009739735), (2871, 0.011208886065427637), (2489, 0.011204757062646597), (994, 0.011160623756435614), (1440, 0.011152466921656605), (715, 0.011144048775056625), (1723, 0.011143089067222264), (544, 0.011127266485748386), (3232, 0.011124711522356848), (2992, 0.01112237241266905), (4553, 0.011122249222411666), (3426, 0.011120993407061724), (468, 0.01111939369464143), (4435, 0.011108244067734436), (1662, 0.011104893690030697), (1348, 0.011097148520856547), (3155, 0.01108426373044091), (99, 0.011074306545669904), (1922, 0.011061642766081684), (2250, 0.010948899155927979), (5, 0.010947051178122169), (3612, 0.01094299363039707), (4060, 0.010935346112146936), (894, 0.010913641282300022), (4371, 0.010908712600386387), (1438, 0.010904877221168924), (1359, 0.010890542457831304), (2512, 0.01088741808452105), (3888, 0.010872517292749113), (354, 0.010866182868191803), (1798, 0.010843909110829551), (105, 0.010841940916790613), (621, 0.010829951440420666), (1338, 0.010818810212680786), (1619, 0.010799345836266317), (3674, 0.010796287555113433), (2565, 0.0107694834267863), (2964, 0.010756019431488658), (1781, 0.010746739513729085), (3264, 0.010745275210256273), (1300, 0.010742058219668824), (3218, 0.010729778873945248), (1075, 0.010717759024279199), (243, 0.010716448043334222), (4442, 0.010712450827952223), (1951, 0.010701151305013794), (2029, 0.010679667085959594), (2929, 0.01066366246506201), (327, 0.010650195279233976), (396, 0.010645359074229793), (2418, 0.010638485884180742), (1092, 0.010638126848090703), (4192, 0.010630793836801825), (3919, 0.010626608044540117), (4106, 0.010623609053091163), (2640, 0.010618283979193986), (4025, 0.010608267116892982), (2601, 0.010604010776068127), (3689, 0.01056545229795028), (1006, 0.010563849513365746), (1475, 0.01054703734385569), (1048, 0.010532403173162255), (3599, 0.010526791480640667), (979, 0.010516826338601706), (1382, 0.01051266268247613), (1418, 0.010507067134596799), (1582, 0.01050131437948382), (3536, 0.010494091096915629), (1494, 0.010488451133216), (631, 0.010474687683174206), (472, 0.010473463430233209), (1860, 0.010472964733853986), (2074, 0.0104692129725067), (1124, 0.01046405204170929), (4612, 0.010442541501270011), (0, 0.010441147279099504), (2752, 0.010441105662108563), (2744, 0.010432797586622782), (1854, 0.010428284603612333), (3667, 0.010427509911607551), (434, 0.010402155702198513), (1688, 0.010394711131635783), (2820, 0.010376191248133868), (435, 0.010372512751822096), (3386, 0.010356991812687889), (828, 0.010353804069916303), (1620, 0.010352291451816546), (2798, 0.010347025780270589), (2193, 0.010345245463851653), (850, 0.010341656617702682), (1936, 0.01033532000720317), (939, 0.010334988623658713), (2977, 0.010329915095879588), (1087, 0.010327633897755262), (3643, 0.010295049976474813), (2277, 0.010286676538316013), (182, 0.01027424909458216), (353, 0.010268662977370002), (3941, 0.010257519406364442), (4158, 0.010254467125773426), (897, 0.010237374586621887), (2144, 0.010214053505236935), (111, 0.010212705836912486), (2459, 0.010184382051833567), (79, 0.010166181530774043), (558, 0.010163771264412211), (104, 0.010162001093337996), (3901, 0.010148696287917867), (288, 0.010143437746966844), (3120, 0.01013624349354944), (668, 0.010130854288789886), (1612, 0.01012993529397948), (970, 0.010117846859519372), (96, 0.010115570309482604), (697, 0.010110510497737393), (3346, 0.010106187889228799), (346, 0.01007860142633622), (4502, 0.010068434440323619), (3596, 0.01004709161345021), (2197, 0.010044467332580844), (2463, 0.010038258881467015), (3267, 0.010031222470990777), (3215, 0.010031122544974787), (464, 0.01002725973367886), (1279, 0.010010088469065507), (3237, 0.010000039984424515), (78, 0.0099968404347772), (1807, 0.009983616263668118), (2980, 0.009983518510999833), (4511, 0.00997022401522532), (4685, 0.00996759250427642), (1387, 0.009966448870453231), (3418, 0.009949155063757223), (446, 0.009928264027029038), (2103, 0.009920688409998877), (1096, 0.009901770598585784), (119, 0.009890855969312292), (3046, 0.009882417362485262), (1968, 0.009879939324462312), (2789, 0.00987359761408671), (285, 0.009872656436205945), (2065, 0.009869699472839047), (782, 0.009866851073219395), (1900, 0.009851237115241539), (19, 0.009830896740030076), (651, 0.009830437738094616), (3956, 0.00982980492829946), (2698, 0.009825788844998252), (817, 0.009817244729076103), (4336, 0.009804902305418113), (3826, 0.009772015264988672), (2309, 0.009764575197681266), (2264, 0.009763672346346423), (443, 0.009758581239106742), (1446, 0.00974883505069391), (3784, 0.009741606004409794), (164, 0.009736179168559539), (2143, 0.009735085238161889), (3246, 0.009704616349803312), (2427, 0.009698760035485608), (1776, 0.009693474775956251), (3733, 0.009685210397424746), (2473, 0.009677290745083745), (966, 0.009648237406623192), (851, 0.00963647213790199), (2572, 0.00962362095815374), (4257, 0.009615766351169222), (948, 0.009612208884711447), (1710, 0.009601077018926539), (1924, 0.00959159259308417), (3067, 0.009590774341391762), (3151, 0.009589723731589039), (3954, 0.009580598221644148), (4232, 0.009573960383867553), (962, 0.009569590811167285), (307, 0.009566741113403459), (2812, 0.009552597170147848), (2303, 0.009546367397929318), (1206, 0.009541632669073055), (3399, 0.009535472950057196), (107, 0.009533462078035312), (1276, 0.00952613752953832), (3960, 0.0095226629086725), (1793, 0.009510716128735452), (921, 0.009480722102878971), (734, 0.009457372545435855), (1650, 0.009454256370832387), (4494, 0.00945375426640962), (3196, 0.009426001305102743), (3829, 0.00942149731925375), (436, 0.009420082071178107), (1875, 0.009411497693793416), (1514, 0.009406097089722381), (4664, 0.009397186895132744), (729, 0.009395861540978854), (1498, 0.009391804802881256), (1920, 0.009391667113130851), (1948, 0.009379137581975026), (1701, 0.009377122994278047), (838, 0.009370713999018643), (1489, 0.009367321634746864), (688, 0.009362244741915014), (1308, 0.009349386774740764), (3389, 0.009348323507896404), (1971, 0.00932216244034122), (4649, 0.009320338249437614), (1477, 0.009313202281451344), (3329, 0.009309910732902072), (1050, 0.009304914889561904), (183, 0.009293243670984651), (2428, 0.00928777024791922), (2076, 0.009274541673655661), (4601, 0.009270420758316437), (1454, 0.009255063499719014), (1730, 0.009243336790322243), (4046, 0.009235324423443157), (1078, 0.009199916471569595), (449, 0.009195280470380433), (350, 0.009185158867023572), (1538, 0.00918324376123855), (2236, 0.009182658780839695), (1866, 0.00916660452513392), (597, 0.009164680343903529), (1690, 0.009158840084896175), (4013, 0.009158688356853057), (2285, 0.009155363680144685), (2265, 0.009139305058784896), (1762, 0.009100086526044288), (2477, 0.009098613664604661), (728, 0.00909649940834218), (1539, 0.009086632375876211), (3771, 0.009086564736783084), (991, 0.009081957728310584), (3516, 0.009079072942894468), (368, 0.009064580310258504), (2949, 0.009058512143485128), (1140, 0.009046104285125613), (4431, 0.009045440861940637), (1537, 0.009044182891472345), (2587, 0.009043656148093417), (4205, 0.009034171462358567), (2104, 0.009022589004681428), (705, 0.009021411265061938), (4038, 0.008982707955413645), (2975, 0.008972505968115073), (816, 0.008963163901108545), (1071, 0.008961150450478768), (2714, 0.008957775260852698), (3, 0.008953270743746036), (1136, 0.008952138838782686), (493, 0.008941840312852424), (1553, 0.008933143240090742), (1484, 0.008916113452030637), (930, 0.008915224967326791), (3780, 0.008912060822269488), (924, 0.008891968931112632), (2158, 0.008890157670561982), (1918, 0.008883104381854785), (716, 0.008877023438681013), (1902, 0.00886855600418503), (1400, 0.0088659134435427), (3096, 0.008863510908680755), (2942, 0.008862143959991771), (4757, 0.008861141165108059), (1225, 0.0088559602980195), (4748, 0.008851871869549768), (1643, 0.008850914564398335), (2088, 0.008848269189826981), (4624, 0.008847357369329229), (845, 0.008843771911248612), (3618, 0.008840222568910636), (1188, 0.008837183296057925), (34, 0.00881718225532832), (255, 0.008816598418502703), (3514, 0.00881336272647368), (1540, 0.008803618140631055), (580, 0.008801159804703003), (32, 0.008791286354707528), (660, 0.008787418914328885), (242, 0.008771121936834327), (4089, 0.00875776827918363), (3666, 0.008753701255627673), (1764, 0.008748393429198843), (1229, 0.008744328646053269), (980, 0.008739877272557785), (60, 0.008733301385413072), (4629, 0.008729812323378956), (445, 0.008723619286770878), (606, 0.008718482653249284), (4470, 0.00870510038730465), (743, 0.008687050718998161), (4335, 0.008681381880583677), (3233, 0.008670370258587799), (3623, 0.008665860781834038), (509, 0.008657816539074638), (1833, 0.008655699002048543), (2933, 0.008649817882087416), (38, 0.008638597026283461), (403, 0.008638326059226691), (1507, 0.008636607709357445), (4098, 0.008636509303698546), (1174, 0.008627357377908765), (1931, 0.008625871475215487), (3571, 0.008612768450508512), (3634, 0.00860512184301799), (750, 0.00860404073957048), (1312, 0.008597584960543104), (3303, 0.008580032414966804), (238, 0.008577684516256644), (4105, 0.008574177062669925), (2603, 0.008559682359510067), (1138, 0.008554122112850775), (1743, 0.008549491737320308), (3821, 0.008548365035315895), (3653, 0.00853483258812781), (2211, 0.00853149923666941), (2091, 0.008527903076334876), (2061, 0.008521542968291041), (636, 0.008519936300519027), (1260, 0.00851011801642602), (4677, 0.00850815771044932), (2304, 0.008498179011275312), (4715, 0.008497143708286949), (1472, 0.00849427604373016), (2606, 0.00849300260455902), (1223, 0.008489311940174151), (3436, 0.008482951850512115), (1191, 0.008471615833112251), (1571, 0.00847035076132951), (616, 0.008469728655651973), (696, 0.008462275119040265), (4517, 0.008458245854703672), (385, 0.00841995998815767), (441, 0.008417811516888328), (3125, 0.008405437334988147), (224, 0.008391731800709444), (2844, 0.00838832915851179), (3453, 0.008380260596473931), (2563, 0.00837899109822083), (1806, 0.008376321940275044), (3435, 0.008375743131141072), (1179, 0.008370979453914771), (843, 0.008360851096267165), (1488, 0.008360560248673442), (162, 0.008357869754944196), (1811, 0.00835767622873207), (1950, 0.008349742006968263), (3192, 0.008338597685793845), (769, 0.008337798326086547), (727, 0.008328350912566573), (4284, 0.008319948020089772), (3195, 0.008316475365404972), (2069, 0.00831220204693162), (3499, 0.008306957549841355), (3624, 0.008304540693449929), (156, 0.008293792350641281), (113, 0.008288837239934725), (256, 0.00826555150496484), (4309, 0.008263104675317028), (880, 0.008256247643027079), (4118, 0.008242344791642495), (3586, 0.008236893691796044), (1037, 0.008236716625334761), (3645, 0.008234786935648698), (4299, 0.008227332616926177), (3410, 0.008224638523380023), (1653, 0.008213848138295022), (1282, 0.00821174204526675), (3456, 0.008174470194302726), (1705, 0.008165309138480311), (180, 0.008161044835392197), (4094, 0.00815866453901885), (3696, 0.008152867726599917), (4289, 0.008151348489638287), (1044, 0.008143342663654823), (4670, 0.008134053791431985), (3487, 0.00810832668159461), (63, 0.008102208172435114), (923, 0.0080954402130195), (309, 0.008093770335149485), (3905, 0.008093748749069719), (10, 0.008091046190728158), (3122, 0.008088880629849637), (4523, 0.008079056798570097), (4045, 0.008073051852204449), (1123, 0.008060603591098727), (1421, 0.008057334486435011), (4557, 0.008054669528464037), (1144, 0.008052667357794937), (3259, 0.008047082271769819), (474, 0.008045371593578059), (4233, 0.008039005579324703), (3464, 0.008033541206111182), (143, 0.0080194659710232), (3152, 0.008005692477098755), (1001, 0.007996423151279452), (1375, 0.007991473174039986), (159, 0.007982912843428863), (1177, 0.007980648933111387), (1747, 0.007980357042335393), (3734, 0.007975353792417275), (1041, 0.007968510135050243), (582, 0.007963743572101811), (31, 0.00793449887672365), (2496, 0.007927134527233348), (1536, 0.00792688297299414), (644, 0.007919640845409451), (2899, 0.007913004117944726), (3452, 0.007904188971371826), (2519, 0.007901998012555152), (2348, 0.00789433666033127), (1819, 0.007893111423262331), (4591, 0.007881788513697321), (868, 0.00786788875578202), (1555, 0.00784486649712089), (42, 0.007841870429272101), (1014, 0.007840672881388287), (744, 0.007836263135267283), (3342, 0.007832020944161085), (869, 0.007825857675138008), (1433, 0.007818100393801805), (4652, 0.007817813972249767), (4093, 0.007813715065146094), (1735, 0.007799147742041119), (3460, 0.007787081399104149), (1760, 0.007780711769797156), (4282, 0.007773084893548282), (4182, 0.007767625678611023), (3876, 0.007763215381710105), (1448, 0.007759316034091944), (2510, 0.007759224089652158), (1462, 0.007750476091080346), (2339, 0.0077491262963342465), (3039, 0.007738531620186102), (3474, 0.007733992456247358), (910, 0.007732981398376372), (4581, 0.0077326793666140144), (863, 0.007704007670748005), (908, 0.007697920041844573), (2994, 0.007690818976261828), (1388, 0.007687138901834437), (4184, 0.00767982384400159), (4154, 0.0076778725825236045), (494, 0.007666679501625997), (3705, 0.007656313553095887), (608, 0.007635318120257027), (2031, 0.0076329840001120725), (581, 0.007623390474940039), (981, 0.007615785810885949), (563, 0.007609055133921898), (1069, 0.007607898744250456), (3570, 0.007592966130201116), (804, 0.0075913158032540964), (1964, 0.007588192246313504), (3841, 0.007587207423533767), (81, 0.0075769750401923925), (1414, 0.007525233996438604), (2580, 0.007523887275622336), (50, 0.007521229733210652), (2724, 0.0075066729213397534), (200, 0.007503716476197306), (1504, 0.007497344911243567), (503, 0.007492154973193402), (1608, 0.007488782119968531), (1486, 0.007486603200183081), (2825, 0.007483150896356833), (4077, 0.007477253157837711), (4661, 0.0074611689637558674), (2101, 0.0074598902534873165), (283, 0.0074543667130862815), (1306, 0.007450804829779553), (363, 0.007427098188668904), (1330, 0.007423246754992902), (4226, 0.0074208061101876475), (4432, 0.007412762787356407), (4196, 0.00741069237549252), (3531, 0.007406848280096523), (4061, 0.0074067472876868145), (539, 0.007405220851075732), (2244, 0.007402943694559992), (1583, 0.007400565671485706), (217, 0.00739346586803635), (232, 0.007381867044546622), (3149, 0.007360099857421982), (1125, 0.007355364969586168), (367, 0.007328506959496075), (1076, 0.007327129704922839), (340, 0.007326372177863343), (3910, 0.007324911026778418), (2962, 0.007300964370744259), (1231, 0.007294702759395811), (861, 0.007294123625528264), (3457, 0.007273669612071086), (2897, 0.007269090559603284), (642, 0.0072682958462862626), (413, 0.007266825114964164), (1737, 0.007234229931453182), (301, 0.0072104388347105485), (1738, 0.0072079425565638525), (2184, 0.007207837241306083), (748, 0.007203066694323029), (422, 0.007187507666351081), (940, 0.007185906674375464), (311, 0.007164825694240685), (1356, 0.00715561087801353), (617, 0.00715471676975948), (600, 0.0071228700952870455), (4008, 0.007107196434092148), (1627, 0.007100044083445956), (1718, 0.007096771859436997), (1841, 0.00708753936434544), (745, 0.0070808515538191875), (752, 0.007068952983555792), (386, 0.0070658143486953965), (2809, 0.007063672791521176), (122, 0.007061058219344095), (4467, 0.007055612862789591), (2355, 0.007050869072585097), (2691, 0.0070497824617569834), (16, 0.0070466685733230625), (3331, 0.007043169338225479), (1987, 0.007040600014030202), (1911, 0.007035847122089032), (3648, 0.007032156489808555), (671, 0.007022161091498405), (3265, 0.007011901978510178), (4733, 0.0070094177053078984), (4388, 0.006999905258680021), (1250, 0.006993253512270069), (2816, 0.006988766961596555), (2726, 0.006988186562327793), (3458, 0.0069849206441432495), (1111, 0.0069633726778121), (3842, 0.006962329398680305), (778, 0.00695741722895569), (56, 0.006946133657144733), (1425, 0.0069311601206667635), (131, 0.006930354380474513), (2424, 0.006924914675373581), (4210, 0.0069010383369834775), (2732, 0.00689983576133314), (3632, 0.006898549869803102), (1816, 0.006895695856020301), (4001, 0.006846578387637321), (3926, 0.006843055422886102), (1374, 0.0068302404727153855), (1644, 0.006824252910086288), (497, 0.006823098340127916), (3033, 0.0068208176786307565), (1172, 0.006815323855566541), (4099, 0.006812735136423775), (1908, 0.006807654847502001), (2335, 0.006805676683276434), (4738, 0.0068023170720622255), (1692, 0.006801616132535382), (2833, 0.0068010716651291415), (4674, 0.006794042635310492), (1501, 0.006787766964365044), (758, 0.006786364356330566), (1345, 0.006778778650915832), (834, 0.006774825172753425), (2503, 0.00677221372860428), (953, 0.006744283023429464), (1238, 0.0067406601886367875), (22, 0.006730814107924864), (1867, 0.0067282467760271854), (1797, 0.006718478020839139), (1849, 0.006713817583061251), (1913, 0.006709709793216978), (1329, 0.006696786537411564), (1094, 0.006667273171700688), (1213, 0.006666693793955068), (230, 0.006665305805061794), (3066, 0.006657951507414889), (3288, 0.00662736890985725), (2239, 0.006614850542148017), (2095, 0.006597990937405928), (3998, 0.006592760902079439), (4367, 0.006592469571901999), (1267, 0.0065915593278073874), (4564, 0.00658171897941945), (4303, 0.006570770434681917), (2056, 0.006567013143604829), (4217, 0.006535786810552326), (4459, 0.00653086721779005), (862, 0.006525637540401691), (300, 0.006503306230945065), (571, 0.006499228395562772), (521, 0.006490865945745191), (1327, 0.0064889750727292915), (1818, 0.006475989261094451), (1664, 0.006471385561848232), (1552, 0.006468989606358376), (835, 0.006456791982883004), (1526, 0.006452448412028296), (3566, 0.006451362561577591), (562, 0.0064277782931902415), (2202, 0.006426676040639334), (1214, 0.006426065640773938), (2160, 0.006425478430255907), (1981, 0.0064197974569370295), (263, 0.006408901265284805), (3658, 0.006404614208586814), (3864, 0.006393897836429206), (1307, 0.00638672988693907), (4236, 0.006371063378446792), (1746, 0.0063651015921102685), (3909, 0.006357578512534315), (1903, 0.006350008237652429), (2205, 0.0063492491687132556), (568, 0.006322895094963208), (4342, 0.00631784593587299), (9, 0.006307533346415295), (4009, 0.0063015040252680015), (35, 0.006298910429252718), (3114, 0.0062986988931687145), (248, 0.006297967519814373), (2175, 0.006288981014538353), (3244, 0.006246693475953227), (821, 0.0062311602389799456), (3932, 0.006210947535621953), (2203, 0.006203312026421319), (583, 0.006199562082635332), (4055, 0.006188520691035771), (958, 0.006188052447642414), (3448, 0.006169001878898795), (4518, 0.00616839285980055), (1344, 0.006160918460739992), (4653, 0.006160843655931057), (3825, 0.006159054828896768), (2058, 0.006125079195345052), (4057, 0.0061221546433111495), (2156, 0.006095150274537233), (1715, 0.0060944859839233674), (3865, 0.006085622573295851), (2185, 0.0060731674138264895), (1316, 0.006071923251139431), (4110, 0.006051953989906792), (3598, 0.0060439049587961684), (512, 0.006018375566887242), (2426, 0.005999809219380953), (4385, 0.0059855319281626), (1684, 0.005983516573163127), (2935, 0.005981759311026059), (831, 0.005965392838904393), (3509, 0.005906212780028203), (1863, 0.005895362926733132), (3022, 0.005887455974231586), (4331, 0.005864668287479057), (1940, 0.0058643452184897), (369, 0.005846225766202844), (3440, 0.005846186148974873), (2291, 0.0058363675891920305), (177, 0.005829238275367712), (380, 0.005807821023637701), (3117, 0.00579817518965578), (1381, 0.005793894204311638), (3164, 0.005793434266750939), (3752, 0.0057920654574884845), (2098, 0.005784288299460617), (855, 0.005770351304266245), (2181, 0.005764942300342097), (4151, 0.005747391658351449), (425, 0.005744639187568277), (4462, 0.005743989900668027), (3168, 0.005728052096795691), (4630, 0.005722900511543295), (4261, 0.0057199637237094515), (666, 0.005712010360102814), (2683, 0.005710779723283195), (4120, 0.005680582681462865), (4307, 0.00567580637088636), (3180, 0.005670572364635061), (3158, 0.005657855239625481), (1391, 0.005657598130175899), (1962, 0.005645170539986519), (128, 0.005641008854403182), (1332, 0.005632319505773706), (4119, 0.005620123785182053), (3940, 0.0056199153632745255), (2439, 0.005610510429387058), (2665, 0.005601047216033757), (550, 0.005581859445079861), (2626, 0.0055711975674565565), (3604, 0.005566897934098342), (3787, 0.0055631501650805415), (802, 0.005561507777915559), (1554, 0.0055534341211389395), (4726, 0.005550136990507602), (3534, 0.005549881586405106), (102, 0.005546045994530093), (514, 0.005525099384749517), (4240, 0.0055208327418931205), (3163, 0.005514237705286988), (303, 0.005512146171172556), (513, 0.005507552758210317), (2136, 0.005507499913451412), (2084, 0.005503081903223334), (1695, 0.00550070040805256), (4595, 0.0054985429357049045), (1167, 0.005495516957994539), (1453, 0.005488639737796022), (420, 0.005485388996189593), (1829, 0.00548530500556481), (3468, 0.005481788459729369), (477, 0.005478483527568772), (2774, 0.005477237302974373), (3938, 0.005470177394873106), (1150, 0.005465251975448633), (3438, 0.005462040636762239), (1724, 0.005458726807848641), (6, 0.005451098568769251), (3584, 0.005450494508268331), (4090, 0.005450038006639239), (4312, 0.0054475681223532715), (4076, 0.005445842085446708), (3774, 0.005443771583424687), (1952, 0.005441620685542823), (3451, 0.0054405539453348944), (3782, 0.005429900141255226), (3997, 0.005425427921084564), (1791, 0.005422947891093435), (3710, 0.0054119823393724755), (611, 0.005410544646453905), (2283, 0.005404699354968444), (992, 0.00539211863560879), (1614, 0.00539035109427757), (1426, 0.005388374023690005), (2044, 0.0053836769011522964), (1659, 0.005382414806367184), (2819, 0.005380430636613596), (1502, 0.005380407107233743), (239, 0.0053793280073909456), (1575, 0.005373173638897564), (3131, 0.005371564295235898), (2959, 0.005370511014316101), (1452, 0.0053700855388671784), (2022, 0.00536536691013286), (2330, 0.005363323139207282), (765, 0.005358889047762905), (1531, 0.0053566797499702236), (4392, 0.005356159529255727), (220, 0.005355772825199794), (2113, 0.005351860336220219), (1975, 0.0053518547294070734), (168, 0.005351701964574799), (1380, 0.0053488674030922265), (891, 0.0053482953856988785), (2015, 0.005347647487655024), (1859, 0.005344779386715832), (3897, 0.005341531966594379), (2208, 0.00534077155618283), (1280, 0.005337207146110944), (4384, 0.005330458293436766), (4639, 0.0053300704007017774), (2790, 0.005329461822051707), (3134, 0.005319658374649365), (1588, 0.0053034946450157), (4621, 0.0053034772292252135), (320, 0.005295193436296232), (3769, 0.005290952554864483), (27, 0.005279378432526478), (1881, 0.0052774451555430224), (793, 0.005275733940416757), (1469, 0.005270901887105276), (3995, 0.005268224145535812), (4275, 0.00526091896734647), (3907, 0.0052540305747259325), (3124, 0.005245027994524036), (4552, 0.00523750474730688), (95, 0.0052358353705436135), (2947, 0.005235802384059865), (3179, 0.005228365576638773), (4376, 0.005225517273539149), (3191, 0.005215175549646315), (3398, 0.005214446975697893), (4678, 0.005214274907067025), (685, 0.005211205869159977), (902, 0.005205771845951246), (4251, 0.005202335163083018), (4377, 0.00520024623275589), (3815, 0.005184338800610732), (1901, 0.005173273152110369), (1431, 0.005171183581989122), (4373, 0.005169718292788262), (2278, 0.0051654335331236595), (1435, 0.005160977337941286), (2960, 0.005160924551046423), (1587, 0.005158704671626593), (2130, 0.0051525583744932366), (3833, 0.005149130269810793), (1998, 0.005146190560536241), (1930, 0.005145042238886815), (3404, 0.0051442009131888065), (3005, 0.005144142565838396), (3520, 0.005142157437343686), (811, 0.005141738484680944), (30, 0.005134977495097245), (118, 0.005134638252220812), (414, 0.005132288439737325), (919, 0.005123272305732738), (3908, 0.005119224589511235), (2506, 0.005115527079770714), (4103, 0.005106592227740523), (4383, 0.005106011517127276), (135, 0.005104000718530785), (39, 0.005102850264378008), (4360, 0.005095534718469111), (3205, 0.0050842797564565586), (347, 0.005083337827820894), (4665, 0.005082673414800609), (315, 0.005082513338848586), (4310, 0.005079450973509424), (1566, 0.0050789247042742494), (3367, 0.005078681007349858), (451, 0.005078603983278549), (561, 0.005066978011487389), (2246, 0.005066009213797822), (849, 0.005065081398124217), (619, 0.0050539666399606505), (460, 0.005049209609452483), (233, 0.005047388046816988), (4248, 0.0050424557177839386), (1573, 0.0050410019499995875), (4708, 0.005037445499689176), (467, 0.00503406056323572), (2064, 0.005032636929880132), (2847, 0.005030884314172019), (305, 0.005030668534778387), (1857, 0.005019704462653834), (3432, 0.005015703130032335), (3161, 0.005015466640213849), (3443, 0.005008826221858975), (1622, 0.005005417577065741), (1082, 0.004998701459267807), (927, 0.004996982141221935), (1635, 0.004992113023609444), (4264, 0.004991920479497658), (1127, 0.004991727614462873), (634, 0.004990546925140839), (375, 0.004989040517078143), (633, 0.004987610134129892), (389, 0.0049792393875050574), (4039, 0.004979016332792141), (3602, 0.004977787902914154), (4211, 0.004977617042188506), (2232, 0.004972427175409169), (90, 0.004969605787555426), (1846, 0.004956908990122781), (3583, 0.004939787807752227), (1953, 0.004939589535655274), (1933, 0.004934345830534984), (3011, 0.004915010043009315), (3555, 0.004914801938657607), (152, 0.0049072690699647065), (1347, 0.004898957326114956), (336, 0.004898779470293776), (3886, 0.0048876087041361945), (1993, 0.004879593970935785), (1632, 0.00487200256820167), (3664, 0.004871546613580695), (2787, 0.004870302515163491), (93, 0.004869793435336992), (2432, 0.004866290947671234), (4438, 0.004863550790008207), (3126, 0.00486132574563959), (2245, 0.004860033019522192), (3970, 0.004853106749998838), (260, 0.004851656938768161), (1207, 0.004844335886390847), (4587, 0.004843177230692984), (1633, 0.004842879099053304), (310, 0.00484090871660789), (2711, 0.00483543852547159), (2139, 0.004827045726934345), (4441, 0.0048240344651989935), (1211, 0.004823999628931003), (1631, 0.004811627986207945), (1428, 0.00480782345404103), (3361, 0.004805731159829982), (4071, 0.0048026563093683), (3723, 0.004800376353631761), (3824, 0.004790959981878688), (974, 0.00479069032570434), (4585, 0.004784706294490687), (1914, 0.004784565398437712), (4292, 0.004783833901615498), (3133, 0.004783418044555581), (3135, 0.004781437511634632), (3881, 0.004773840897810588), (426, 0.004766578214389361), (1451, 0.004765831211715422), (690, 0.0047645385376437685), (4328, 0.004764010427445576), (3100, 0.00476375677239728), (3788, 0.004759050705445016), (3823, 0.004758147000723983), (3338, 0.004756143635305317), (3143, 0.004747976909746448), (2682, 0.004744389652324102), (810, 0.0047405276591644145), (3136, 0.004735338659167176), (1562, 0.00472994154812388), (661, 0.004729353878643254), (1480, 0.0047243833287378), (3966, 0.004721596086395769), (2442, 0.00469961648897424), (1623, 0.004689021406059246), (316, 0.004688769494867632), (4274, 0.004687517730891957), (1197, 0.004684248395216189), (306, 0.0046729178153404865), (80, 0.004668793703389936), (4322, 0.004666059048418874), (2984, 0.004659015679905573), (94, 0.004658027988493122), (1281, 0.004655891501876044), (4339, 0.00463802870663549), (4193, 0.004631619542099126), (397, 0.004627447206819756), (4044, 0.004611222450929692), (1840, 0.004609065739146619), (1784, 0.004605507794506123), (3247, 0.004588395639573686), (898, 0.00457808644848951), (893, 0.004577589691506519), (4290, 0.00457067314553906), (997, 0.004558247766961741), (559, 0.004556026786369339), (191, 0.004554582456518893), (323, 0.004551132380842873), (3495, 0.004542646044960149), (932, 0.004536922240201509), (803, 0.004532794697037884), (1154, 0.004526424509306877), (4582, 0.004507663396711449), (2660, 0.004493108724806247), (3561, 0.004478867561565747), (187, 0.004470493104406796), (756, 0.004467029593333366), (3619, 0.004463162325562453), (3160, 0.004455016400450704), (4365, 0.00444587903621883), (4468, 0.004434181096608966), (1590, 0.004433524347272984), (1772, 0.004417683142543737), (1699, 0.004417565695024054), (4426, 0.004415704336534025), (3878, 0.004411417517000341), (1925, 0.004408258243155401), (1559, 0.004403843049624982), (2448, 0.004395868737359025), (1546, 0.004394076605274073), (1753, 0.00439083753954008), (3339, 0.0043820080771419185), (3219, 0.004373152378604223), (625, 0.004366862736974103), (3776, 0.004364759095399036), (234, 0.004360495093152513), (1120, 0.004354458749320692), (2801, 0.004349241091185925), (1309, 0.004344139673318858), (3806, 0.004329881792104375), (4142, 0.004327924522159578), (2541, 0.004315634113565729), (639, 0.004307887623152007), (3282, 0.004303902397595369), (1458, 0.004299826521672726), (723, 0.004299674028280781), (3405, 0.004294403065338543), (1910, 0.004275294903055468), (640, 0.004267796882069471), (314, 0.004262537493416927), (4606, 0.0042608288059845), (3484, 0.004238600923554256), (1208, 0.004235494569345834), (469, 0.004223688735755712), (4513, 0.004206148339216343), (3140, 0.004198615018632277), (290, 0.004185458375325828), (738, 0.004177063680928229), (295, 0.004165612609952356), (3537, 0.004164942927757489), (2573, 0.004164218574871431), (3159, 0.004156181702630929), (4692, 0.00415549458191951), (3357, 0.004134630350371194), (1164, 0.004133042823260389), (76, 0.004131988319748352), (3944, 0.0041261539864956495), (1395, 0.004123433334486798), (3989, 0.004116344477553569), (3302, 0.00411024209633352), (289, 0.00409695120903539), (2857, 0.004096948964967086), (1576, 0.004077816886476857), (294, 0.0040596481286042305), (3206, 0.004046461041281966), (2078, 0.004043587411630374), (2619, 0.004013874301077369), (2326, 0.0040126364118031905), (1168, 0.0039972893096752345), (2434, 0.003987544904501087), (4280, 0.0039578685550555005), (3308, 0.003942952351051505), (4633, 0.003939603669624528), (3763, 0.003938340106425999), (4584, 0.003935500302073975), (2720, 0.003912535369227958), (2738, 0.003911184066420545), (2924, 0.0038966448896949556), (1169, 0.0038912903609338587), (2570, 0.0038902246223307705), (2320, 0.003888401856576496), (4369, 0.0038853753298222432), (4002, 0.0038853344061761095), (3866, 0.0038690428889766853), (2884, 0.0038643168475609147), (3506, 0.0038617854464779843), (2696, 0.0038584060858997704), (3230, 0.0038582843329819467), (4650, 0.003854164145684603), (448, 0.0038539010874092112), (77, 0.003844656831846204), (4267, 0.0038365409536078917), (614, 0.0038359356054155826), (4117, 0.0038346175520335324), (985, 0.003831138207245078), (3425, 0.003822054282938549), (2629, 0.0038203001495134723), (739, 0.0038185090447387013), (3772, 0.003817891652473344), (508, 0.0038097419566563056), (235, 0.0038049448230061626), (3186, 0.0038021952972806692), (1887, 0.0037951400821568003), (3611, 0.003792983289622934), (3639, 0.003782393877233118), (3587, 0.0037808574516971557), (3962, 0.003773108517482795), (1594, 0.003769523017599885), (1349, 0.003769250413633977), (4368, 0.00376895309388827), (4333, 0.0037679234582186395), (4401, 0.003763881285581684), (4535, 0.0037605722734847715), (813, 0.00375717736011775), (2830, 0.0037556066661050594), (3013, 0.0037523014473899853), (3560, 0.0037482851222645215), (4259, 0.0037482516356691503), (3414, 0.0037468825396265444), (41, 0.0037466794907353475), (3273, 0.003744384558429752), (1474, 0.0037386966430615776), (3593, 0.0037371575446995225), (3877, 0.0037325701159659345), (3737, 0.003729544557180664), (4051, 0.003726984584198008), (444, 0.0037252138956342705), (4113, 0.0037242580639041158), (857, 0.003714298929972624), (1210, 0.00370915401730761), (3003, 0.003708692213309019), (2592, 0.0037054157040287807), (1479, 0.0036986748035915938), (3101, 0.0036957997025493985), (1109, 0.0036943089825617705), (3677, 0.003693504723482066), (2410, 0.0036918266006347616), (2585, 0.0036852865425095744), (1890, 0.003682757226042977), (1580, 0.003681614483797906), (4101, 0.0036754709185732003), (1733, 0.0036750750019112484), (2624, 0.003670525397661492), (253, 0.0036666207691519494), (4140, 0.003660901116511437), (4446, 0.0036595612878282642), (3889, 0.003658654221772726), (4732, 0.0036582001661856945), (887, 0.003657761017771336), (3915, 0.0036568245760442417), (4130, 0.0036565470201255553), (587, 0.0036551820617209217), (3183, 0.003651491587304074), (499, 0.0036340025077661125), (2595, 0.0036322342242225947), (1907, 0.003631143296352257), (2293, 0.00363070300679965), (4087, 0.0036281666627140953), (3497, 0.0036268047234468657), (318, 0.003625011218967661), (3269, 0.003624339592272921), (1518, 0.0036223847257343816), (2725, 0.003622122691452119), (3893, 0.0036220289132590385), (1848, 0.003621487555439832), (4545, 0.0036208621779164653), (1805, 0.003620452573133871), (4132, 0.0036199914845318902), (3271, 0.0036139348509803795), (2882, 0.003610957321649419), (3757, 0.003610476647559979), (1959, 0.003609310815593313), (3873, 0.0036085762885532707), (1637, 0.0036067496245412137), (791, 0.0036059425405444118), (4680, 0.003605614838692989), (2190, 0.0036047371090620318), (4269, 0.003602917430182262), (12, 0.0035995461227360565), (3449, 0.0035974812685453145), (2940, 0.00359687553555273), (612, 0.003594665363814651), (3496, 0.0035943889798426653), (395, 0.00359256979660446), (2821, 0.003590591478415397), (1409, 0.0035889312111996824), (475, 0.003587643189562965), (680, 0.0035875605873492054), (4574, 0.0035845715812718297), (192, 0.0035835087168473844), (2609, 0.003581505734507878), (4505, 0.0035799504370183683), (1153, 0.0035786786844643017), (872, 0.0035768143135922006), (4575, 0.003575737272039778), (2755, 0.003571854803816937), (1324, 0.003570758607420762), (2393, 0.0035704799201121736), (2105, 0.0035703601735783794), (74, 0.0035688306540086197), (3184, 0.0035687912049719443), (4489, 0.0035667137408780633), (2391, 0.00356487673112538), (623, 0.0035639349819101994), (246, 0.0035599582665912966), (3314, 0.0035592910110413076), (4355, 0.003558817697666371), (2610, 0.0035560879857414332), (4495, 0.003555513848900051), (2792, 0.003553752113984742), (3678, 0.0035536168893866788), (1896, 0.0035532339097003496), (262, 0.0035528091247158384), (4286, 0.003548889407928659), (3654, 0.003547033816279711), (3882, 0.003542945904451909), (1916, 0.0035426336764861266), (2953, 0.0035424161470267723), (4054, 0.0035403154133669484), (1007, 0.0035365364777890512), (3493, 0.003535828537953901), (1893, 0.003535756256543199), (456, 0.0035354079782583736), (2878, 0.0035328904283612353), (3187, 0.003531769241704134), (3770, 0.003527164968222736), (4, 0.003526920741517093), (3406, 0.0035256597201207443), (890, 0.003523376734292295), (2419, 0.00352291444169252), (3242, 0.003522039372713422), (3845, 0.003520920042431313), (4566, 0.0035200937243173164), (4361, 0.003519310737272263), (1660, 0.0035179715906952843), (1402, 0.0035142864545819486), (4448, 0.0035131162538416727), (4363, 0.0035126876592662675), (3150, 0.0035114281393137854), (2370, 0.0035113003099211436), (4262, 0.0035106655507994382), (4083, 0.0035104146841850687), (3388, 0.003510182175002465), (4497, 0.003509716037988736), (4420, 0.0035087826402107085), (20, 0.003506798589362554), (2385, 0.003503419667650739), (884, 0.003503080937008793), (2148, 0.0034973787954746954), (178, 0.0034964967208471684), (211, 0.0034910470970119806), (2319, 0.0034900299853047457), (717, 0.0034891563177568427), (2083, 0.0034879396221413894), (4340, 0.003487510563780377), (588, 0.003487261064205244), (987, 0.0034840736651528545), (4334, 0.003483865233878825), (3920, 0.0034832401403108323), (4136, 0.003481745513963977), (1439, 0.003478228473355429), (4287, 0.0034782111674061763), (3526, 0.0034775578223774535), (2911, 0.003477376046273542), (1703, 0.0034771029317417364), (11, 0.0034763795711818123), (1851, 0.0034760828500008064), (2863, 0.003475752263990819), (23, 0.0034739487546729215), (3241, 0.0034739135557403707), (1294, 0.0034729867693496963), (2904, 0.0034689397568612116), (3225, 0.0034659004435993847), (2072, 0.003465342914726623), (1364, 0.003465239254007932), (1946, 0.0034650455909118593), (2405, 0.003464999922186809), (1765, 0.003462275792914147), (1717, 0.003457617928644926), (1355, 0.0034554210021080388), (4273, 0.00345468538817954), (3290, 0.003453203615071642), (3289, 0.0034491730387652235), (3445, 0.0034461272787969697), (1516, 0.0034451603114730024), (865, 0.003444521707497308), (3198, 0.003441259895112467), (3517, 0.0034411451360244205), (2894, 0.00344020035335246), (115, 0.0034390571748073744), (377, 0.0034382887757688756), (3182, 0.0034349039033234633), (2230, 0.0034338894554631844), (871, 0.003433157207458601), (1768, 0.003431831534877194), (1176, 0.003431781320479227), (2292, 0.0034271593534058484), (969, 0.003426030224815639), (1122, 0.0034256358340308663), (2746, 0.0034211658166525744), (71, 0.003415605604751923), (2073, 0.003415467573156231), (4501, 0.0034137656954037637), (198, 0.00341033478198382), (3792, 0.0034094551742419863), (1533, 0.0034083214604668155), (3551, 0.0034078378976083517), (4563, 0.003407577030063653), (1204, 0.0034056007890182127), (4197, 0.0034053681822850492), (4266, 0.0034053351767141093), (4049, 0.0034014782840958214), (1574, 0.0034003153819479647), (3739, 0.0033990726017334425), (848, 0.003398158502060698), (4135, 0.0033930445560403045), (1722, 0.003392206221168698), (2397, 0.003391056235886888), (3429, 0.003390245435580144), (3283, 0.003389817836587333), (2192, 0.0033891203578848817), (2554, 0.0033874523835438096), (2826, 0.003386447930866264), (3606, 0.003386235281044069), (3341, 0.0033843388000701024), (4427, 0.0033840345525955723), (1476, 0.003383295791375278), (2169, 0.0033815666162508216), (4604, 0.003378231561892065), (3335, 0.0033764935093232593), (2430, 0.003374640794317363), (2067, 0.0033735507724678383), (2783, 0.0033735277923629004), (1410, 0.0033728538377772416), (579, 0.00337280330498846), (2313, 0.0033724797335286986), (378, 0.0033717478469410716), (4320, 0.003370674618087068), (3564, 0.003370014341675493), (1170, 0.0033695235273045756), (1378, 0.003369417594931279), (3478, 0.0033683804745030673), (2340, 0.0033682068368314534), (504, 0.0033677391648528577), (226, 0.003367241282102508), (66, 0.003367063495606606), (2387, 0.0033633194843518057), (2354, 0.0033623870397563446), (1163, 0.0033609090782127345), (1706, 0.0033605497221245494), (749, 0.00335789519805881), (3673, 0.0033561961127937592), (2195, 0.003354163257480271), (1304, 0.003354044355308878), (4056, 0.003353814596258919), (1131, 0.0033524574425260485), (2396, 0.0033515844528974057), (4686, 0.003351464415327449), (3491, 0.0033499853371117367), (4409, 0.0033440618310443013), (1298, 0.003341549919171927), (114, 0.003341199586622227), (3216, 0.0033400028101339494), (2853, 0.003339510058002865), (3565, 0.003339452466445915), (993, 0.003338929592690298), (2495, 0.0033379534046001917), (2533, 0.003336337385791581), (348, 0.0033320224432121658), (2060, 0.0033301447659099203), (1891, 0.003322538007666572), (400, 0.003322217624678419), (1666, 0.00332154444352833), (490, 0.0033194521389866274), (1550, 0.0033193795765694397), (3906, 0.003318513263472906), (4487, 0.003318391788727733), (4394, 0.003317972971566314), (1313, 0.0033166868107334883), (973, 0.0033148144472038257), (4330, 0.0033133099794621277), (3173, 0.0033119587310001105), (466, 0.0033118895369891104), (3381, 0.0033118775683038688), (247, 0.003311069647219454), (4036, 0.003305092847032187), (4020, 0.0033045222988610365), (2416, 0.003304169510403883), (4687, 0.0033021530101456404), (3647, 0.003301275432513891), (1831, 0.003301251390302547), (169, 0.003300261894076598), (1286, 0.0032990175990098053), (1882, 0.0032960486840823548), (1110, 0.0032957671127997663), (215, 0.003294024439875146), (3379, 0.003292536957499439), (3220, 0.0032912361281503158), (1100, 0.0032911110342981947), (3477, 0.003291103051896836), (1598, 0.0032907826489073978), (2422, 0.003288185667570994), (1411, 0.0032874154788205628), (1026, 0.0032860765319676862), (2226, 0.0032854060836653826), (1084, 0.00328533029818434), (2401, 0.0032847465506298276), (4183, 0.0032831243596149673), (98, 0.0032830934669538492), (3706, 0.0032824227334791053), (3557, 0.0032817037631523993), (4743, 0.003280788030510531), (2111, 0.0032751967619501533), (2909, 0.0032733621238367587), (959, 0.0032713293316060568), (1813, 0.0032703216230857857), (1284, 0.0032703154871074587), (4472, 0.003269963806741014), (1422, 0.0032694372174851528), (2945, 0.003268037827414991), (1319, 0.003265265710031449), (4550, 0.0032638614711421685), (541, 0.003263853358128331), (349, 0.003263488095468816), (26, 0.0032607854472017006), (4381, 0.00325753573852447), (3412, 0.0032573185643362786), (1247, 0.0032571627612845494), (3298, 0.0032569676742678793), (1617, 0.0032561667502737884), (755, 0.0032535297328010826), (3765, 0.003253320378242235), (1408, 0.003251992580184997), (127, 0.003251051173338713), (2571, 0.0032478898077458926), (3069, 0.003247035818380939), (2642, 0.0032461451561108697), (1645, 0.003246083509380121), (2461, 0.003245960863600343), (4069, 0.0032449038477877653), (3075, 0.0032429104363509422), (3402, 0.00324159880746864), (2612, 0.0032409665510210995), (3641, 0.0032407234507253403), (1969, 0.0032386429922483797), (4139, 0.0032369297166809615), (3890, 0.003236242289966074), (4567, 0.0032327160767905167), (1877, 0.003231195395232113), (3503, 0.003231041644288816), (3348, 0.0032288422869976253), (1117, 0.0032278724326555396), (2268, 0.003227085445891786), (1463, 0.0032269405994539016), (2117, 0.0032253853239472513), (1027, 0.0032246467045481137), (731, 0.003224377005749218), (4155, 0.0032233725581762972), (2131, 0.0032180949087443666), (883, 0.0032178055456886846), (1597, 0.0032174727213696453), (4536, 0.0032137120325919926), (1929, 0.003211646705719803), (4254, 0.0032088508945569503), (854, 0.0032087611028546867), (2141, 0.003208527513465322), (3917, 0.0032073131757027287), (2779, 0.003206370422738766), (2242, 0.0032056738123821065), (221, 0.0032050871488266248), (798, 0.0032040849697343074), (1034, 0.0032013719334384725), (2367, 0.0032002175815809214), (2765, 0.0031984526402591496), (4085, 0.003197784001881272), (1416, 0.0031965331005555805), (4428, 0.003195314985765527), (1742, 0.0031950705752726597), (3691, 0.0031922564473179644), (3390, 0.003189296324352083), (984, 0.003189265683143604), (1273, 0.0031886034577324252), (2679, 0.003187083680240316), (767, 0.0031852919004856815), (3214, 0.003184776682555556), (1032, 0.0031847619372266096), (2965, 0.0031821364094446725), (1002, 0.0031802830344107866), (1036, 0.0031800533859259704), (4345, 0.003179919748496924), (507, 0.0031780147874951132), (388, 0.0031773027799321574), (3300, 0.0031769096709951855), (325, 0.00317548047709434), (1404, 0.003175240402509883), (2651, 0.003174314348172441), (2166, 0.003173808412431364), (3811, 0.003173278195913299), (373, 0.0031729299663560673), (698, 0.0031727053367145916), (3014, 0.003171127316858049), (1744, 0.0031683614103795357), (2800, 0.003165606550924211), (2634, 0.0031633595681569877), (3646, 0.0031615643341556476), (3194, 0.0031589246473244454), (2004, 0.003156678560894623), (4059, 0.0031549508288386545), (2068, 0.0031512073243565187), (2099, 0.003148625882244081), (154, 0.003147117164915322), (1663, 0.0031458241183750374), (598, 0.003145723931258767), (3243, 0.0031456794853556617), (655, 0.003143678937504833), (4011, 0.0031434449687298876), (229, 0.003143355797287558), (4206, 0.0031430456351792192), (471, 0.0031429337801775286), (2552, 0.0031417858838789555), (659, 0.0031412288696995717), (3057, 0.003140627721429614), (2525, 0.003139797913462035), (975, 0.0031397776417158747), (2862, 0.0031392533458596177), (1693, 0.0031370310843391942), (372, 0.00313592668972567), (4634, 0.00313513574017937), (1558, 0.0031315022884027136), (944, 0.00313065019847117), (2446, 0.0031290198386191943), (1641, 0.003124078302712212), (2201, 0.003123273736281949), (1372, 0.0031227907686526522), (2907, 0.003121824617107301), (805, 0.0031218076106371215), (1456, 0.0031193080048393215), (886, 0.0031171114326628995), (1884, 0.0031166547817374213), (3071, 0.0031164492495595894), (2528, 0.0031158216794028412), (589, 0.0031153725603589462), (3147, 0.003114979100513742), (1357, 0.0031147477534511623), (3725, 0.003111229052273664), (3500, 0.003110264740867841), (1642, 0.0031089577006407636), (1543, 0.0031076016526580532), (399, 0.003107027484585544), (410, 0.003106707721506015), (2317, 0.0031063880976848236), (2129, 0.0031044134401485585), (1079, 0.003103213527380852), (355, 0.0031013830554195987), (136, 0.0031007975643722254), (4348, 0.003099494804073043), (121, 0.0030974252140586866), (624, 0.00309681162641648), (2593, 0.003090685777868625), (4356, 0.0030884053469423974), (4638, 0.003087532441001578), (3369, 0.003087360101502029), (2453, 0.0030849674371180415), (2845, 0.0030848362841689398), (907, 0.0030841914003314724), (4479, 0.003081695327325502), (1814, 0.0030810079569653787), (4277, 0.0030807096834658486), (359, 0.0030802013234055717), (4620, 0.0030797623666385123), (324, 0.003079740425576205), (4359, 0.0030791630137843736), (4174, 0.0030790486404654155), (457, 0.0030763812186766683), (1672, 0.0030754060548341747), (1782, 0.0030747606065498136), (2728, 0.0030725836474528485), (524, 0.0030709722650848047), (2954, 0.003070785378337948), (3278, 0.0030706756615017897), (3742, 0.0030705582138241226), (416, 0.0030661696962212986), (2741, 0.0030661429516956606), (3563, 0.00306536626933268), (3304, 0.003062080458199166), (759, 0.003060786717903374), (3953, 0.003052648238478171), (1528, 0.0030518169916176874), (1503, 0.0030505602976157835), (1869, 0.0030488424472095554), (2338, 0.0030479116314638317), (2399, 0.003047036444746687), (2402, 0.0030430766349984254), (3311, 0.0030372318568480466), (1366, 0.0030363570476054725), (3327, 0.0030363548658842044), (2457, 0.0030360074399757644), (1827, 0.0030349013315743587), (2482, 0.0030347272273620186), (158, 0.00303175186222543), (3614, 0.003031031280648279), (1719, 0.003028375482196359), (3863, 0.0030277673964912936), (3027, 0.003027592601639752), (1605, 0.0030244146345542694), (4712, 0.0030241011050450312), (4080, 0.003023887921979758), (1625, 0.0030226947418631944), (594, 0.0030225769875847274), (3336, 0.0030216864241309617), (2323, 0.0030193767504703155), (722, 0.0030167378365937745), (1808, 0.003015423175101289), (1219, 0.0030137610256792736), (1080, 0.0030097743299321283), (3795, 0.0030093053624841333), (1980, 0.0030067705139688416), (4074, 0.003005862445032487), (1921, 0.0030044762010531766), (268, 0.0030043426388230545), (2213, 0.003003927493282659), (703, 0.0030038989723836975), (856, 0.0030036312340233117), (1318, 0.0030031254025387945), (4350, 0.0030021196220787623), (1004, 0.003000556271414501), (815, 0.0029920318233193563), (1423, 0.0029914492633433248), (3380, 0.002991084072779542), (4143, 0.0029899584801580887), (4343, 0.0029877460980467247), (132, 0.0029868525363903344), (3986, 0.0029859735671675376), (4304, 0.002984501709265906), (4220, 0.0029835310613128673), (1251, 0.002982353559095712), (2047, 0.0029802445978753082), (2976, 0.002978960579507584), (1616, 0.0029765777066008523), (2502, 0.002971784869859788), (1392, 0.0029712445124504107), (92, 0.0029703359713397185), (480, 0.0029699601742031964), (1954, 0.0029696305002121916), (1199, 0.0029690655230336497), (605, 0.002968217684925487), (97, 0.0029670563364886057), (2163, 0.002963378993645786), (4247, 0.0029623835800766966), (184, 0.002961649107015193), (2753, 0.002961566692912437), (1394, 0.0029609384048878192), (3894, 0.002952159900679773), (249, 0.0029507996649409973), (4066, 0.0029484454698884793), (1301, 0.002944829027856193), (712, 0.0029433807640609666), (1943, 0.0029422453713925244), (495, 0.002935749608991359), (3211, 0.0029349516152627013), (2240, 0.0029346551681970214), (2520, 0.002931168860112983), (2721, 0.00292760033472198), (647, 0.00292737464381968), (103, 0.0029246859787761966), (4473, 0.002923728475688409), (165, 0.002922598674693661), (2270, 0.0029145849890159395), (1830, 0.002909157501675735), (1217, 0.0029068813744840107), (2747, 0.0029028325914071816), (4476, 0.002899678811418626), (1370, 0.0028981390593218544), (3393, 0.0028978349213234066), (2382, 0.002896579369201086), (278, 0.0028962899057818218), (3569, 0.002896064602886001), (3238, 0.0028924666316110415), (1828, 0.002891768680661062), (2611, 0.002889089681393818), (2527, 0.002887758457293072), (286, 0.002884887759095117), (1088, 0.0028822612185388954), (357, 0.002878568799395924), (1450, 0.0028753859134050277), (3668, 0.0028735984941647363), (4411, 0.0028733206160543034), (432, 0.002871490749313781), (1352, 0.002870833874726435), (1340, 0.0028660416418092374), (626, 0.002865556862076744), (3657, 0.0028623303179887735), (3200, 0.0028610156746575865), (267, 0.002855095291335704), (1565, 0.0028526178979002585), (3669, 0.002852583719995612), (3855, 0.0028474570802353516), (1691, 0.002844097129558062), (4636, 0.0028437195051490534), (2039, 0.0028435423167188383), (1801, 0.0028399700120672576), (951, 0.0028369431176414888), (1042, 0.0028346487049091327), (196, 0.002830371513418719), (195, 0.002825808369106308), (2758, 0.0028251446702721368), (3347, 0.0028097226053959974), (707, 0.0028074688881138004), (3252, 0.002805275455024217), (2132, 0.00280489361056196), (2359, 0.0028024023197712597), (2127, 0.0027993308546564646), (2034, 0.0027973837095892256), (1209, 0.002793177123751898), (901, 0.002792140457343323), (2287, 0.0027916685010055506), (4200, 0.0027877596476128404), (3056, 0.0027840067430133096), (1305, 0.002780437690951113), (645, 0.002775147219039045), (1427, 0.0027747030433217593), (4015, 0.0027642433100649633), (4626, 0.0027502665578124893), (3024, 0.0027494296302237485), (2509, 0.0027485656651054955), (3548, 0.0027410651795016813), (2526, 0.002739804482290703), (1624, 0.002737196217520789), (2441, 0.0027144414503697282), (3575, 0.0026952210071651546), (194, 0.002690096165349179), (3538, 0.0026786313817679323), (1677, 0.0026593046037641983), (2766, 0.0026538746363453597), (3199, 0.0026119997253802704), (4598, 0.0026089813838200957), (607, 0.0025909589672806206), (453, 0.0025774459116353486), (351, 0.0025646468737283335), (2636, 0.002541229771502112), (4445, 0.002539277994010438), (3626, 0.0025390960699434566), (228, 0.002532750793419836), (1277, 0.0025095526366309207), (3546, 0.002494888421423066), (2902, 0.0024636788827221293), (293, 0.0024006710274271743), (4752, 0.002396924275631969), (4171, 0.0023941389259956253), (3365, 0.0023756948972693767), (129, 0.002332768340435474), (740, 0.002243673890914657), (3392, 0.0022426315494257403), (3608, 0.0022211014759251956), (1780, 0.002208447456437637), (24, 0.0022012955140284164), (202, 0.002194537274335569), (2534, 0.0015042774184552258), (1, 0.0), (2, 0.0), (8, 0.0), (14, 0.0), (17, 0.0), (28, 0.0), (36, 0.0), (37, 0.0), (40, 0.0), (49, 0.0), (53, 0.0), (54, 0.0), (55, 0.0), (58, 0.0), (59, 0.0), (64, 0.0), (69, 0.0), (73, 0.0), (91, 0.0), (100, 0.0), (101, 0.0), (117, 0.0), (120, 0.0), (133, 0.0), (134, 0.0), (139, 0.0), (140, 0.0), (141, 0.0), (146, 0.0), (150, 0.0), (151, 0.0), (153, 0.0), (157, 0.0), (163, 0.0), (171, 0.0), (174, 0.0), (176, 0.0), (186, 0.0), (188, 0.0), (189, 0.0), (197, 0.0), (205, 0.0), (210, 0.0), (214, 0.0), (219, 0.0), (223, 0.0), (225, 0.0), (227, 0.0), (237, 0.0), (245, 0.0), (252, 0.0), (254, 0.0), (258, 0.0), (259, 0.0), (264, 0.0), (265, 0.0), (272, 0.0), (275, 0.0), (281, 0.0), (297, 0.0), (298, 0.0), (299, 0.0), (302, 0.0), (308, 0.0), (312, 0.0), (319, 0.0), (326, 0.0), (331, 0.0), (335, 0.0), (337, 0.0), (338, 0.0), (339, 0.0), (344, 0.0), (352, 0.0), (361, 0.0), (362, 0.0), (365, 0.0), (366, 0.0), (376, 0.0), (379, 0.0), (382, 0.0), (390, 0.0), (391, 0.0), (392, 0.0), (393, 0.0), (394, 0.0), (401, 0.0), (402, 0.0), (404, 0.0), (405, 0.0), (406, 0.0), (411, 0.0), (415, 0.0), (419, 0.0), (423, 0.0), (427, 0.0), (431, 0.0), (437, 0.0), (439, 0.0), (440, 0.0), (454, 0.0), (461, 0.0), (462, 0.0), (473, 0.0), (476, 0.0), (478, 0.0), (482, 0.0), (484, 0.0), (486, 0.0), (487, 0.0), (488, 0.0), (489, 0.0), (491, 0.0), (492, 0.0), (498, 0.0), (505, 0.0), (506, 0.0), (516, 0.0), (517, 0.0), (518, 0.0), (520, 0.0), (525, 0.0), (526, 0.0), (528, 0.0), (529, 0.0), (531, 0.0), (533, 0.0), (535, 0.0), (536, 0.0), (546, 0.0), (548, 0.0), (549, 0.0), (552, 0.0), (554, 0.0), (556, 0.0), (557, 0.0), (564, 0.0), (565, 0.0), (567, 0.0), (569, 0.0), (570, 0.0), (572, 0.0), (573, 0.0), (574, 0.0), (575, 0.0), (576, 0.0), (577, 0.0), (585, 0.0), (591, 0.0), (592, 0.0), (593, 0.0), (595, 0.0), (596, 0.0), (599, 0.0), (601, 0.0), (602, 0.0), (603, 0.0), (610, 0.0), (627, 0.0), (630, 0.0), (646, 0.0), (649, 0.0), (650, 0.0), (656, 0.0), (658, 0.0), (662, 0.0), (663, 0.0), (665, 0.0), (667, 0.0), (674, 0.0), (679, 0.0), (681, 0.0), (686, 0.0), (687, 0.0), (693, 0.0), (699, 0.0), (700, 0.0), (702, 0.0), (704, 0.0), (708, 0.0), (709, 0.0), (711, 0.0), (713, 0.0), (714, 0.0), (718, 0.0), (720, 0.0), (721, 0.0), (724, 0.0), (725, 0.0), (726, 0.0), (730, 0.0), (735, 0.0), (736, 0.0), (741, 0.0), (746, 0.0), (747, 0.0), (751, 0.0), (753, 0.0), (754, 0.0), (761, 0.0), (764, 0.0), (770, 0.0), (771, 0.0), (772, 0.0), (773, 0.0), (777, 0.0), (780, 0.0), (781, 0.0), (783, 0.0), (784, 0.0), (785, 0.0), (786, 0.0), (789, 0.0), (797, 0.0), (807, 0.0), (819, 0.0), (820, 0.0), (822, 0.0), (823, 0.0), (826, 0.0), (837, 0.0), (839, 0.0), (840, 0.0), (841, 0.0), (846, 0.0), (859, 0.0), (860, 0.0), (876, 0.0), (881, 0.0), (882, 0.0), (889, 0.0), (892, 0.0), (903, 0.0), (909, 0.0), (912, 0.0), (913, 0.0), (914, 0.0), (917, 0.0), (920, 0.0), (922, 0.0), (925, 0.0), (926, 0.0), (933, 0.0), (937, 0.0), (938, 0.0), (941, 0.0), (943, 0.0), (945, 0.0), (946, 0.0), (947, 0.0), (950, 0.0), (954, 0.0), (955, 0.0), (956, 0.0), (960, 0.0), (961, 0.0), (964, 0.0), (965, 0.0), (971, 0.0), (972, 0.0), (977, 0.0), (978, 0.0), (982, 0.0), (983, 0.0), (986, 0.0), (990, 0.0), (995, 0.0), (996, 0.0), (998, 0.0), (999, 0.0), (1008, 0.0), (1010, 0.0), (1011, 0.0), (1013, 0.0), (1016, 0.0), (1019, 0.0), (1020, 0.0), (1022, 0.0), (1025, 0.0), (1028, 0.0), (1029, 0.0), (1031, 0.0), (1038, 0.0), (1039, 0.0), (1040, 0.0), (1049, 0.0), (1051, 0.0), (1053, 0.0), (1055, 0.0), (1056, 0.0), (1062, 0.0), (1064, 0.0), (1065, 0.0), (1066, 0.0), (1067, 0.0), (1070, 0.0), (1072, 0.0), (1073, 0.0), (1077, 0.0), (1081, 0.0), (1083, 0.0), (1086, 0.0), (1089, 0.0), (1091, 0.0), (1093, 0.0), (1097, 0.0), (1101, 0.0), (1103, 0.0), (1105, 0.0), (1106, 0.0), (1108, 0.0), (1113, 0.0), (1121, 0.0), (1126, 0.0), (1130, 0.0), (1133, 0.0), (1135, 0.0), (1139, 0.0), (1142, 0.0), (1143, 0.0), (1145, 0.0), (1147, 0.0), (1148, 0.0), (1149, 0.0), (1151, 0.0), (1155, 0.0), (1156, 0.0), (1158, 0.0), (1159, 0.0), (1160, 0.0), (1161, 0.0), (1165, 0.0), (1166, 0.0), (1171, 0.0), (1178, 0.0), (1180, 0.0), (1182, 0.0), (1187, 0.0), (1189, 0.0), (1190, 0.0), (1193, 0.0), (1196, 0.0), (1198, 0.0), (1200, 0.0), (1201, 0.0), (1212, 0.0), (1218, 0.0), (1221, 0.0), (1222, 0.0), (1227, 0.0), (1228, 0.0), (1233, 0.0), (1235, 0.0), (1240, 0.0), (1242, 0.0), (1244, 0.0), (1246, 0.0), (1253, 0.0), (1256, 0.0), (1258, 0.0), (1262, 0.0), (1263, 0.0), (1264, 0.0), (1265, 0.0), (1268, 0.0), (1269, 0.0), (1271, 0.0), (1285, 0.0), (1287, 0.0), (1288, 0.0), (1289, 0.0), (1291, 0.0), (1295, 0.0), (1296, 0.0), (1297, 0.0), (1299, 0.0), (1315, 0.0), (1321, 0.0), (1322, 0.0), (1323, 0.0), (1326, 0.0), (1328, 0.0), (1333, 0.0), (1336, 0.0), (1346, 0.0), (1350, 0.0), (1353, 0.0), (1354, 0.0), (1368, 0.0), (1371, 0.0), (1373, 0.0), (1390, 0.0), (1397, 0.0), (1399, 0.0), (1415, 0.0), (1424, 0.0), (1429, 0.0), (1434, 0.0), (1437, 0.0), (1441, 0.0), (1444, 0.0), (1447, 0.0), (1449, 0.0), (1457, 0.0), (1459, 0.0), (1460, 0.0), (1466, 0.0), (1467, 0.0), (1468, 0.0), (1470, 0.0), (1473, 0.0), (1485, 0.0), (1487, 0.0), (1490, 0.0), (1491, 0.0), (1495, 0.0), (1496, 0.0), (1497, 0.0), (1499, 0.0), (1508, 0.0), (1511, 0.0), (1513, 0.0), (1517, 0.0), (1520, 0.0), (1521, 0.0), (1522, 0.0), (1524, 0.0), (1525, 0.0), (1529, 0.0), (1532, 0.0), (1534, 0.0), (1535, 0.0), (1541, 0.0), (1545, 0.0), (1547, 0.0), (1548, 0.0), (1549, 0.0), (1556, 0.0), (1557, 0.0), (1560, 0.0), (1561, 0.0), (1563, 0.0), (1564, 0.0), (1569, 0.0), (1570, 0.0), (1577, 0.0), (1578, 0.0), (1581, 0.0), (1584, 0.0), (1586, 0.0), (1589, 0.0), (1591, 0.0), (1592, 0.0), (1593, 0.0), (1596, 0.0), (1599, 0.0), (1600, 0.0), (1601, 0.0), (1602, 0.0), (1603, 0.0), (1604, 0.0), (1606, 0.0), (1607, 0.0), (1610, 0.0), (1611, 0.0), (1613, 0.0), (1615, 0.0), (1618, 0.0), (1626, 0.0), (1628, 0.0), (1636, 0.0), (1638, 0.0), (1639, 0.0), (1640, 0.0), (1646, 0.0), (1649, 0.0), (1651, 0.0), (1655, 0.0), (1656, 0.0), (1658, 0.0), (1661, 0.0), (1668, 0.0), (1669, 0.0), (1670, 0.0), (1673, 0.0), (1674, 0.0), (1679, 0.0), (1683, 0.0), (1685, 0.0), (1686, 0.0), (1689, 0.0), (1697, 0.0), (1698, 0.0), (1700, 0.0), (1704, 0.0), (1708, 0.0), (1709, 0.0), (1711, 0.0), (1712, 0.0), (1713, 0.0), (1725, 0.0), (1726, 0.0), (1728, 0.0), (1729, 0.0), (1731, 0.0), (1732, 0.0), (1734, 0.0), (1745, 0.0), (1748, 0.0), (1751, 0.0), (1755, 0.0), (1756, 0.0), (1758, 0.0), (1766, 0.0), (1767, 0.0), (1769, 0.0), (1771, 0.0), (1775, 0.0), (1777, 0.0), (1778, 0.0), (1783, 0.0), (1785, 0.0), (1786, 0.0), (1790, 0.0), (1792, 0.0), (1794, 0.0), (1800, 0.0), (1803, 0.0), (1804, 0.0), (1810, 0.0), (1820, 0.0), (1822, 0.0), (1823, 0.0), (1824, 0.0), (1825, 0.0), (1826, 0.0), (1832, 0.0), (1834, 0.0), (1835, 0.0), (1836, 0.0), (1839, 0.0), (1842, 0.0), (1843, 0.0), (1844, 0.0), (1853, 0.0), (1855, 0.0), (1856, 0.0), (1862, 0.0), (1879, 0.0), (1883, 0.0), (1885, 0.0), (1888, 0.0), (1889, 0.0), (1892, 0.0), (1894, 0.0), (1898, 0.0), (1899, 0.0), (1904, 0.0), (1905, 0.0), (1909, 0.0), (1912, 0.0), (1915, 0.0), (1917, 0.0), (1926, 0.0), (1928, 0.0), (1932, 0.0), (1938, 0.0), (1939, 0.0), (1941, 0.0), (1944, 0.0), (1947, 0.0), (1955, 0.0), (1956, 0.0), (1960, 0.0), (1961, 0.0), (1963, 0.0), (1965, 0.0), (1966, 0.0), (1972, 0.0), (1974, 0.0), (1978, 0.0), (1979, 0.0), (1984, 0.0), (1995, 0.0), (2001, 0.0), (2002, 0.0), (2003, 0.0), (2006, 0.0), (2007, 0.0), (2009, 0.0), (2010, 0.0), (2017, 0.0), (2019, 0.0), (2021, 0.0), (2025, 0.0), (2028, 0.0), (2030, 0.0), (2032, 0.0), (2033, 0.0), (2036, 0.0), (2038, 0.0), (2041, 0.0), (2042, 0.0), (2043, 0.0), (2046, 0.0), (2048, 0.0), (2049, 0.0), (2050, 0.0), (2051, 0.0), (2052, 0.0), (2054, 0.0), (2059, 0.0), (2063, 0.0), (2071, 0.0), (2075, 0.0), (2077, 0.0), (2079, 0.0), (2080, 0.0), (2081, 0.0), (2085, 0.0), (2086, 0.0), (2087, 0.0), (2089, 0.0), (2090, 0.0), (2092, 0.0), (2106, 0.0), (2107, 0.0), (2108, 0.0), (2115, 0.0), (2116, 0.0), (2118, 0.0), (2120, 0.0), (2124, 0.0), (2125, 0.0), (2128, 0.0), (2134, 0.0), (2135, 0.0), (2137, 0.0), (2138, 0.0), (2140, 0.0), (2142, 0.0), (2146, 0.0), (2150, 0.0), (2152, 0.0), (2153, 0.0), (2154, 0.0), (2159, 0.0), (2164, 0.0), (2165, 0.0), (2168, 0.0), (2170, 0.0), (2171, 0.0), (2172, 0.0), (2173, 0.0), (2176, 0.0), (2179, 0.0), (2180, 0.0), (2182, 0.0), (2183, 0.0), (2186, 0.0), (2188, 0.0), (2189, 0.0), (2194, 0.0), (2199, 0.0), (2200, 0.0), (2204, 0.0), (2209, 0.0), (2215, 0.0), (2217, 0.0), (2218, 0.0), (2219, 0.0), (2220, 0.0), (2222, 0.0), (2223, 0.0), (2225, 0.0), (2227, 0.0), (2228, 0.0), (2229, 0.0), (2231, 0.0), (2233, 0.0), (2234, 0.0), (2235, 0.0), (2238, 0.0), (2241, 0.0), (2243, 0.0), (2247, 0.0), (2248, 0.0), (2249, 0.0), (2251, 0.0), (2253, 0.0), (2255, 0.0), (2256, 0.0), (2257, 0.0), (2259, 0.0), (2260, 0.0), (2261, 0.0), (2262, 0.0), (2263, 0.0), (2266, 0.0), (2267, 0.0), (2269, 0.0), (2271, 0.0), (2272, 0.0), (2273, 0.0), (2274, 0.0), (2275, 0.0), (2279, 0.0), (2281, 0.0), (2282, 0.0), (2286, 0.0), (2288, 0.0), (2289, 0.0), (2295, 0.0), (2296, 0.0), (2297, 0.0), (2299, 0.0), (2300, 0.0), (2302, 0.0), (2305, 0.0), (2306, 0.0), (2307, 0.0), (2308, 0.0), (2310, 0.0), (2311, 0.0), (2312, 0.0), (2314, 0.0), (2315, 0.0), (2322, 0.0), (2324, 0.0), (2325, 0.0), (2327, 0.0), (2328, 0.0), (2329, 0.0), (2331, 0.0), (2332, 0.0), (2333, 0.0), (2337, 0.0), (2341, 0.0), (2342, 0.0), (2343, 0.0), (2344, 0.0), (2345, 0.0), (2346, 0.0), (2349, 0.0), (2350, 0.0), (2351, 0.0), (2352, 0.0), (2353, 0.0), (2356, 0.0), (2357, 0.0), (2358, 0.0), (2360, 0.0), (2361, 0.0), (2363, 0.0), (2364, 0.0), (2365, 0.0), (2368, 0.0), (2369, 0.0), (2372, 0.0), (2373, 0.0), (2377, 0.0), (2378, 0.0), (2379, 0.0), (2380, 0.0), (2381, 0.0), (2383, 0.0), (2384, 0.0), (2386, 0.0), (2388, 0.0), (2389, 0.0), (2390, 0.0), (2392, 0.0), (2394, 0.0), (2395, 0.0), (2398, 0.0), (2400, 0.0), (2403, 0.0), (2404, 0.0), (2407, 0.0), (2409, 0.0), (2411, 0.0), (2414, 0.0), (2415, 0.0), (2417, 0.0), (2420, 0.0), (2423, 0.0), (2425, 0.0), (2431, 0.0), (2433, 0.0), (2435, 0.0), (2437, 0.0), (2438, 0.0), (2444, 0.0), (2445, 0.0), (2449, 0.0), (2450, 0.0), (2451, 0.0), (2452, 0.0), (2454, 0.0), (2455, 0.0), (2456, 0.0), (2458, 0.0), (2462, 0.0), (2464, 0.0), (2465, 0.0), (2466, 0.0), (2468, 0.0), (2470, 0.0), (2471, 0.0), (2472, 0.0), (2475, 0.0), (2476, 0.0), (2478, 0.0), (2479, 0.0), (2483, 0.0), (2484, 0.0), (2485, 0.0), (2488, 0.0), (2490, 0.0), (2491, 0.0), (2492, 0.0), (2493, 0.0), (2494, 0.0), (2497, 0.0), (2498, 0.0), (2499, 0.0), (2500, 0.0), (2504, 0.0), (2505, 0.0), (2507, 0.0), (2508, 0.0), (2511, 0.0), (2514, 0.0), (2515, 0.0), (2516, 0.0), (2518, 0.0), (2521, 0.0), (2523, 0.0), (2529, 0.0), (2531, 0.0), (2532, 0.0), (2535, 0.0), (2536, 0.0), (2537, 0.0), (2539, 0.0), (2542, 0.0), (2543, 0.0), (2544, 0.0), (2545, 0.0), (2547, 0.0), (2548, 0.0), (2549, 0.0), (2550, 0.0), (2551, 0.0), (2556, 0.0), (2557, 0.0), (2559, 0.0), (2560, 0.0), (2561, 0.0), (2562, 0.0), (2564, 0.0), (2566, 0.0), (2567, 0.0), (2568, 0.0), (2569, 0.0), (2574, 0.0), (2575, 0.0), (2576, 0.0), (2577, 0.0), (2578, 0.0), (2579, 0.0), (2581, 0.0), (2583, 0.0), (2584, 0.0), (2586, 0.0), (2588, 0.0), (2589, 0.0), (2590, 0.0), (2591, 0.0), (2594, 0.0), (2596, 0.0), (2597, 0.0), (2599, 0.0), (2600, 0.0), (2604, 0.0), (2605, 0.0), (2608, 0.0), (2613, 0.0), (2615, 0.0), (2616, 0.0), (2618, 0.0), (2620, 0.0), (2623, 0.0), (2627, 0.0), (2628, 0.0), (2630, 0.0), (2631, 0.0), (2633, 0.0), (2635, 0.0), (2637, 0.0), (2638, 0.0), (2641, 0.0), (2643, 0.0), (2645, 0.0), (2648, 0.0), (2649, 0.0), (2652, 0.0), (2655, 0.0), (2656, 0.0), (2657, 0.0), (2658, 0.0), (2659, 0.0), (2661, 0.0), (2662, 0.0), (2663, 0.0), (2664, 0.0), (2666, 0.0), (2667, 0.0), (2669, 0.0), (2670, 0.0), (2671, 0.0), (2672, 0.0), (2673, 0.0), (2674, 0.0), (2675, 0.0), (2676, 0.0), (2677, 0.0), (2678, 0.0), (2681, 0.0), (2684, 0.0), (2685, 0.0), (2686, 0.0), (2690, 0.0), (2693, 0.0), (2694, 0.0), (2700, 0.0), (2701, 0.0), (2702, 0.0), (2703, 0.0), (2704, 0.0), (2705, 0.0), (2707, 0.0), (2708, 0.0), (2709, 0.0), (2712, 0.0), (2715, 0.0), (2717, 0.0), (2719, 0.0), (2722, 0.0), (2727, 0.0), (2729, 0.0), (2730, 0.0), (2731, 0.0), (2733, 0.0), (2734, 0.0), (2735, 0.0), (2737, 0.0), (2743, 0.0), (2748, 0.0), (2749, 0.0), (2750, 0.0), (2751, 0.0), (2754, 0.0), (2756, 0.0), (2757, 0.0), (2759, 0.0), (2763, 0.0), (2764, 0.0), (2768, 0.0), (2770, 0.0), (2772, 0.0), (2773, 0.0), (2775, 0.0), (2776, 0.0), (2778, 0.0), (2781, 0.0), (2785, 0.0), (2786, 0.0), (2793, 0.0), (2794, 0.0), (2796, 0.0), (2797, 0.0), (2799, 0.0), (2804, 0.0), (2806, 0.0), (2807, 0.0), (2810, 0.0), (2811, 0.0), (2813, 0.0), (2814, 0.0), (2817, 0.0), (2818, 0.0), (2824, 0.0), (2827, 0.0), (2828, 0.0), (2829, 0.0), (2831, 0.0), (2832, 0.0), (2834, 0.0), (2835, 0.0), (2836, 0.0), (2837, 0.0), (2838, 0.0), (2839, 0.0), (2840, 0.0), (2842, 0.0), (2843, 0.0), (2846, 0.0), (2848, 0.0), (2849, 0.0), (2850, 0.0), (2851, 0.0), (2852, 0.0), (2854, 0.0), (2855, 0.0), (2856, 0.0), (2858, 0.0), (2860, 0.0), (2861, 0.0), (2864, 0.0), (2865, 0.0), (2866, 0.0), (2870, 0.0), (2872, 0.0), (2873, 0.0), (2875, 0.0), (2877, 0.0), (2879, 0.0), (2880, 0.0), (2881, 0.0), (2883, 0.0), (2885, 0.0), (2886, 0.0), (2887, 0.0), (2888, 0.0), (2889, 0.0), (2890, 0.0), (2891, 0.0), (2892, 0.0), (2893, 0.0), (2895, 0.0), (2896, 0.0), (2898, 0.0), (2900, 0.0), (2901, 0.0), (2905, 0.0), (2906, 0.0), (2914, 0.0), (2915, 0.0), (2916, 0.0), (2921, 0.0), (2922, 0.0), (2923, 0.0), (2926, 0.0), (2927, 0.0), (2928, 0.0), (2930, 0.0), (2932, 0.0), (2934, 0.0), (2936, 0.0), (2937, 0.0), (2938, 0.0), (2939, 0.0), (2941, 0.0), (2943, 0.0), (2946, 0.0), (2948, 0.0), (2951, 0.0), (2952, 0.0), (2955, 0.0), (2956, 0.0), (2957, 0.0), (2958, 0.0), (2961, 0.0), (2966, 0.0), (2967, 0.0), (2968, 0.0), (2970, 0.0), (2973, 0.0), (2974, 0.0), (2979, 0.0), (2982, 0.0), (2983, 0.0), (2986, 0.0), (2987, 0.0), (2989, 0.0), (2990, 0.0), (2991, 0.0), (2993, 0.0), (2997, 0.0), (2998, 0.0), (2999, 0.0), (3001, 0.0), (3002, 0.0), (3004, 0.0), (3006, 0.0), (3007, 0.0), (3008, 0.0), (3009, 0.0), (3012, 0.0), (3015, 0.0), (3016, 0.0), (3017, 0.0), (3018, 0.0), (3019, 0.0), (3020, 0.0), (3021, 0.0), (3025, 0.0), (3026, 0.0), (3029, 0.0), (3030, 0.0), (3031, 0.0), (3032, 0.0), (3034, 0.0), (3035, 0.0), (3037, 0.0), (3038, 0.0), (3040, 0.0), (3041, 0.0), (3042, 0.0), (3044, 0.0), (3047, 0.0), (3048, 0.0), (3049, 0.0), (3050, 0.0), (3051, 0.0), (3052, 0.0), (3054, 0.0), (3055, 0.0), (3058, 0.0), (3059, 0.0), (3060, 0.0), (3061, 0.0), (3062, 0.0), (3063, 0.0), (3064, 0.0), (3065, 0.0), (3072, 0.0), (3073, 0.0), (3074, 0.0), (3077, 0.0), (3078, 0.0), (3079, 0.0), (3080, 0.0), (3081, 0.0), (3082, 0.0), (3084, 0.0), (3087, 0.0), (3088, 0.0), (3089, 0.0), (3090, 0.0), (3092, 0.0), (3093, 0.0), (3094, 0.0), (3103, 0.0), (3104, 0.0), (3105, 0.0), (3106, 0.0), (3107, 0.0), (3109, 0.0), (3112, 0.0), (3113, 0.0), (3115, 0.0), (3116, 0.0), (3119, 0.0), (3121, 0.0), (3123, 0.0), (3128, 0.0), (3130, 0.0), (3132, 0.0), (3138, 0.0), (3139, 0.0), (3141, 0.0), (3142, 0.0), (3145, 0.0), (3146, 0.0), (3148, 0.0), (3162, 0.0), (3165, 0.0), (3166, 0.0), (3169, 0.0), (3170, 0.0), (3171, 0.0), (3172, 0.0), (3175, 0.0), (3176, 0.0), (3177, 0.0), (3178, 0.0), (3181, 0.0), (3185, 0.0), (3188, 0.0), (3189, 0.0), (3190, 0.0), (3193, 0.0), (3197, 0.0), (3201, 0.0), (3202, 0.0), (3203, 0.0), (3204, 0.0), (3207, 0.0), (3208, 0.0), (3212, 0.0), (3217, 0.0), (3221, 0.0), (3223, 0.0), (3224, 0.0), (3227, 0.0), (3228, 0.0), (3229, 0.0), (3231, 0.0), (3234, 0.0), (3235, 0.0), (3236, 0.0), (3239, 0.0), (3245, 0.0), (3248, 0.0), (3249, 0.0), (3250, 0.0), (3251, 0.0), (3253, 0.0), (3255, 0.0), (3256, 0.0), (3257, 0.0), (3258, 0.0), (3261, 0.0), (3262, 0.0), (3263, 0.0), (3266, 0.0), (3268, 0.0), (3270, 0.0), (3272, 0.0), (3274, 0.0), (3275, 0.0), (3276, 0.0), (3277, 0.0), (3281, 0.0), (3284, 0.0), (3286, 0.0), (3287, 0.0), (3291, 0.0), (3292, 0.0), (3293, 0.0), (3296, 0.0), (3301, 0.0), (3305, 0.0), (3307, 0.0), (3309, 0.0), (3310, 0.0), (3312, 0.0), (3316, 0.0), (3320, 0.0), (3321, 0.0), (3322, 0.0), (3323, 0.0), (3324, 0.0), (3325, 0.0), (3332, 0.0), (3333, 0.0), (3337, 0.0), (3340, 0.0), (3343, 0.0), (3345, 0.0), (3349, 0.0), (3350, 0.0), (3353, 0.0), (3354, 0.0), (3355, 0.0), (3358, 0.0), (3359, 0.0), (3363, 0.0), (3364, 0.0), (3366, 0.0), (3368, 0.0), (3371, 0.0), (3372, 0.0), (3377, 0.0), (3378, 0.0), (3383, 0.0), (3391, 0.0), (3394, 0.0), (3396, 0.0), (3397, 0.0), (3400, 0.0), (3401, 0.0), (3411, 0.0), (3413, 0.0), (3415, 0.0), (3417, 0.0), (3419, 0.0), (3420, 0.0), (3422, 0.0), (3423, 0.0), (3424, 0.0), (3428, 0.0), (3431, 0.0), (3434, 0.0), (3439, 0.0), (3441, 0.0), (3442, 0.0), (3444, 0.0), (3454, 0.0), (3455, 0.0), (3459, 0.0), (3461, 0.0), (3467, 0.0), (3472, 0.0), (3473, 0.0), (3475, 0.0), (3476, 0.0), (3479, 0.0), (3481, 0.0), (3482, 0.0), (3485, 0.0), (3488, 0.0), (3489, 0.0), (3490, 0.0), (3494, 0.0), (3501, 0.0), (3502, 0.0), (3505, 0.0), (3510, 0.0), (3512, 0.0), (3513, 0.0), (3515, 0.0), (3519, 0.0), (3521, 0.0), (3522, 0.0), (3523, 0.0), (3525, 0.0), (3527, 0.0), (3529, 0.0), (3530, 0.0), (3532, 0.0), (3533, 0.0), (3535, 0.0), (3539, 0.0), (3540, 0.0), (3542, 0.0), (3543, 0.0), (3544, 0.0), (3545, 0.0), (3547, 0.0), (3549, 0.0), (3550, 0.0), (3552, 0.0), (3553, 0.0), (3554, 0.0), (3562, 0.0), (3567, 0.0), (3568, 0.0), (3573, 0.0), (3576, 0.0), (3577, 0.0), (3578, 0.0), (3579, 0.0), (3581, 0.0), (3585, 0.0), (3588, 0.0), (3589, 0.0), (3590, 0.0), (3591, 0.0), (3592, 0.0), (3594, 0.0), (3595, 0.0), (3600, 0.0), (3601, 0.0), (3603, 0.0), (3607, 0.0), (3609, 0.0), (3610, 0.0), (3613, 0.0), (3615, 0.0), (3616, 0.0), (3617, 0.0), (3620, 0.0), (3621, 0.0), (3622, 0.0), (3625, 0.0), (3627, 0.0), (3628, 0.0), (3629, 0.0), (3631, 0.0), (3633, 0.0), (3635, 0.0), (3636, 0.0), (3638, 0.0), (3644, 0.0), (3649, 0.0), (3650, 0.0), (3651, 0.0), (3652, 0.0), (3661, 0.0), (3662, 0.0), (3663, 0.0), (3671, 0.0), (3672, 0.0), (3675, 0.0), (3676, 0.0), (3679, 0.0), (3680, 0.0), (3681, 0.0), (3682, 0.0), (3683, 0.0), (3685, 0.0), (3686, 0.0), (3687, 0.0), (3690, 0.0), (3693, 0.0), (3695, 0.0), (3697, 0.0), (3698, 0.0), (3700, 0.0), (3702, 0.0), (3703, 0.0), (3704, 0.0), (3707, 0.0), (3708, 0.0), (3709, 0.0), (3712, 0.0), (3714, 0.0), (3715, 0.0), (3716, 0.0), (3717, 0.0), (3718, 0.0), (3719, 0.0), (3721, 0.0), (3722, 0.0), (3724, 0.0), (3726, 0.0), (3727, 0.0), (3729, 0.0), (3730, 0.0), (3732, 0.0), (3735, 0.0), (3736, 0.0), (3738, 0.0), (3740, 0.0), (3743, 0.0), (3744, 0.0), (3745, 0.0), (3748, 0.0), (3749, 0.0), (3754, 0.0), (3755, 0.0), (3758, 0.0), (3759, 0.0), (3760, 0.0), (3761, 0.0), (3762, 0.0), (3764, 0.0), (3766, 0.0), (3768, 0.0), (3779, 0.0), (3781, 0.0), (3783, 0.0), (3785, 0.0), (3786, 0.0), (3789, 0.0), (3790, 0.0), (3791, 0.0), (3796, 0.0), (3798, 0.0), (3799, 0.0), (3800, 0.0), (3802, 0.0), (3803, 0.0), (3804, 0.0), (3805, 0.0), (3808, 0.0), (3809, 0.0), (3810, 0.0), (3812, 0.0), (3813, 0.0), (3816, 0.0), (3817, 0.0), (3818, 0.0), (3820, 0.0), (3827, 0.0), (3828, 0.0), (3830, 0.0), (3831, 0.0), (3832, 0.0), (3834, 0.0), (3836, 0.0), (3837, 0.0), (3838, 0.0), (3840, 0.0), (3843, 0.0), (3844, 0.0), (3846, 0.0), (3847, 0.0), (3848, 0.0), (3851, 0.0), (3856, 0.0), (3858, 0.0), (3859, 0.0), (3869, 0.0), (3870, 0.0), (3874, 0.0), (3879, 0.0), (3883, 0.0), (3884, 0.0), (3885, 0.0), (3887, 0.0), (3891, 0.0), (3892, 0.0), (3896, 0.0), (3898, 0.0), (3899, 0.0), (3900, 0.0), (3902, 0.0), (3904, 0.0), (3911, 0.0), (3912, 0.0), (3914, 0.0), (3918, 0.0), (3921, 0.0), (3922, 0.0), (3925, 0.0), (3928, 0.0), (3929, 0.0), (3930, 0.0), (3931, 0.0), (3933, 0.0), (3935, 0.0), (3936, 0.0), (3937, 0.0), (3939, 0.0), (3942, 0.0), (3943, 0.0), (3945, 0.0), (3948, 0.0), (3949, 0.0), (3950, 0.0), (3952, 0.0), (3964, 0.0), (3965, 0.0), (3967, 0.0), (3968, 0.0), (3969, 0.0), (3971, 0.0), (3972, 0.0), (3975, 0.0), (3977, 0.0), (3979, 0.0), (3980, 0.0), (3981, 0.0), (3982, 0.0), (3984, 0.0), (3985, 0.0), (3987, 0.0), (3988, 0.0), (3990, 0.0), (3991, 0.0), (3992, 0.0), (3994, 0.0), (3996, 0.0), (3999, 0.0), (4003, 0.0), (4006, 0.0), (4007, 0.0), (4010, 0.0), (4014, 0.0), (4017, 0.0), (4018, 0.0), (4019, 0.0), (4021, 0.0), (4022, 0.0), (4023, 0.0), (4024, 0.0), (4026, 0.0), (4027, 0.0), (4028, 0.0), (4029, 0.0), (4030, 0.0), (4031, 0.0), (4032, 0.0), (4034, 0.0), (4037, 0.0), (4040, 0.0), (4041, 0.0), (4042, 0.0), (4043, 0.0), (4047, 0.0), (4048, 0.0), (4052, 0.0), (4058, 0.0), (4062, 0.0), (4063, 0.0), (4064, 0.0), (4065, 0.0), (4067, 0.0), (4070, 0.0), (4072, 0.0), (4073, 0.0), (4075, 0.0), (4078, 0.0), (4079, 0.0), (4082, 0.0), (4084, 0.0), (4086, 0.0), (4091, 0.0), (4092, 0.0), (4097, 0.0), (4100, 0.0), (4102, 0.0), (4107, 0.0), (4108, 0.0), (4109, 0.0), (4111, 0.0), (4112, 0.0), (4114, 0.0), (4115, 0.0), (4122, 0.0), (4125, 0.0), (4126, 0.0), (4127, 0.0), (4129, 0.0), (4131, 0.0), (4133, 0.0), (4134, 0.0), (4138, 0.0), (4144, 0.0), (4145, 0.0), (4146, 0.0), (4147, 0.0), (4150, 0.0), (4153, 0.0), (4157, 0.0), (4159, 0.0), (4160, 0.0), (4161, 0.0), (4162, 0.0), (4163, 0.0), (4166, 0.0), (4167, 0.0), (4168, 0.0), (4169, 0.0), (4170, 0.0), (4172, 0.0), (4173, 0.0), (4177, 0.0), (4179, 0.0), (4180, 0.0), (4181, 0.0), (4185, 0.0), (4186, 0.0), (4188, 0.0), (4190, 0.0), (4191, 0.0), (4194, 0.0), (4198, 0.0), (4199, 0.0), (4201, 0.0), (4202, 0.0), (4204, 0.0), (4207, 0.0), (4208, 0.0), (4212, 0.0), (4213, 0.0), (4214, 0.0), (4215, 0.0), (4218, 0.0), (4219, 0.0), (4221, 0.0), (4222, 0.0), (4223, 0.0), (4224, 0.0), (4225, 0.0), (4227, 0.0), (4228, 0.0), (4229, 0.0), (4230, 0.0), (4231, 0.0), (4234, 0.0), (4237, 0.0), (4238, 0.0), (4239, 0.0), (4241, 0.0), (4242, 0.0), (4243, 0.0), (4244, 0.0), (4245, 0.0), (4249, 0.0), (4250, 0.0), (4253, 0.0), (4256, 0.0), (4258, 0.0), (4260, 0.0), (4263, 0.0), (4270, 0.0), (4271, 0.0), (4276, 0.0), (4278, 0.0), (4279, 0.0), (4285, 0.0), (4291, 0.0), (4293, 0.0), (4295, 0.0), (4296, 0.0), (4297, 0.0), (4298, 0.0), (4300, 0.0), (4301, 0.0), (4302, 0.0), (4305, 0.0), (4306, 0.0), (4308, 0.0), (4311, 0.0), (4313, 0.0), (4315, 0.0), (4316, 0.0), (4317, 0.0), (4318, 0.0), (4319, 0.0), (4323, 0.0), (4324, 0.0), (4326, 0.0), (4327, 0.0), (4329, 0.0), (4332, 0.0), (4338, 0.0), (4341, 0.0), (4346, 0.0), (4347, 0.0), (4351, 0.0), (4352, 0.0), (4353, 0.0), (4354, 0.0), (4357, 0.0), (4358, 0.0), (4364, 0.0), (4370, 0.0), (4372, 0.0), (4386, 0.0), (4390, 0.0), (4391, 0.0), (4393, 0.0), (4397, 0.0), (4400, 0.0), (4404, 0.0), (4405, 0.0), (4406, 0.0), (4407, 0.0), (4408, 0.0), (4410, 0.0), (4412, 0.0), (4413, 0.0), (4414, 0.0), (4415, 0.0), (4416, 0.0), (4417, 0.0), (4418, 0.0), (4419, 0.0), (4421, 0.0), (4422, 0.0), (4423, 0.0), (4424, 0.0), (4425, 0.0), (4429, 0.0), (4430, 0.0), (4433, 0.0), (4434, 0.0), (4437, 0.0), (4439, 0.0), (4440, 0.0), (4443, 0.0), (4444, 0.0), (4447, 0.0), (4449, 0.0), (4451, 0.0), (4453, 0.0), (4454, 0.0), (4455, 0.0), (4457, 0.0), (4458, 0.0), (4460, 0.0), (4461, 0.0), (4463, 0.0), (4464, 0.0), (4469, 0.0), (4471, 0.0), (4475, 0.0), (4478, 0.0), (4480, 0.0), (4483, 0.0), (4484, 0.0), (4485, 0.0), (4490, 0.0), (4491, 0.0), (4493, 0.0), (4496, 0.0), (4498, 0.0), (4499, 0.0), (4500, 0.0), (4506, 0.0), (4507, 0.0), (4508, 0.0), (4509, 0.0), (4512, 0.0), (4514, 0.0), (4515, 0.0), (4516, 0.0), (4519, 0.0), (4520, 0.0), (4521, 0.0), (4522, 0.0), (4525, 0.0), (4526, 0.0), (4527, 0.0), (4528, 0.0), (4529, 0.0), (4530, 0.0), (4532, 0.0), (4537, 0.0), (4539, 0.0), (4540, 0.0), (4541, 0.0), (4542, 0.0), (4544, 0.0), (4546, 0.0), (4547, 0.0), (4549, 0.0), (4554, 0.0), (4555, 0.0), (4556, 0.0), (4558, 0.0), (4559, 0.0), (4560, 0.0), (4561, 0.0), (4562, 0.0), (4565, 0.0), (4568, 0.0), (4569, 0.0), (4570, 0.0), (4571, 0.0), (4572, 0.0), (4573, 0.0), (4577, 0.0), (4578, 0.0), (4579, 0.0), (4580, 0.0), (4586, 0.0), (4589, 0.0), (4592, 0.0), (4593, 0.0), (4597, 0.0), (4599, 0.0), (4600, 0.0), (4603, 0.0), (4607, 0.0), (4608, 0.0), (4609, 0.0), (4611, 0.0), (4613, 0.0), (4615, 0.0), (4616, 0.0), (4617, 0.0), (4618, 0.0), (4619, 0.0), (4622, 0.0), (4625, 0.0), (4628, 0.0), (4631, 0.0), (4632, 0.0), (4635, 0.0), (4637, 0.0), (4642, 0.0), (4643, 0.0), (4644, 0.0), (4645, 0.0), (4646, 0.0), (4647, 0.0), (4648, 0.0), (4651, 0.0), (4654, 0.0), (4655, 0.0), (4656, 0.0), (4657, 0.0), (4659, 0.0), (4660, 0.0), (4662, 0.0), (4666, 0.0), (4667, 0.0), (4668, 0.0), (4671, 0.0), (4672, 0.0), (4675, 0.0), (4676, 0.0), (4681, 0.0), (4683, 0.0), (4688, 0.0), (4690, 0.0), (4691, 0.0), (4693, 0.0), (4694, 0.0), (4695, 0.0), (4696, 0.0), (4697, 0.0), (4698, 0.0), (4699, 0.0), (4700, 0.0), (4701, 0.0), (4702, 0.0), (4704, 0.0), (4705, 0.0), (4706, 0.0), (4707, 0.0), (4709, 0.0), (4710, 0.0), (4711, 0.0), (4713, 0.0), (4714, 0.0), (4716, 0.0), (4717, 0.0), (4718, 0.0), (4719, 0.0), (4720, 0.0), (4721, 0.0), (4722, 0.0), (4723, 0.0), (4724, 0.0), (4725, 0.0), (4727, 0.0), (4728, 0.0), (4729, 0.0), (4730, 0.0), (4731, 0.0), (4734, 0.0), (4735, 0.0), (4736, 0.0), (4737, 0.0), (4739, 0.0), (4740, 0.0), (4741, 0.0), (4742, 0.0), (4744, 0.0), (4745, 0.0), (4746, 0.0), (4747, 0.0), (4749, 0.0), (4750, 0.0), (4751, 0.0), (4753, 0.0), (4754, 0.0), (4755, 0.0), (4756, 0.0), (4758, 0.0), (4759, 0.0)]\n"
          ]
        }
      ]
    },
    {
      "cell_type": "code",
      "source": [
        "print(\"Top 30 movies suggested for you : \\n\")\n",
        "i=1\n",
        "for movie in Sorted_Similar_Movies:\n",
        "  index= movie[0]\n",
        "  title_from_index = df[df.index== index]['Movie_Title'].values[0]\n",
        "  if (i<31):\n",
        "    print(i,'.',title_from_index)\n",
        "    i+=1"
      ],
      "metadata": {
        "colab": {
          "base_uri": "https://localhost:8080/"
        },
        "id": "_FOrmXyW0BfZ",
        "outputId": "c5929705-8f1a-458f-e02f-1f405ecd2dec"
      },
      "execution_count": 45,
      "outputs": [
        {
          "output_type": "stream",
          "name": "stdout",
          "text": [
            "Top 30 movies suggested for you : \n",
            "\n",
            "1 . Niagara\n",
            "2 . Brokeback Mountain\n",
            "3 . Harry Brown\n",
            "4 . Night of the Living Dead\n",
            "5 . The Curse of Downers Grove\n",
            "6 . The Boy Next Door\n",
            "7 . Back to the Future\n",
            "8 . Some Like It Hot\n",
            "9 . The Juror\n",
            "10 . The Kentucky Fried Movie\n",
            "11 . Enough\n",
            "12 . Eye for an Eye\n",
            "13 . The Misfits\n",
            "14 . Alice Through the Looking Glass\n",
            "15 . Superman III\n",
            "16 . Premium Rush\n",
            "17 . Duel in the Sun\n",
            "18 . Sabotage\n",
            "19 . Small Soldiers\n",
            "20 . The Raid\n",
            "21 . All That Jazz\n",
            "22 . Beyond the Black Rainbow\n",
            "23 . Tora! Tora! Tora!\n",
            "24 . We Are Your Friends\n",
            "25 . The Dark Knight Rises\n",
            "26 . Edge of Darkness\n",
            "27 . World Trade Center\n",
            "28 . Dallas Buyers Club\n",
            "29 . Out of Time\n",
            "30 . Mad Max 2: The Road Warrior\n"
          ]
        }
      ]
    },
    {
      "cell_type": "code",
      "source": [],
      "metadata": {
        "id": "hvMx2lDk0Mn8"
      },
      "execution_count": null,
      "outputs": []
    },
    {
      "cell_type": "markdown",
      "source": [
        "# **Top 10 Movie Recommendation System**"
      ],
      "metadata": {
        "id": "a34W4T891Fv4"
      }
    },
    {
      "cell_type": "code",
      "source": [
        "Movie_Name = input(\"Enter your favorite movie name : \")\n",
        "List_of_all_titles = df['Movie_Title'].tolist()\n",
        "Find_Close_Match = difflib.get_close_matches(Movie_Name,List_of_all_titles)\n",
        "Close_Match = Find_Close_Match[0]\n",
        "Index_of_Movie = df[df.Movie_Title == Close_Match]['Movie_ID'].values[0]\n",
        "Recommendation_Score = list(enumerate(Similarity_Score[Index_of_Movie]))\n",
        "sorted_similar_movies = sorted(Recommendation_Score,key = lambda x:x[1],reverse=True)\n",
        "print(\"Top 30 movies suggested for you : \\n\")\n",
        "i=1\n",
        "for movie in sorted_similar_movies:\n",
        "  index=movie[0]\n",
        "  title_from_index = df[df.Movie_ID == index]['Movie_Title'].values\n",
        "  if (i<11):\n",
        "    print(i,'.',title_from_index)\n",
        "    i+=1\n"
      ],
      "metadata": {
        "colab": {
          "base_uri": "https://localhost:8080/"
        },
        "id": "rGwfBtGM1M3q",
        "outputId": "c3343547-82dc-4643-e3d7-a155e1957c52"
      },
      "execution_count": 51,
      "outputs": [
        {
          "output_type": "stream",
          "name": "stdout",
          "text": [
            "Enter your favorite movie name : avtaar\n",
            "Top 30 movies suggested for you : \n",
            "\n",
            "1 . ['Avatar']\n",
            "2 . ['Donnie Darko']\n",
            "3 . ['Precious']\n",
            "4 . ['Freaky Friday']\n",
            "5 . ['The Opposite Sex']\n",
            "6 . ['Heaven is for Real']\n",
            "7 . ['Run Lola Run']\n",
            "8 . ['The Godfather']\n",
            "9 . ['Elizabethtown']\n",
            "10 . ['New Nightmare']\n"
          ]
        }
      ]
    }
  ]
}